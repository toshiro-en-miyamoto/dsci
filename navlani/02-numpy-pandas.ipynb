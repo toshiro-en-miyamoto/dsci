{
 "cells": [
  {
   "cell_type": "markdown",
   "id": "b6cc93bd-7300-461e-b127-54f48cf379ba",
   "metadata": {},
   "source": [
    "# 2 NumPy and Pandas"
   ]
  },
  {
   "cell_type": "markdown",
   "id": "2cf8581e-928a-4d7e-aa99-d84496dc194d",
   "metadata": {
    "tags": []
   },
   "source": [
    "## The `numpy` library"
   ]
  },
  {
   "cell_type": "code",
   "execution_count": 1,
   "id": "4fb74838-a053-484b-977c-12efbabc0b3f",
   "metadata": {},
   "outputs": [],
   "source": [
    "import numpy as np"
   ]
  },
  {
   "cell_type": "markdown",
   "id": "6684cdcd-a9e8-4428-bb9e-775243e9aa2e",
   "metadata": {
    "tags": []
   },
   "source": [
    "### `numpy.ndarray`"
   ]
  },
  {
   "cell_type": "code",
   "execution_count": 2,
   "id": "4dadc6b4-0c1f-46c6-afe5-79e6d3b49972",
   "metadata": {},
   "outputs": [],
   "source": [
    "a = np.random.default_rng(42).random((2,3))"
   ]
  },
  {
   "cell_type": "code",
   "execution_count": 3,
   "id": "096d00be-a897-4d07-a7e6-05888a1b6fdd",
   "metadata": {},
   "outputs": [
    {
     "data": {
      "text/plain": [
       "array([[0.77395605, 0.43887844, 0.85859792],\n",
       "       [0.69736803, 0.09417735, 0.97562235]])"
      ]
     },
     "execution_count": 3,
     "metadata": {},
     "output_type": "execute_result"
    }
   ],
   "source": [
    "a"
   ]
  },
  {
   "cell_type": "markdown",
   "id": "5ee0700e-a063-4ca1-841f-18a060b2beea",
   "metadata": {},
   "source": [
    "The type of arrays NumPy implements is the N-dimention array `ndarray`."
   ]
  },
  {
   "cell_type": "code",
   "execution_count": 4,
   "id": "c8c090cd-f7ca-47e0-80e2-35fa9755e2db",
   "metadata": {},
   "outputs": [
    {
     "data": {
      "text/plain": [
       "numpy.ndarray"
      ]
     },
     "execution_count": 4,
     "metadata": {},
     "output_type": "execute_result"
    }
   ],
   "source": [
    "type(a)"
   ]
  },
  {
   "cell_type": "markdown",
   "id": "cab581e4-139c-4f85-ab12-1c8cd4cb4b68",
   "metadata": {},
   "source": [
    "The data type of elements in the above array is"
   ]
  },
  {
   "cell_type": "code",
   "execution_count": 5,
   "id": "8300c9f2-db97-4230-95e6-e1f56fa99775",
   "metadata": {},
   "outputs": [
    {
     "data": {
      "text/plain": [
       "dtype('float64')"
      ]
     },
     "execution_count": 5,
     "metadata": {},
     "output_type": "execute_result"
    }
   ],
   "source": [
    "a.dtype"
   ]
  },
  {
   "cell_type": "markdown",
   "id": "e2ebde58-2534-495d-bc38-054333cb510b",
   "metadata": {},
   "source": [
    "The size of the array is (2, 3) &mdash; 2 rows, 3 columns."
   ]
  },
  {
   "cell_type": "code",
   "execution_count": 6,
   "id": "2179fd7b-76df-4898-b764-f4d11e6f0f16",
   "metadata": {},
   "outputs": [
    {
     "data": {
      "text/plain": [
       "(2, 3)"
      ]
     },
     "execution_count": 6,
     "metadata": {},
     "output_type": "execute_result"
    }
   ],
   "source": [
    "a.shape"
   ]
  },
  {
   "cell_type": "markdown",
   "id": "b1c8f8dd-435b-484f-915d-f25a69c684cc",
   "metadata": {},
   "source": [
    "Selecting array elements is pretty simple. We just need to specify the index of the matrix as `a[m,n]`. Here, `m` is the row index and `n` is the column index of the matrix."
   ]
  },
  {
   "cell_type": "code",
   "execution_count": 7,
   "id": "d44bfe9c-287f-4d74-b4ba-19cfedb67d17",
   "metadata": {},
   "outputs": [
    {
     "data": {
      "text/plain": [
       "0.4388784397520523"
      ]
     },
     "execution_count": 7,
     "metadata": {},
     "output_type": "execute_result"
    }
   ],
   "source": [
    "a[0, 1]"
   ]
  },
  {
   "cell_type": "markdown",
   "id": "27ebb9df-80f3-4f63-bf17-9c9da3dd256b",
   "metadata": {
    "tags": []
   },
   "source": [
    "### Broadcasting"
   ]
  },
  {
   "cell_type": "markdown",
   "id": "2fc5b4a1-9b53-461b-92eb-0ec1109694a4",
   "metadata": {},
   "source": [
    "NumPy operations are usually done on pairs of arrays on an element-by-element basis. In the simplest case, the two arrays must have exactly the same shape, as in the following example:"
   ]
  },
  {
   "cell_type": "code",
   "execution_count": 8,
   "id": "bbce34ca-d14e-46fa-ab99-4fa0e558828a",
   "metadata": {},
   "outputs": [],
   "source": [
    "b = np.random.default_rng(51).random((2,3))"
   ]
  },
  {
   "cell_type": "code",
   "execution_count": 9,
   "id": "ca997c91-6102-468b-bbdb-e028f9c7b323",
   "metadata": {},
   "outputs": [
    {
     "data": {
      "text/plain": [
       "array([[0.77395605, 0.43887844, 0.85859792],\n",
       "       [0.69736803, 0.09417735, 0.97562235]])"
      ]
     },
     "execution_count": 9,
     "metadata": {},
     "output_type": "execute_result"
    }
   ],
   "source": [
    "a"
   ]
  },
  {
   "cell_type": "code",
   "execution_count": 10,
   "id": "2aad765d-e3cf-4406-a38a-4a8edb081361",
   "metadata": {},
   "outputs": [
    {
     "data": {
      "text/plain": [
       "array([[0.9424412 , 0.30713836, 0.25490663],\n",
       "       [0.22261852, 0.78620422, 0.21670804]])"
      ]
     },
     "execution_count": 10,
     "metadata": {},
     "output_type": "execute_result"
    }
   ],
   "source": [
    "b"
   ]
  },
  {
   "cell_type": "code",
   "execution_count": 11,
   "id": "e15f39b1-8d7c-4b9a-ba22-fbb6a7a6480c",
   "metadata": {},
   "outputs": [
    {
     "data": {
      "text/plain": [
       "array([[1.71639724, 0.7460168 , 1.11350455],\n",
       "       [0.91998655, 0.88038157, 1.1923304 ]])"
      ]
     },
     "execution_count": 11,
     "metadata": {},
     "output_type": "execute_result"
    }
   ],
   "source": [
    "a + b"
   ]
  },
  {
   "cell_type": "code",
   "execution_count": 12,
   "id": "1419c836-363d-4271-9182-f2c10533e698",
   "metadata": {},
   "outputs": [
    {
     "data": {
      "text/plain": [
       "array([[-0.16848515,  0.13174008,  0.60369129],\n",
       "       [ 0.4747495 , -0.69202687,  0.75891431]])"
      ]
     },
     "execution_count": 12,
     "metadata": {},
     "output_type": "execute_result"
    }
   ],
   "source": [
    "a - b"
   ]
  },
  {
   "cell_type": "code",
   "execution_count": 13,
   "id": "15dc9d0c-b772-4425-b147-03b4c2664bd9",
   "metadata": {},
   "outputs": [
    {
     "data": {
      "text/plain": [
       "array([[0.72940806, 0.1347964 , 0.21886231],\n",
       "       [0.15524704, 0.07404263, 0.21142521]])"
      ]
     },
     "execution_count": 13,
     "metadata": {},
     "output_type": "execute_result"
    }
   ],
   "source": [
    "a * b"
   ]
  },
  {
   "cell_type": "code",
   "execution_count": 14,
   "id": "a0761c6c-ef50-4a8b-b1ba-94e13ffcee6e",
   "metadata": {},
   "outputs": [
    {
     "data": {
      "text/plain": [
       "array([[0.82122476, 1.42892747, 3.36828393],\n",
       "       [3.13256962, 0.11978739, 4.50201262]])"
      ]
     },
     "execution_count": 14,
     "metadata": {},
     "output_type": "execute_result"
    }
   ],
   "source": [
    "a / b"
   ]
  },
  {
   "cell_type": "markdown",
   "id": "e4ade7ba-f8b0-41e5-ba1d-fed39400abf6",
   "metadata": {},
   "source": [
    "NumPy’s broadcasting rule relaxes this constraint when the arrays’ shapes meet certain constraints. The simplest broadcasting example occurs when an array and a scalar value are combined in an operation:"
   ]
  },
  {
   "cell_type": "code",
   "execution_count": 15,
   "id": "25b64766-7043-4a24-a9aa-1e987246fa59",
   "metadata": {},
   "outputs": [
    {
     "data": {
      "text/plain": [
       "array([[0.77395605, 0.43887844, 0.85859792],\n",
       "       [0.69736803, 0.09417735, 0.97562235]])"
      ]
     },
     "execution_count": 15,
     "metadata": {},
     "output_type": "execute_result"
    }
   ],
   "source": [
    "a"
   ]
  },
  {
   "cell_type": "code",
   "execution_count": 16,
   "id": "09b7fbe5-252a-4b9f-b7c3-d341d85e072b",
   "metadata": {},
   "outputs": [
    {
     "data": {
      "text/plain": [
       "array([[0.78395605, 0.44887844, 0.86859792],\n",
       "       [0.70736803, 0.10417735, 0.98562235]])"
      ]
     },
     "execution_count": 16,
     "metadata": {},
     "output_type": "execute_result"
    }
   ],
   "source": [
    "a + 0.01"
   ]
  },
  {
   "cell_type": "code",
   "execution_count": 17,
   "id": "bd1e1505-090c-4ab3-9a95-dae1776b860a",
   "metadata": {},
   "outputs": [
    {
     "data": {
      "text/plain": [
       "array([[0.76395605, 0.42887844, 0.84859792],\n",
       "       [0.68736803, 0.08417735, 0.96562235]])"
      ]
     },
     "execution_count": 17,
     "metadata": {},
     "output_type": "execute_result"
    }
   ],
   "source": [
    "a - 0.01"
   ]
  },
  {
   "cell_type": "code",
   "execution_count": 18,
   "id": "65164307-5cb2-46b2-9b0e-f3953dc6f0d7",
   "metadata": {},
   "outputs": [
    {
     "data": {
      "text/plain": [
       "array([[1.5479121 , 0.87775688, 1.71719584],\n",
       "       [1.39473606, 0.1883547 , 1.9512447 ]])"
      ]
     },
     "execution_count": 18,
     "metadata": {},
     "output_type": "execute_result"
    }
   ],
   "source": [
    "a * 2"
   ]
  },
  {
   "cell_type": "code",
   "execution_count": 19,
   "id": "42cae00c-0573-4c01-b39c-b24237bc7b57",
   "metadata": {},
   "outputs": [
    {
     "data": {
      "text/plain": [
       "array([[0.38697802, 0.21943922, 0.42929896],\n",
       "       [0.34868401, 0.04708867, 0.48781118]])"
      ]
     },
     "execution_count": 19,
     "metadata": {},
     "output_type": "execute_result"
    }
   ],
   "source": [
    "a / 2"
   ]
  },
  {
   "cell_type": "markdown",
   "id": "cf96603c-7ff6-42ff-afb5-f6c2efb35646",
   "metadata": {},
   "source": [
    "## The `pandas` library"
   ]
  },
  {
   "cell_type": "code",
   "execution_count": 20,
   "id": "960e0be3-01fc-4156-bbaa-b54acade735f",
   "metadata": {},
   "outputs": [],
   "source": [
    "import pandas as pd"
   ]
  },
  {
   "cell_type": "markdown",
   "id": "c452e167-0c2d-4874-82ae-5ba647515b53",
   "metadata": {
    "tags": []
   },
   "source": [
    "### `Series`"
   ]
  },
  {
   "cell_type": "markdown",
   "id": "bb317404-674d-45bd-87a8-41606539a236",
   "metadata": {},
   "source": [
    "`Series` is a one-dimensional labeled array capable of holding any data type (integers, strings, floating point numbers, Python objects, etc.). The axis labels are collectively referred to as the *index*."
   ]
  },
  {
   "cell_type": "code",
   "execution_count": 21,
   "id": "50706ae3-a74a-4a41-b7af-e34345b86182",
   "metadata": {},
   "outputs": [],
   "source": [
    "s = pd.Series(np.random.randn(5), index=['a', 'b', 'c', 'd', 'e'])"
   ]
  },
  {
   "cell_type": "code",
   "execution_count": 22,
   "id": "a3f465d9-337a-4d51-9238-7ae7016f5dfd",
   "metadata": {},
   "outputs": [
    {
     "data": {
      "text/plain": [
       "a   -1.232586\n",
       "b   -0.220167\n",
       "c    0.955787\n",
       "d   -0.911245\n",
       "e   -1.332573\n",
       "dtype: float64"
      ]
     },
     "execution_count": 22,
     "metadata": {},
     "output_type": "execute_result"
    }
   ],
   "source": [
    "s"
   ]
  },
  {
   "cell_type": "code",
   "execution_count": 23,
   "id": "22586c33-c521-4aef-bc0f-06697f2d3152",
   "metadata": {},
   "outputs": [
    {
     "data": {
      "text/plain": [
       "Index(['a', 'b', 'c', 'd', 'e'], dtype='object')"
      ]
     },
     "execution_count": 23,
     "metadata": {},
     "output_type": "execute_result"
    }
   ],
   "source": [
    "s.index"
   ]
  },
  {
   "cell_type": "code",
   "execution_count": 24,
   "id": "26a96f04-b987-4b0e-b006-9b1ac5619a7c",
   "metadata": {},
   "outputs": [
    {
     "data": {
      "text/plain": [
       "-1.232586090096256"
      ]
     },
     "execution_count": 24,
     "metadata": {},
     "output_type": "execute_result"
    }
   ],
   "source": [
    "s['a']"
   ]
  },
  {
   "cell_type": "code",
   "execution_count": 25,
   "id": "f3d025a4-eb94-46f2-9e64-ce4740cb5b92",
   "metadata": {},
   "outputs": [
    {
     "data": {
      "text/plain": [
       "c    0.955787\n",
       "d   -0.911245\n",
       "e   -1.332573\n",
       "dtype: float64"
      ]
     },
     "execution_count": 25,
     "metadata": {},
     "output_type": "execute_result"
    }
   ],
   "source": [
    "s['c':]"
   ]
  },
  {
   "cell_type": "markdown",
   "id": "abbbee12-efb8-4829-96bd-e7c0fa28e777",
   "metadata": {},
   "source": [
    "If no index is passed, one will be created having values `[0, ..., len(data) - 1]`."
   ]
  },
  {
   "cell_type": "code",
   "execution_count": 26,
   "id": "fb7e3d15-7a5a-4004-b6ae-e1182e35208e",
   "metadata": {},
   "outputs": [
    {
     "data": {
      "text/plain": [
       "0   -0.289766\n",
       "1   -0.340723\n",
       "2    0.041206\n",
       "3   -2.069280\n",
       "4    1.463924\n",
       "dtype: float64"
      ]
     },
     "execution_count": 26,
     "metadata": {},
     "output_type": "execute_result"
    }
   ],
   "source": [
    "pd.Series(np.random.randn(5))"
   ]
  },
  {
   "cell_type": "markdown",
   "id": "dd0a16ed-ed31-4e1c-b342-4aea79aad9e0",
   "metadata": {
    "tags": []
   },
   "source": [
    "### `DataFrame`"
   ]
  },
  {
   "cell_type": "markdown",
   "id": "2bf1f64c-5090-440e-975f-99e0eb07e8f8",
   "metadata": {},
   "source": [
    "`DataFrame` is a 2-dimensional labeled data structure with columns of potentially different types."
   ]
  },
  {
   "cell_type": "code",
   "execution_count": 27,
   "id": "7cbdc74c-685c-4b11-8c70-89d08bda0016",
   "metadata": {},
   "outputs": [],
   "source": [
    "df = pd.read_csv('./data/WHO_first9cols.csv')"
   ]
  },
  {
   "cell_type": "code",
   "execution_count": 28,
   "id": "5fc61359-68f4-4bdb-b303-820c781ce60b",
   "metadata": {},
   "outputs": [
    {
     "data": {
      "text/html": [
       "<div>\n",
       "<style scoped>\n",
       "    .dataframe tbody tr th:only-of-type {\n",
       "        vertical-align: middle;\n",
       "    }\n",
       "\n",
       "    .dataframe tbody tr th {\n",
       "        vertical-align: top;\n",
       "    }\n",
       "\n",
       "    .dataframe thead th {\n",
       "        text-align: right;\n",
       "    }\n",
       "</style>\n",
       "<table border=\"1\" class=\"dataframe\">\n",
       "  <thead>\n",
       "    <tr style=\"text-align: right;\">\n",
       "      <th></th>\n",
       "      <th>Country</th>\n",
       "      <th>CountryID</th>\n",
       "      <th>Continent</th>\n",
       "      <th>Adolescent fertility rate (%)</th>\n",
       "      <th>Adult literacy rate (%)</th>\n",
       "      <th>Gross national income per capita (PPP international $)</th>\n",
       "      <th>Net primary school enrolment ratio female (%)</th>\n",
       "      <th>Net primary school enrolment ratio male (%)</th>\n",
       "      <th>Population (in thousands) total</th>\n",
       "    </tr>\n",
       "  </thead>\n",
       "  <tbody>\n",
       "    <tr>\n",
       "      <th>0</th>\n",
       "      <td>Afghanistan</td>\n",
       "      <td>1</td>\n",
       "      <td>1</td>\n",
       "      <td>151.0</td>\n",
       "      <td>28.0</td>\n",
       "      <td>NaN</td>\n",
       "      <td>NaN</td>\n",
       "      <td>NaN</td>\n",
       "      <td>26088.0</td>\n",
       "    </tr>\n",
       "    <tr>\n",
       "      <th>1</th>\n",
       "      <td>Albania</td>\n",
       "      <td>2</td>\n",
       "      <td>2</td>\n",
       "      <td>27.0</td>\n",
       "      <td>98.7</td>\n",
       "      <td>6000.0</td>\n",
       "      <td>93.0</td>\n",
       "      <td>94.0</td>\n",
       "      <td>3172.0</td>\n",
       "    </tr>\n",
       "    <tr>\n",
       "      <th>2</th>\n",
       "      <td>Algeria</td>\n",
       "      <td>3</td>\n",
       "      <td>3</td>\n",
       "      <td>6.0</td>\n",
       "      <td>69.9</td>\n",
       "      <td>5940.0</td>\n",
       "      <td>94.0</td>\n",
       "      <td>96.0</td>\n",
       "      <td>33351.0</td>\n",
       "    </tr>\n",
       "    <tr>\n",
       "      <th>3</th>\n",
       "      <td>Andorra</td>\n",
       "      <td>4</td>\n",
       "      <td>2</td>\n",
       "      <td>NaN</td>\n",
       "      <td>NaN</td>\n",
       "      <td>NaN</td>\n",
       "      <td>83.0</td>\n",
       "      <td>83.0</td>\n",
       "      <td>74.0</td>\n",
       "    </tr>\n",
       "    <tr>\n",
       "      <th>4</th>\n",
       "      <td>Angola</td>\n",
       "      <td>5</td>\n",
       "      <td>3</td>\n",
       "      <td>146.0</td>\n",
       "      <td>67.4</td>\n",
       "      <td>3890.0</td>\n",
       "      <td>49.0</td>\n",
       "      <td>51.0</td>\n",
       "      <td>16557.0</td>\n",
       "    </tr>\n",
       "  </tbody>\n",
       "</table>\n",
       "</div>"
      ],
      "text/plain": [
       "       Country  CountryID  Continent  Adolescent fertility rate (%)  \\\n",
       "0  Afghanistan          1          1                          151.0   \n",
       "1      Albania          2          2                           27.0   \n",
       "2      Algeria          3          3                            6.0   \n",
       "3      Andorra          4          2                            NaN   \n",
       "4       Angola          5          3                          146.0   \n",
       "\n",
       "   Adult literacy rate (%)  \\\n",
       "0                     28.0   \n",
       "1                     98.7   \n",
       "2                     69.9   \n",
       "3                      NaN   \n",
       "4                     67.4   \n",
       "\n",
       "   Gross national income per capita (PPP international $)  \\\n",
       "0                                                NaN        \n",
       "1                                             6000.0        \n",
       "2                                             5940.0        \n",
       "3                                                NaN        \n",
       "4                                             3890.0        \n",
       "\n",
       "   Net primary school enrolment ratio female (%)  \\\n",
       "0                                            NaN   \n",
       "1                                           93.0   \n",
       "2                                           94.0   \n",
       "3                                           83.0   \n",
       "4                                           49.0   \n",
       "\n",
       "   Net primary school enrolment ratio male (%)  \\\n",
       "0                                          NaN   \n",
       "1                                         94.0   \n",
       "2                                         96.0   \n",
       "3                                         83.0   \n",
       "4                                         51.0   \n",
       "\n",
       "   Population (in thousands) total  \n",
       "0                          26088.0  \n",
       "1                           3172.0  \n",
       "2                          33351.0  \n",
       "3                             74.0  \n",
       "4                          16557.0  "
      ]
     },
     "execution_count": 28,
     "metadata": {},
     "output_type": "execute_result"
    }
   ],
   "source": [
    "df.head()"
   ]
  },
  {
   "cell_type": "code",
   "execution_count": 29,
   "id": "bcc9740d-f608-44f6-9fdf-d572371e8d54",
   "metadata": {},
   "outputs": [
    {
     "data": {
      "text/plain": [
       "pandas.core.frame.DataFrame"
      ]
     },
     "execution_count": 29,
     "metadata": {},
     "output_type": "execute_result"
    }
   ],
   "source": [
    "type(df)"
   ]
  },
  {
   "cell_type": "code",
   "execution_count": 30,
   "id": "cc2e036c-0eeb-4366-b45a-4ac5a25312f7",
   "metadata": {},
   "outputs": [
    {
     "data": {
      "text/plain": [
       "(202, 9)"
      ]
     },
     "execution_count": 30,
     "metadata": {},
     "output_type": "execute_result"
    }
   ],
   "source": [
    "df.shape"
   ]
  },
  {
   "cell_type": "markdown",
   "id": "4bf43095-d84c-42af-b968-64faf3ffe9e7",
   "metadata": {},
   "source": [
    "You can think of it like a dict of `Series` objects."
   ]
  },
  {
   "cell_type": "code",
   "execution_count": 31,
   "id": "7d7f2650-2597-48eb-9a69-131ededd2544",
   "metadata": {},
   "outputs": [
    {
     "data": {
      "text/plain": [
       "0    Afghanistan\n",
       "1        Albania\n",
       "2        Algeria\n",
       "3        Andorra\n",
       "4         Angola\n",
       "Name: Country, dtype: object"
      ]
     },
     "execution_count": 31,
     "metadata": {},
     "output_type": "execute_result"
    }
   ],
   "source": [
    "df['Country'].head()"
   ]
  },
  {
   "cell_type": "code",
   "execution_count": 32,
   "id": "b456760d-bf78-4a7b-be12-9e63109c72a9",
   "metadata": {
    "tags": []
   },
   "outputs": [
    {
     "data": {
      "text/plain": [
       "pandas.core.series.Series"
      ]
     },
     "execution_count": 32,
     "metadata": {},
     "output_type": "execute_result"
    }
   ],
   "source": [
    "type(df['Country'])"
   ]
  },
  {
   "cell_type": "markdown",
   "id": "150a1ef9-0fd2-4d89-b646-e32338943dfd",
   "metadata": {
    "tags": []
   },
   "source": [
    "### Describing data"
   ]
  },
  {
   "cell_type": "markdown",
   "id": "4c747a4b-0ea2-405b-b585-c7dfb8eeab40",
   "metadata": {},
   "source": [
    "The `describe()` method will show most of the descriptive statistical measures for columns:"
   ]
  },
  {
   "cell_type": "code",
   "execution_count": 33,
   "id": "47a65ca0-17e7-44af-819d-74f82c72a3e3",
   "metadata": {},
   "outputs": [
    {
     "data": {
      "text/html": [
       "<div>\n",
       "<style scoped>\n",
       "    .dataframe tbody tr th:only-of-type {\n",
       "        vertical-align: middle;\n",
       "    }\n",
       "\n",
       "    .dataframe tbody tr th {\n",
       "        vertical-align: top;\n",
       "    }\n",
       "\n",
       "    .dataframe thead th {\n",
       "        text-align: right;\n",
       "    }\n",
       "</style>\n",
       "<table border=\"1\" class=\"dataframe\">\n",
       "  <thead>\n",
       "    <tr style=\"text-align: right;\">\n",
       "      <th></th>\n",
       "      <th>Adolescent fertility rate (%)</th>\n",
       "      <th>Adult literacy rate (%)</th>\n",
       "    </tr>\n",
       "  </thead>\n",
       "  <tbody>\n",
       "    <tr>\n",
       "      <th>count</th>\n",
       "      <td>177.000000</td>\n",
       "      <td>131.000000</td>\n",
       "    </tr>\n",
       "    <tr>\n",
       "      <th>mean</th>\n",
       "      <td>59.457627</td>\n",
       "      <td>78.871756</td>\n",
       "    </tr>\n",
       "    <tr>\n",
       "      <th>std</th>\n",
       "      <td>49.105286</td>\n",
       "      <td>20.415760</td>\n",
       "    </tr>\n",
       "    <tr>\n",
       "      <th>min</th>\n",
       "      <td>0.000000</td>\n",
       "      <td>23.600000</td>\n",
       "    </tr>\n",
       "    <tr>\n",
       "      <th>25%</th>\n",
       "      <td>19.000000</td>\n",
       "      <td>68.400000</td>\n",
       "    </tr>\n",
       "    <tr>\n",
       "      <th>50%</th>\n",
       "      <td>46.000000</td>\n",
       "      <td>86.500000</td>\n",
       "    </tr>\n",
       "    <tr>\n",
       "      <th>75%</th>\n",
       "      <td>91.000000</td>\n",
       "      <td>95.300000</td>\n",
       "    </tr>\n",
       "    <tr>\n",
       "      <th>max</th>\n",
       "      <td>199.000000</td>\n",
       "      <td>99.800000</td>\n",
       "    </tr>\n",
       "  </tbody>\n",
       "</table>\n",
       "</div>"
      ],
      "text/plain": [
       "       Adolescent fertility rate (%)  Adult literacy rate (%)\n",
       "count                     177.000000               131.000000\n",
       "mean                       59.457627                78.871756\n",
       "std                        49.105286                20.415760\n",
       "min                         0.000000                23.600000\n",
       "25%                        19.000000                68.400000\n",
       "50%                        46.000000                86.500000\n",
       "75%                        91.000000                95.300000\n",
       "max                       199.000000                99.800000"
      ]
     },
     "execution_count": 33,
     "metadata": {},
     "output_type": "execute_result"
    }
   ],
   "source": [
    "df[['Adolescent fertility rate (%)', 'Adult literacy rate (%)']].describe()"
   ]
  },
  {
   "cell_type": "code",
   "execution_count": 34,
   "id": "b0ce0bea-f379-48c1-96c0-6924415795f9",
   "metadata": {},
   "outputs": [
    {
     "data": {
      "text/html": [
       "<div>\n",
       "<style scoped>\n",
       "    .dataframe tbody tr th:only-of-type {\n",
       "        vertical-align: middle;\n",
       "    }\n",
       "\n",
       "    .dataframe tbody tr th {\n",
       "        vertical-align: top;\n",
       "    }\n",
       "\n",
       "    .dataframe thead th {\n",
       "        text-align: right;\n",
       "    }\n",
       "</style>\n",
       "<table border=\"1\" class=\"dataframe\">\n",
       "  <thead>\n",
       "    <tr style=\"text-align: right;\">\n",
       "      <th></th>\n",
       "      <th>count</th>\n",
       "      <th>mean</th>\n",
       "      <th>std</th>\n",
       "      <th>min</th>\n",
       "      <th>25%</th>\n",
       "      <th>50%</th>\n",
       "      <th>75%</th>\n",
       "      <th>max</th>\n",
       "    </tr>\n",
       "    <tr>\n",
       "      <th>Continent</th>\n",
       "      <th></th>\n",
       "      <th></th>\n",
       "      <th></th>\n",
       "      <th></th>\n",
       "      <th></th>\n",
       "      <th></th>\n",
       "      <th></th>\n",
       "      <th></th>\n",
       "    </tr>\n",
       "  </thead>\n",
       "  <tbody>\n",
       "    <tr>\n",
       "      <th>1</th>\n",
       "      <td>18.0</td>\n",
       "      <td>76.900000</td>\n",
       "      <td>16.647911</td>\n",
       "      <td>28.0</td>\n",
       "      <td>74.150</td>\n",
       "      <td>81.90</td>\n",
       "      <td>87.550</td>\n",
       "      <td>93.3</td>\n",
       "    </tr>\n",
       "    <tr>\n",
       "      <th>2</th>\n",
       "      <td>26.0</td>\n",
       "      <td>97.911538</td>\n",
       "      <td>2.598665</td>\n",
       "      <td>87.4</td>\n",
       "      <td>97.225</td>\n",
       "      <td>98.75</td>\n",
       "      <td>99.475</td>\n",
       "      <td>99.8</td>\n",
       "    </tr>\n",
       "    <tr>\n",
       "      <th>3</th>\n",
       "      <td>42.0</td>\n",
       "      <td>61.690476</td>\n",
       "      <td>20.395346</td>\n",
       "      <td>23.6</td>\n",
       "      <td>48.625</td>\n",
       "      <td>67.30</td>\n",
       "      <td>80.800</td>\n",
       "      <td>91.8</td>\n",
       "    </tr>\n",
       "    <tr>\n",
       "      <th>4</th>\n",
       "      <td>1.0</td>\n",
       "      <td>91.600000</td>\n",
       "      <td>NaN</td>\n",
       "      <td>91.6</td>\n",
       "      <td>91.600</td>\n",
       "      <td>91.60</td>\n",
       "      <td>91.600</td>\n",
       "      <td>91.6</td>\n",
       "    </tr>\n",
       "    <tr>\n",
       "      <th>5</th>\n",
       "      <td>22.0</td>\n",
       "      <td>87.940909</td>\n",
       "      <td>9.113865</td>\n",
       "      <td>69.1</td>\n",
       "      <td>81.675</td>\n",
       "      <td>90.30</td>\n",
       "      <td>94.475</td>\n",
       "      <td>99.8</td>\n",
       "    </tr>\n",
       "    <tr>\n",
       "      <th>6</th>\n",
       "      <td>14.0</td>\n",
       "      <td>87.607143</td>\n",
       "      <td>12.076962</td>\n",
       "      <td>57.3</td>\n",
       "      <td>89.000</td>\n",
       "      <td>91.45</td>\n",
       "      <td>92.675</td>\n",
       "      <td>98.9</td>\n",
       "    </tr>\n",
       "    <tr>\n",
       "      <th>7</th>\n",
       "      <td>8.0</td>\n",
       "      <td>69.812500</td>\n",
       "      <td>20.767037</td>\n",
       "      <td>47.5</td>\n",
       "      <td>49.575</td>\n",
       "      <td>67.30</td>\n",
       "      <td>90.750</td>\n",
       "      <td>96.3</td>\n",
       "    </tr>\n",
       "  </tbody>\n",
       "</table>\n",
       "</div>"
      ],
      "text/plain": [
       "           count       mean        std   min     25%    50%     75%   max\n",
       "Continent                                                                \n",
       "1           18.0  76.900000  16.647911  28.0  74.150  81.90  87.550  93.3\n",
       "2           26.0  97.911538   2.598665  87.4  97.225  98.75  99.475  99.8\n",
       "3           42.0  61.690476  20.395346  23.6  48.625  67.30  80.800  91.8\n",
       "4            1.0  91.600000        NaN  91.6  91.600  91.60  91.600  91.6\n",
       "5           22.0  87.940909   9.113865  69.1  81.675  90.30  94.475  99.8\n",
       "6           14.0  87.607143  12.076962  57.3  89.000  91.45  92.675  98.9\n",
       "7            8.0  69.812500  20.767037  47.5  49.575  67.30  90.750  96.3"
      ]
     },
     "execution_count": 34,
     "metadata": {},
     "output_type": "execute_result"
    }
   ],
   "source": [
    "df.groupby('Continent')['Adult literacy rate (%)'].describe()"
   ]
  },
  {
   "cell_type": "markdown",
   "id": "0423225b-2dbf-4e34-ba6e-4fcabb63409f",
   "metadata": {},
   "source": [
    "### Dealing with dates"
   ]
  },
  {
   "cell_type": "code",
   "execution_count": null,
   "id": "231e54b6-c9f1-4911-ad2a-c89b7d4b4787",
   "metadata": {},
   "outputs": [],
   "source": []
  }
 ],
 "metadata": {
  "kernelspec": {
   "display_name": "Python 3 (ipykernel)",
   "language": "python",
   "name": "python3"
  },
  "language_info": {
   "codemirror_mode": {
    "name": "ipython",
    "version": 3
   },
   "file_extension": ".py",
   "mimetype": "text/x-python",
   "name": "python",
   "nbconvert_exporter": "python",
   "pygments_lexer": "ipython3",
   "version": "3.9.6"
  }
 },
 "nbformat": 4,
 "nbformat_minor": 5
}
