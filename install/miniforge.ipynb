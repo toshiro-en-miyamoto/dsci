{
 "cells": [
  {
   "cell_type": "markdown",
   "id": "71846329-499b-462d-9c45-391590df9151",
   "metadata": {},
   "source": [
    "# Miniforge"
   ]
  },
  {
   "cell_type": "markdown",
   "id": "b29191bf-5df7-471c-b8c9-5d1b6e9a29bf",
   "metadata": {},
   "source": [
    "Download the latest [Miniforge installer](https://github.com/conda-forge/miniforge/releases), then:\n",
    "\n",
    "```\n",
    "$ bash Miniforge3-Linux-aarch64.sh\n",
    "(base) ~$ conda install pandas\n",
    "(base) ~$ conda install matplotlib\n",
    "(base) ~$ conda install jupyterlab\n",
    "```"
   ]
  },
  {
   "cell_type": "code",
   "execution_count": 1,
   "id": "147680f8-c012-4cca-bf5e-f41b7828dbb6",
   "metadata": {},
   "outputs": [],
   "source": [
    "import pandas as pd"
   ]
  },
  {
   "cell_type": "code",
   "execution_count": 2,
   "id": "f2a8881a-be42-4aec-bb29-71917246455a",
   "metadata": {},
   "outputs": [],
   "source": [
    "packages = pd.read_csv(\"conda-packs.csv\", index_col=\"package\")"
   ]
  },
  {
   "cell_type": "code",
   "execution_count": 3,
   "id": "e779923b-ff44-42ee-af6d-755e77d1f492",
   "metadata": {},
   "outputs": [
    {
     "data": {
      "text/plain": [
       "package\n",
       "_openmp_mutex                                   OpenMP Implementation Mutex\n",
       "brotlipy                  Python bindings to the Brotli compression library\n",
       "ca-certificates                   Certificates for use with other packages.\n",
       "certifi                   Python package for providing Mozilla's CA Bundle.\n",
       "cffi                      Foreign Function Interface for Python calling ...\n",
       "chardet                               Universal character encoding detector\n",
       "charset-normalizer        The Real First Universal Charset Detector. Ope...\n",
       "conda                     OS-agnostic, system-level binary package and e...\n",
       "conda-package-handling    Create and extract conda packages of various f...\n",
       "cryptography              Provides cryptographic recipes and primitives ...\n",
       "idna                      Internationalized Domain Names in Applications...\n",
       "ld_impl_linux-64          A set of programming tools for creating and ma...\n",
       "libffi                       A Portable Foreign Function Interface Library.\n",
       "libgcc-ng                                 The GCC low-level runtime library\n",
       "libgomp                                      The GCC OpenMP implementation.\n",
       "libstdcxx-ng                                    The GNU C++ Runtime Library\n",
       "ncurses                              Library for text-based user interfaces\n",
       "openssl                   an open-source implementation of the SSL and T...\n",
       "pip                       PyPA recommended tool for installing Python pa...\n",
       "pycosat                                  Bindings to picosat (a SAT solver)\n",
       "pycparser                                Complete C99 parser in pure Python\n",
       "pyopenssl                  Python wrapper module around the OpenSSL library\n",
       "pysocks                                       A Python SOCKS client module.\n",
       "python                                 General purpose programming language\n",
       "python_abi                      Metapackage to select python implementation\n",
       "readline                  library for editing command lines as they are ...\n",
       "requests                  Requests is an elegant and simple HTTP library...\n",
       "ruamel_yaml                                  A patched copy of ruamel.yaml.\n",
       "setuptools                Download, build, install, upgrade, and uninsta...\n",
       "six                                  Python 2 and 3 compatibility utilities\n",
       "sqlite                    Implements a self-contained, zero-configuratio...\n",
       "tk                        A dynamic programming language with GUI suppor...\n",
       "tqdm                                      A Fast, Extensible Progress Meter\n",
       "tzdata                    The Time Zone Database (called tz, tzdb or zon...\n",
       "urllib3                   HTTP library with thread-safe connection pooli...\n",
       "wheel                                    A built-package format for Python.\n",
       "xz                        Data compression software with high compressio...\n",
       "yaml                              A C library for parsing and emitting YAML\n",
       "zlib                      Massively spiffy yet delicately unobtrusive co...\n",
       "Name: description, dtype: object"
      ]
     },
     "execution_count": 3,
     "metadata": {},
     "output_type": "execute_result"
    }
   ],
   "source": [
    "packages.loc[packages[\"component\"]==\"miniforge3\",\"description\"]"
   ]
  },
  {
   "cell_type": "code",
   "execution_count": 4,
   "id": "9ac37d2a-62b9-4759-85f7-07a03aa54d93",
   "metadata": {},
   "outputs": [
    {
     "data": {
      "text/plain": [
       "package\n",
       "libblas                                       Linear Algebra PACKage\n",
       "libcblas                                      Linear Algebra PACKage\n",
       "libgfortran-ng                       The GNU Fortran Runtime Library\n",
       "libgfortran5                         The GNU Fortran Runtime Library\n",
       "liblapack                                     Linear Algebra PACKage\n",
       "libopenblas                                An Optimized BLAS library\n",
       "numpy              Array processing for numbers, strings, records...\n",
       "pandas             High-performance, easy-to-use data structures ...\n",
       "python-dateutil    Extensions to the standard Python datetime mod...\n",
       "pytz               World timezone definitions, modern and histori...\n",
       "Name: description, dtype: object"
      ]
     },
     "execution_count": 4,
     "metadata": {},
     "output_type": "execute_result"
    }
   ],
   "source": [
    "packages.loc[packages[\"component\"]==\"pandas\",\"description\"]"
   ]
  },
  {
   "cell_type": "code",
   "execution_count": 5,
   "id": "fb7cce5b-02c8-4ca3-812f-661a6cd5503c",
   "metadata": {},
   "outputs": [
    {
     "data": {
      "text/plain": [
       "package\n",
       "cycler                                      Composable style cycles.\n",
       "freetype              A Free, High-Quality, and Portable Font Engine\n",
       "jbig               Implementation of the JBIG1 data compression s...\n",
       "jpeg                          read/write jpeg COM, EXIF, IPTC medata\n",
       "kiwisolver         An efficient C++ implementation of the Cassowa...\n",
       "lcms2                            Open Source Color Management Engine\n",
       "lerc                                Limited Error Raster Compression\n",
       "libdeflate         a library for fast, whole-buffer DEFLATE-based...\n",
       "libpng                                         PNG reference library\n",
       "libtiff                Support for the Tag Image File Format (TIFF).\n",
       "libwebp-base                                      WebP image library\n",
       "lz4-c                           Extremely Fast Compression algorithm\n",
       "matplotlib                     Publication quality figures in Python\n",
       "matplotlib-base                Publication quality figures in Python\n",
       "olefile                   parse, read and write Microsoft OLE2 files\n",
       "openjpeg                 An open-source JPEG 2000 codec written in C\n",
       "pillow             the friendly PIL fork by Alex Clark and Contri...\n",
       "pyparsing                         Create and execute simple grammars\n",
       "tornado            A Python web framework and asynchronous networ...\n",
       "zstd                Zstandard - Fast real-time compression algorithm\n",
       "Name: description, dtype: object"
      ]
     },
     "execution_count": 5,
     "metadata": {},
     "output_type": "execute_result"
    }
   ],
   "source": [
    "packages.loc[packages[\"component\"]==\"matplotlib\",\"description\"]"
   ]
  },
  {
   "cell_type": "code",
   "execution_count": 6,
   "id": "3dbe0d79-d3f3-4b83-b59b-327a8e39c8fc",
   "metadata": {},
   "outputs": [
    {
     "data": {
      "text/plain": [
       "package\n",
       "anyio                            High level compatibility layer for multiple as...\n",
       "argon2-cffi                          The secure Argon2 password hashing algorithm.\n",
       "async_generator                  Async generators and context managers for Pyth...\n",
       "attrs                            the Python package that will bring back the jo...\n",
       "babel                            Utilities to internationalize and localize Pyt...\n",
       "backcall                         Specifications for callback functions passed i...\n",
       "backports                        A package to ensure the backports namespace is...\n",
       "backports.functools_lru_cache         from Python 3.3 as published at ActiveState.\n",
       "bleach                                  Easy, whitelist-based HTML-sanitizing tool\n",
       "debugpy                          An implementation of the Debug Adapter Protoco...\n",
       "decorator                            Better living through Python with decorators.\n",
       "defusedxml                       XML bomb protection for Python stdlib modules 2.0\n",
       "entrypoints                      Discover and load entry points from installed ...\n",
       "importlib-metadata               A library to access the metadata for a Python ...\n",
       "ipykernel                                               IPython Kernel for Jupyter\n",
       "ipython                                           Productive Interactive Computing\n",
       "ipython_genutils                                  vestigial utilities from IPython\n",
       "jedi                             An autocompletion tool for Python that can be ...\n",
       "jinja2                           An easy to use stand-alone template engine wri...\n",
       "json5                             A Python implementation of the JSON5 data format\n",
       "jsonschema                       An implementation of JSON Schema validation fo...\n",
       "jupyter_client                   jupyter_client contains the reference implemen...\n",
       "jupyter_core                        Core common functionality of Jupyter projects.\n",
       "jupyter_server                                                      Jupyter Server\n",
       "jupyterlab                                                    JupyterLab PRE-ALPHA\n",
       "jupyterlab_pygments              Pygments syntax coloring scheme making use of ...\n",
       "jupyterlab_server                A set of server components for JupyterLab and ...\n",
       "libsodium                                 A modern and easy-to-use crypto library.\n",
       "markupsafe                       A Python module that implements the jinja2.Mar...\n",
       "matplotlib-inline                            Inline Matplotlib backend for Jupyter\n",
       "mistune                                The fastest markdown parser in pure Python.\n",
       "nbclassic                          Jupyter Notebook as a Jupyter Server Extension.\n",
       "nbclient                                 A client library for executing notebooks.\n",
       "nbconvert                                             Converting Jupyter Notebooks\n",
       "nbformat                                               The Jupyter Notebook format\n",
       "nest-asyncio                             Patch asyncio to allow nested event loops\n",
       "notebook                                                          Jupyter Notebook\n",
       "packaging                                       Core utilities for Python packages\n",
       "pandocfilters                           A python module for writing pandoc filters\n",
       "parso                                                              A Python Parser\n",
       "pexpect                          Pexpect makes Python a better tool for control...\n",
       "pickleshare                      Tiny 'shelve'-like database with concurrency s...\n",
       "prometheus_client                Python client for the Prometheus monitoring sy...\n",
       "prompt-toolkit                   Library for building powerful interactive comm...\n",
       "ptyprocess                                   Run a subprocess in a pseudo terminal\n",
       "pygments                         a generic syntax highlighter suitable for use ...\n",
       "pyrsistent                         Persistent/Functional/Immutable data structures\n",
       "pyzmq                                                   Python bindings for zeromq\n",
       "requests-unixsocket              Use requests to talk HTTP via a UNIX domain so...\n",
       "send2trash                       Python library to natively send files to Trash...\n",
       "sniffio                          Sniff out which async library your code is run...\n",
       "terminado                                   Terminals served by tornado websockets\n",
       "testpath                         a collection of utilities for Python code work...\n",
       "traitlets                             Configuration system for Python applications\n",
       "wcwidth                          Measures number of Terminal column cells of wi...\n",
       "webencodings                     Character encoding aliases for legacy web content\n",
       "websocket-client                 WebSocket client for python. hybi13 is supported.\n",
       "zeromq                           A high-performance asynchronous messaging libr...\n",
       "zipp                                   A pathlib-compatible Zipfile object wrapper\n",
       "Name: description, dtype: object"
      ]
     },
     "execution_count": 6,
     "metadata": {},
     "output_type": "execute_result"
    }
   ],
   "source": [
    "packages.loc[packages[\"component\"]==\"jupyterlab\",\"description\"]"
   ]
  }
 ],
 "metadata": {
  "kernelspec": {
   "display_name": "Python 3 (ipykernel)",
   "language": "python",
   "name": "python3"
  },
  "language_info": {
   "codemirror_mode": {
    "name": "ipython",
    "version": 3
   },
   "file_extension": ".py",
   "mimetype": "text/x-python",
   "name": "python",
   "nbconvert_exporter": "python",
   "pygments_lexer": "ipython3",
   "version": "3.9.6"
  }
 },
 "nbformat": 4,
 "nbformat_minor": 5
}
