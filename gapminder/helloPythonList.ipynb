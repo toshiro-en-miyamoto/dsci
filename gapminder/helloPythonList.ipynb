{
 "cells": [
  {
   "cell_type": "markdown",
   "id": "9097f1a7-20f8-4891-aa75-90d8b63563c2",
   "metadata": {
    "tags": []
   },
   "source": [
    "# List"
   ]
  },
  {
   "cell_type": "markdown",
   "id": "397f762f-936c-4990-801d-cf477156f3f0",
   "metadata": {},
   "source": [
    "References:\n",
    "\n",
    "- [Gap Minder, Lists](http://swcarpentry.github.io/python-novice-gapminder/11-lists/index.html)\n",
    "- [Python Standard Library, Built-in Types, Sequence Types](https://docs.python.org/3/library/stdtypes.html#sequence-types-list-tuple-range)\n",
    "\n",
    "There are three basic sequece types: lists, tuples, and range objects. Lists are mutable sequences, typically used to store collections of homogeneous items.\n",
    "\n",
    "*Lists* are mutable sequences, typically used to store collections of homogeneous items (where the precise degree of similarity will vary by application).\n",
    "\n",
    "Lists may be constructed in several ways:\n",
    "\n",
    "- Using a pair of square brackets to denote the empty list: `[]`\n",
    "- Using square brackets, separating items with commas: `[a]`, `[a, b, c]`\n",
    "- Using a list comprehension: `[x for x in iterable]`\n",
    "- Using the type constructor: `list()` or `list(iterable)`"
   ]
  },
  {
   "cell_type": "code",
   "execution_count": 1,
   "id": "49eaadb3-c2eb-43e8-a3a9-38865d180915",
   "metadata": {},
   "outputs": [],
   "source": [
    "teens = [10, 11, 12, 13, 14, 15, 16, 17, 18, 19]"
   ]
  },
  {
   "cell_type": "code",
   "execution_count": 2,
   "id": "8cab1b2e-8b6c-4cfe-bc03-4a0824620c63",
   "metadata": {},
   "outputs": [
    {
     "data": {
      "text/plain": [
       "[10, 11, 12, 13, 14, 15, 16, 17, 18, 19]"
      ]
     },
     "execution_count": 2,
     "metadata": {},
     "output_type": "execute_result"
    }
   ],
   "source": [
    "teens"
   ]
  },
  {
   "cell_type": "markdown",
   "id": "9a15941c-dfe5-42bd-b927-96de3487a8cc",
   "metadata": {},
   "source": [
    "Use `len()` to find out how many values are in a list."
   ]
  },
  {
   "cell_type": "code",
   "execution_count": 3,
   "id": "2c7388c6-cb6b-494e-ab29-adca3a17bc87",
   "metadata": {},
   "outputs": [
    {
     "data": {
      "text/plain": [
       "10"
      ]
     },
     "execution_count": 3,
     "metadata": {},
     "output_type": "execute_result"
    }
   ],
   "source": [
    "len(teens)"
   ]
  },
  {
   "cell_type": "markdown",
   "id": "0daa6114-07dd-4543-94b0-639d2bc08066",
   "metadata": {
    "tags": []
   },
   "source": [
    "## Indexing"
   ]
  },
  {
   "cell_type": "markdown",
   "id": "b1704e70-6133-4e3b-a6ba-2e37afccd0b4",
   "metadata": {},
   "source": [
    "Use an item’s index to fetch it from a list. `[0]` gives the first element."
   ]
  },
  {
   "cell_type": "code",
   "execution_count": 4,
   "id": "5059ee52-4636-411c-95d0-e32ae009502e",
   "metadata": {},
   "outputs": [
    {
     "data": {
      "text/plain": [
       "10"
      ]
     },
     "execution_count": 4,
     "metadata": {},
     "output_type": "execute_result"
    }
   ],
   "source": [
    "teens[0]"
   ]
  },
  {
   "cell_type": "markdown",
   "id": "3a5e9b14-5cc0-458d-9c64-a2411d391cf3",
   "metadata": {},
   "source": [
    "Python interprets a negative index as starting from the end (as opposed to starting from the beginning). The last element is `-1`."
   ]
  },
  {
   "cell_type": "code",
   "execution_count": 5,
   "id": "3ff5f389-a093-41a9-b73a-47951a084922",
   "metadata": {},
   "outputs": [
    {
     "data": {
      "text/plain": [
       "19"
      ]
     },
     "execution_count": 5,
     "metadata": {},
     "output_type": "execute_result"
    }
   ],
   "source": [
    "teens[-1]"
   ]
  },
  {
   "cell_type": "markdown",
   "id": "5365d228-9479-483f-9926-5f353174a17d",
   "metadata": {},
   "source": [
    "## Slices"
   ]
  },
  {
   "cell_type": "markdown",
   "id": "47b7b3d3-6c0e-4119-a650-80f84831c9a2",
   "metadata": {},
   "source": [
    "The slice of a list from `i` to `j` is defined as the sequence of items with index `n` such that `i <= n < j`."
   ]
  },
  {
   "cell_type": "code",
   "execution_count": 6,
   "id": "b1380b9c-f4e3-40ad-b25f-2aff4470a8fb",
   "metadata": {},
   "outputs": [
    {
     "data": {
      "text/plain": [
       "[11, 12, 13]"
      ]
     },
     "execution_count": 6,
     "metadata": {},
     "output_type": "execute_result"
    }
   ],
   "source": [
    "teens[1:4]"
   ]
  },
  {
   "cell_type": "markdown",
   "id": "a68ee7a9-d0d4-41b4-a3d9-cb2ed6ab5f7d",
   "metadata": {},
   "source": [
    "If `i` is omitted, use 0."
   ]
  },
  {
   "cell_type": "code",
   "execution_count": 7,
   "id": "0f1a4742-4db1-4177-bc43-40e695b40e9a",
   "metadata": {},
   "outputs": [
    {
     "data": {
      "text/plain": [
       "[10, 11, 12, 13]"
      ]
     },
     "execution_count": 7,
     "metadata": {},
     "output_type": "execute_result"
    }
   ],
   "source": [
    "teens[:4]"
   ]
  },
  {
   "cell_type": "markdown",
   "id": "7b93296c-a2b5-43ec-a98a-054f1d8c6c71",
   "metadata": {},
   "source": [
    "If `j` is omitted, use `len(s)`."
   ]
  },
  {
   "cell_type": "code",
   "execution_count": 8,
   "id": "dd204c6a-2f8e-4be0-897b-c60eda7304e0",
   "metadata": {},
   "outputs": [
    {
     "data": {
      "text/plain": [
       "[15, 16, 17, 18, 19]"
      ]
     },
     "execution_count": 8,
     "metadata": {},
     "output_type": "execute_result"
    }
   ],
   "source": [
    "teens[5:]"
   ]
  },
  {
   "cell_type": "markdown",
   "id": "3d9f2e1d-9eb9-4c7e-ae81-2157e99e0521",
   "metadata": {},
   "source": [
    "If `i` is greater than or equal to `j`, the slice is empty."
   ]
  },
  {
   "cell_type": "code",
   "execution_count": 9,
   "id": "d6ee6ee9-5032-426f-a95b-d1d41b0d1069",
   "metadata": {},
   "outputs": [
    {
     "data": {
      "text/plain": [
       "[]"
      ]
     },
     "execution_count": 9,
     "metadata": {},
     "output_type": "execute_result"
    }
   ],
   "source": [
    "teens[999:]"
   ]
  },
  {
   "cell_type": "markdown",
   "id": "dff3255a-137c-4364-b62d-194fefd07cbb",
   "metadata": {},
   "source": [
    "The slice of a list from `i` to `j` with step `k` is defined as the sequence of items with index `x = i + n*k` such that `0 <= n < (j-i)/k`. In other words, the indices are `i`, `i+k`, `i+2*k`, `i+3*k` and so on, stopping when `j` is reached (but never including `j`)."
   ]
  },
  {
   "cell_type": "code",
   "execution_count": 10,
   "id": "20460b04-8e74-4087-ab87-66e4d910740f",
   "metadata": {},
   "outputs": [
    {
     "data": {
      "text/plain": [
       "[11, 13, 15, 17, 19]"
      ]
     },
     "execution_count": 10,
     "metadata": {},
     "output_type": "execute_result"
    }
   ],
   "source": [
    "teens[1::2]"
   ]
  },
  {
   "cell_type": "markdown",
   "id": "56dfab3a-14fe-403d-a110-0a9f85493d9d",
   "metadata": {},
   "source": [
    "`new = old[:]` however creates a new list object `new` containing all elements from the list `old`; `new` and `old` are different objects."
   ]
  },
  {
   "cell_type": "code",
   "execution_count": 11,
   "id": "6fe4c4de-874c-4fa7-a6cd-de36e6044327",
   "metadata": {},
   "outputs": [],
   "source": [
    "high_teens = teens[5:]"
   ]
  },
  {
   "cell_type": "code",
   "execution_count": 12,
   "id": "309b1974-b189-49c9-8b20-3afbcb641180",
   "metadata": {},
   "outputs": [
    {
     "data": {
      "text/plain": [
       "[15, 16, 17, 18, 19]"
      ]
     },
     "execution_count": 12,
     "metadata": {},
     "output_type": "execute_result"
    }
   ],
   "source": [
    "high_teens"
   ]
  },
  {
   "cell_type": "markdown",
   "id": "d81c161d-c268-4a78-ae4f-c66010b1809e",
   "metadata": {},
   "source": [
    "`new = old` makes new a *reference* to the list `old`; `new` and `old` point towards the same object."
   ]
  },
  {
   "cell_type": "code",
   "execution_count": 13,
   "id": "5cdb01cf-e8ae-44c3-8e6f-75b2dd1e292f",
   "metadata": {},
   "outputs": [
    {
     "data": {
      "text/plain": [
       "[999, 16, 17, 18, 19]"
      ]
     },
     "execution_count": 13,
     "metadata": {},
     "output_type": "execute_result"
    }
   ],
   "source": [
    "new_high_teens = high_teens\n",
    "new_high_teens[0] = 999\n",
    "high_teens"
   ]
  },
  {
   "cell_type": "markdown",
   "id": "ec401d14-9588-4527-bf6e-00692ef1e6da",
   "metadata": {},
   "source": [
    "# Tuples"
   ]
  },
  {
   "cell_type": "markdown",
   "id": "d87593be-bbba-4ed2-a2ef-713eff519ed0",
   "metadata": {},
   "source": [
    "*Tuples* are immutable sequences, typically used to store collections of heterogeneous data (such as the 2-tuples produced by the `enumerate()` built-in). Tuples are also used for cases where an immutable sequence of homogeneous data is needed (such as allowing storage in a `set` or `dict` instance).\n",
    "\n",
    "Tuples may be constructed in a number of ways:\n",
    "- Using a pair of parentheses to denote the empty tuple: `()`\n",
    "- Using a trailing comma for a singleton tuple: `a`, or `(a,)`\n",
    "- Separating items with commas: `a, b, c` or `(a, b, c)`\n",
    "- Using the `tuple()` built-in: `tuple()` or `tuple(iterable)`"
   ]
  },
  {
   "cell_type": "code",
   "execution_count": 14,
   "id": "39629336-58d4-4737-b58c-cab61098ad8f",
   "metadata": {},
   "outputs": [],
   "source": [
    "t = 1, 2, 3"
   ]
  },
  {
   "cell_type": "code",
   "execution_count": 15,
   "id": "fd1385fd-174e-47c0-986a-306ab4826938",
   "metadata": {},
   "outputs": [
    {
     "data": {
      "text/plain": [
       "(1, 2, 3)"
      ]
     },
     "execution_count": 15,
     "metadata": {},
     "output_type": "execute_result"
    }
   ],
   "source": [
    "t"
   ]
  },
  {
   "cell_type": "code",
   "execution_count": 16,
   "id": "5001ee3e-6b79-4c03-8d78-eff5014031d1",
   "metadata": {},
   "outputs": [],
   "source": [
    "sum = 0\n",
    "for x in (1, 2, 3):\n",
    "    sum = sum + x"
   ]
  },
  {
   "cell_type": "code",
   "execution_count": 17,
   "id": "9bde3f9b-bbeb-4308-9870-7866a1abf0ea",
   "metadata": {},
   "outputs": [
    {
     "data": {
      "text/plain": [
       "6"
      ]
     },
     "execution_count": 17,
     "metadata": {},
     "output_type": "execute_result"
    }
   ],
   "source": [
    "sum"
   ]
  },
  {
   "cell_type": "code",
   "execution_count": 18,
   "id": "91406ddc-c56f-4b79-99ec-6348ca5db7c1",
   "metadata": {},
   "outputs": [
    {
     "data": {
      "text/plain": [
       "[1, 2, 3]"
      ]
     },
     "execution_count": 18,
     "metadata": {},
     "output_type": "execute_result"
    }
   ],
   "source": [
    "list((1, 2, 3))"
   ]
  },
  {
   "cell_type": "markdown",
   "id": "28c0437e-5c6e-4f90-8045-618611de6910",
   "metadata": {},
   "source": [
    "# Ranges"
   ]
  },
  {
   "cell_type": "markdown",
   "id": "6dfce7b2-0d30-4c6a-bed5-f65e05b65c37",
   "metadata": {},
   "source": [
    "The `range` type represents an immutable sequence of numbers and is commonly used for looping a specific number of times in `for` loops.\n",
    "- `range(stop)`\n",
    "- `range(start, stop)`\n",
    "- `range(start, stop, step)`\n",
    "\n",
    " If the `step` argument is omitted, it defaults to 1. If the `start` argument is omitted, it defaults to 0. If `step` is zero, ValueError is raised."
   ]
  },
  {
   "cell_type": "code",
   "execution_count": 19,
   "id": "d7408996-4b2a-4c85-a63e-5a21347b2559",
   "metadata": {},
   "outputs": [
    {
     "data": {
      "text/plain": [
       "[0, 1, 2, 3, 4, 5, 6, 7, 8, 9]"
      ]
     },
     "execution_count": 19,
     "metadata": {},
     "output_type": "execute_result"
    }
   ],
   "source": [
    "list(range(10))"
   ]
  },
  {
   "cell_type": "code",
   "execution_count": 20,
   "id": "30404f62-247e-4b46-969d-65413ea04386",
   "metadata": {},
   "outputs": [],
   "source": [
    "sum = 0\n",
    "for x in range(1, 11):\n",
    "    sum = sum + x"
   ]
  },
  {
   "cell_type": "code",
   "execution_count": 21,
   "id": "8ecf5003-702e-4956-8a28-3971f3c58bf4",
   "metadata": {},
   "outputs": [
    {
     "data": {
      "text/plain": [
       "55"
      ]
     },
     "execution_count": 21,
     "metadata": {},
     "output_type": "execute_result"
    }
   ],
   "source": [
    "sum"
   ]
  },
  {
   "cell_type": "code",
   "execution_count": 22,
   "id": "670c9437-de16-468e-b08f-04abcdc92ff8",
   "metadata": {},
   "outputs": [
    {
     "data": {
      "text/plain": [
       "[0, 5, 10, 15, 20, 25]"
      ]
     },
     "execution_count": 22,
     "metadata": {},
     "output_type": "execute_result"
    }
   ],
   "source": [
    "list(range(0, 30, 5))"
   ]
  },
  {
   "cell_type": "markdown",
   "id": "b38122b6-c9cc-4067-8eae-3e82d767484a",
   "metadata": {},
   "source": [
    "# Set Types &mdash; `set`, `frozenset`"
   ]
  },
  {
   "cell_type": "markdown",
   "id": "58632ce8-c3ee-4018-9502-41f715e33e11",
   "metadata": {},
   "source": [
    "A set object is an unordered collection of distinct hashable objects. Common uses include membership testing, removing duplicates from a sequence, and computing mathematical operations such as intersection, union, difference, and symmetric difference. (For other containers see the built-in `dict`, `list`, and `tuple` classes, and the collections module.)\n",
    "\n",
    "Like other collections, sets support `x in set`, `len(set)`, and `for x in set`. Being an unordered collection, sets do not record element position or order of insertion. Accordingly, sets do not support indexing, slicing, or other sequence-like behavior.\n",
    "\n",
    "There are currently two built-in set types, *set* and *frozenset*. The `set` type is *mutable* — the contents can be changed using methods like `add()` and `remove()`. Since it is mutable, it has no hash value and cannot be used as either a dictionary key or as an element of another set. The `frozenset` type is *immutable* and hashable — its contents cannot be altered after it is created; it can therefore be used as a dictionary key or as an element of another set.\n",
    "\n",
    "Non-empty sets (not frozensets) can be created by placing a comma-separated list of elements within braces, for example:"
   ]
  },
  {
   "cell_type": "code",
   "execution_count": 23,
   "id": "6ca6221d-0412-4108-bd0a-65acda0e557a",
   "metadata": {},
   "outputs": [],
   "source": [
    "s = {'jack', 'sjoerd'}"
   ]
  },
  {
   "cell_type": "code",
   "execution_count": 24,
   "id": "095cbeff-63cf-4fa9-94f2-cda5a09ac2b4",
   "metadata": {},
   "outputs": [
    {
     "data": {
      "text/plain": [
       "{'jack', 'sjoerd'}"
      ]
     },
     "execution_count": 24,
     "metadata": {},
     "output_type": "execute_result"
    }
   ],
   "source": [
    "s"
   ]
  },
  {
   "cell_type": "code",
   "execution_count": 25,
   "id": "109696af-3f07-4b10-82dc-2367aeca9dfc",
   "metadata": {},
   "outputs": [
    {
     "name": "stdout",
     "output_type": "stream",
     "text": [
      "jack\n",
      "sjoerd\n"
     ]
    }
   ],
   "source": [
    "for x in s:\n",
    "    print(x)"
   ]
  },
  {
   "cell_type": "markdown",
   "id": "f64e4f6c-c29e-4083-8193-b92791cf9bf3",
   "metadata": {},
   "source": [
    "# Mapping Types &mdash; `dict`"
   ]
  },
  {
   "cell_type": "markdown",
   "id": "da0577c4-b786-461b-ad85-c4438d01a22e",
   "metadata": {},
   "source": [
    "A *mapping* object maps *hashable* values to arbitrary objects. Mappings are mutable objects. There is currently only one standard mapping type, the dictionary. (For other containers see the built-in `list`, `set`, and `tuple` classes, and the `collections` module.)\n",
    "\n",
    "A dictionary’s keys are almost arbitrary values. Values that are not hashable, that is, values containing lists, dictionaries or other mutable types (that are compared by value rather than by object identity) may not be used as keys. Numeric types used for keys obey the normal rules for numeric comparison: if two numbers compare equal (such as 1 and 1.0) then they can be used interchangeably to index the same dictionary entry. (Note however, that since computers store floating-point numbers as approximations it is usually unwise to use them as dictionary keys.)\n",
    "\n",
    "Dictionaries can be created by placing a comma-separated list of `key: value` pairs within braces, for example:"
   ]
  },
  {
   "cell_type": "code",
   "execution_count": 26,
   "id": "d1fe04df-5f37-4e38-96e1-ed0009fc764e",
   "metadata": {},
   "outputs": [],
   "source": [
    "d = {'jack': 4098, 'sjoerd': 4127}"
   ]
  },
  {
   "cell_type": "code",
   "execution_count": 27,
   "id": "c15b4e9a-244c-4c90-99aa-6fd5d449a5a0",
   "metadata": {},
   "outputs": [
    {
     "data": {
      "text/plain": [
       "{'jack': 4098, 'sjoerd': 4127}"
      ]
     },
     "execution_count": 27,
     "metadata": {},
     "output_type": "execute_result"
    }
   ],
   "source": [
    "d"
   ]
  },
  {
   "cell_type": "code",
   "execution_count": 28,
   "id": "0a23ccf7-ecfd-4b1d-bb15-c36f13d1829f",
   "metadata": {},
   "outputs": [
    {
     "name": "stdout",
     "output_type": "stream",
     "text": [
      "jack\n",
      "sjoerd\n"
     ]
    }
   ],
   "source": [
    "for x in d:\n",
    "    print(x)"
   ]
  }
 ],
 "metadata": {
  "kernelspec": {
   "display_name": "Python 3 (ipykernel)",
   "language": "python",
   "name": "python3"
  },
  "language_info": {
   "codemirror_mode": {
    "name": "ipython",
    "version": 3
   },
   "file_extension": ".py",
   "mimetype": "text/x-python",
   "name": "python",
   "nbconvert_exporter": "python",
   "pygments_lexer": "ipython3",
   "version": "3.9.6"
  }
 },
 "nbformat": 4,
 "nbformat_minor": 5
}
