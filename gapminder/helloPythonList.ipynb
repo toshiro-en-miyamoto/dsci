{
 "cells": [
  {
   "cell_type": "markdown",
   "id": "397f762f-936c-4990-801d-cf477156f3f0",
   "metadata": {},
   "source": [
    "# List\n",
    "\n",
    "- [Gap Minder, Lists](http://swcarpentry.github.io/python-novice-gapminder/11-lists/index.html)\n",
    "- [Python Standard Library, Built-in Types, Sequence Types](https://docs.python.org/3/library/stdtypes.html#sequence-types-list-tuple-range)\n",
    "\n",
    "There are three basic sequece types: lists, tuples, and range objects. Lists are mutable sequences, typically used to store collections of homogeneous items."
   ]
  },
  {
   "cell_type": "code",
   "execution_count": 1,
   "id": "49eaadb3-c2eb-43e8-a3a9-38865d180915",
   "metadata": {},
   "outputs": [],
   "source": [
    "values = [1, 2, 3, 4, 5, 6, 7, 8, 9, 10]"
   ]
  },
  {
   "cell_type": "markdown",
   "id": "9a15941c-dfe5-42bd-b927-96de3487a8cc",
   "metadata": {},
   "source": [
    "Lists may be constructed in several ways:\n",
    "\n",
    "- Using a pair of square brackets to denote the empty list: `[]`\n",
    "- Using square brackets, separating items with commas: `[a]`, `[a, b, c]`\n",
    "- Using a list comprehension: `[x for x in iterable]`\n",
    "- Using the type constructor: `list()` or `list(iterable)`"
   ]
  },
  {
   "cell_type": "code",
   "execution_count": 2,
   "id": "5059ee52-4636-411c-95d0-e32ae009502e",
   "metadata": {},
   "outputs": [
    {
     "name": "stdout",
     "output_type": "stream",
     "text": [
      "10\n",
      "6\n",
      "10\n"
     ]
    }
   ],
   "source": [
    "print(len(values))\n",
    "print(values[5])\n",
    "print(values[-1])"
   ]
  },
  {
   "cell_type": "markdown",
   "id": "3a5e9b14-5cc0-458d-9c64-a2411d391cf3",
   "metadata": {},
   "source": [
    "- `len(s)`: length of *s*\n",
    "- `s[i]`: *i*th item of *s*, origin 0\n",
    "\n",
    "Python interprets a negative index as starting from the end (as opposed to starting from the beginning). The last element is `-1`."
   ]
  },
  {
   "cell_type": "code",
   "execution_count": 3,
   "id": "f1069c7f-74e6-436e-8be4-3c28b87ce874",
   "metadata": {},
   "outputs": [
    {
     "name": "stdout",
     "output_type": "stream",
     "text": [
      "[2, 3, 4, 5, 6, 7, 8, 9, 10]\n",
      "[1, 4, 7, 10]\n",
      "[1, 4, 7]\n"
     ]
    }
   ],
   "source": [
    "print(values[1:])\n",
    "print(values[::3])\n",
    "print(values[:-1:3])"
   ]
  },
  {
   "cell_type": "markdown",
   "id": "31301293-a8cb-412f-859c-69662712c195",
   "metadata": {},
   "source": [
    "- `s[i:j]`: slice of *s* from *i* to *j*\n",
    "- `s[i:j:k]`: slice of *s* from *i* to *j* with step *k*\n",
    "\n",
    "The slice of *s* from *i* to *j* is defined as the sequence of items with index *n* such that `i <= n < j`. If *i* is omitted or `None`, use 0. If *j* is omitted or `None`, use `len(s)`. If *i* is greater than or equal to *j*, the slice is empty."
   ]
  },
  {
   "cell_type": "code",
   "execution_count": 4,
   "id": "0d8f0b71-e594-44bf-8b8b-0169ca1648be",
   "metadata": {},
   "outputs": [
    {
     "name": "stdout",
     "output_type": "stream",
     "text": [
      "False\n",
      "1\n",
      "10\n",
      "1\n"
     ]
    }
   ],
   "source": [
    "print(2 in values[::3])\n",
    "print(min(values[::3]))\n",
    "print(max(values[::3]))\n",
    "print(values[::3].count(7))"
   ]
  },
  {
   "cell_type": "markdown",
   "id": "9620aab0-8c85-47ec-893c-454c73834841",
   "metadata": {},
   "source": [
    "- `x in s`: `True` if an item of *s* is equal to *x*, else `False`\n",
    "- `min(s)`: smallest item of *s*\n",
    "- `max(s)`: largest item of *s*\n",
    "- `s.count(x)`: total number of occurrences of *x* in *s*"
   ]
  },
  {
   "cell_type": "code",
   "execution_count": 5,
   "id": "e96aaef1-2a1a-4835-9602-66a44897c4e3",
   "metadata": {},
   "outputs": [
    {
     "name": "stdout",
     "output_type": "stream",
     "text": [
      "[2, 3, 5, 7, 11, 13, 17, 19]\n"
     ]
    }
   ],
   "source": [
    "primes = [2, 3, 5]\n",
    "primes.append(7)\n",
    "primes.extend([11, 13, 17, 19])\n",
    "print(primes)"
   ]
  },
  {
   "cell_type": "code",
   "execution_count": 6,
   "id": "47737ae6-8e68-42a0-9be7-61108ab793db",
   "metadata": {},
   "outputs": [
    {
     "name": "stdout",
     "output_type": "stream",
     "text": [
      "[2, 3, 5, 7, 11, 13, 17, 19, [23, 29]]\n"
     ]
    }
   ],
   "source": [
    "primes.append([23, 29])\n",
    "print(primes)"
   ]
  },
  {
   "cell_type": "markdown",
   "id": "01cfec25-e782-479c-9eba-e2ef398b4bd1",
   "metadata": {},
   "source": [
    "Lists are mutable. Use `List.append()` to add items to the end of a list. `List.extend()` is similar to `append()`, but it allows you to combine two lists. Note that while `extend()` maintains the “flat” structure of the list, appending a list to a list makes the result two-dimensional - the last element in primes is a list, not an integer."
   ]
  },
  {
   "cell_type": "code",
   "execution_count": 7,
   "id": "76ecf4f0-fb37-4390-94ff-2b5c6dfa59e3",
   "metadata": {},
   "outputs": [
    {
     "name": "stdout",
     "output_type": "stream",
     "text": [
      "letters: ['G', 'O', 'L', 'D'] ; result: ['D', 'G', 'L', 'O']\n"
     ]
    }
   ],
   "source": [
    "letters = list('GOLD')\n",
    "result = sorted(letters)\n",
    "print('letters:', letters, '; result:', result)"
   ]
  },
  {
   "cell_type": "code",
   "execution_count": 8,
   "id": "fb840a4d-c6ed-412a-856e-ff937685ac81",
   "metadata": {},
   "outputs": [
    {
     "name": "stdout",
     "output_type": "stream",
     "text": [
      "letters: ['D', 'G', 'L', 'O'] ; result: None\n"
     ]
    }
   ],
   "source": [
    "result = letters.sort()\n",
    "print('letters:', letters, '; result:', result)"
   ]
  },
  {
   "cell_type": "markdown",
   "id": "c2ff889e-4fa7-4d15-9dec-37803e9376b8",
   "metadata": {},
   "source": [
    "`sorted(letters)` returns a sorted copy of the list `letters` (the original list `letters` remains unchanged), while `letters.sort()` sorts the list `letters` in-place and does not return anything."
   ]
  },
  {
   "cell_type": "code",
   "execution_count": 9,
   "id": "cbaf54d6-41e5-426a-8c0c-bba175729407",
   "metadata": {},
   "outputs": [
    {
     "name": "stdout",
     "output_type": "stream",
     "text": [
      "new: ['X', 'o', 'l', 'd'] ; old: ['X', 'o', 'l', 'd']\n"
     ]
    }
   ],
   "source": [
    "old = list('gold')\n",
    "new = old\n",
    "new[0] = 'X'\n",
    "print('new:', new, '; old:', old)"
   ]
  },
  {
   "cell_type": "markdown",
   "id": "d81c161d-c268-4a78-ae4f-c66010b1809e",
   "metadata": {},
   "source": [
    "`new = old` makes new a *reference* to the list `old`; `new` and `old` point towards the same object."
   ]
  },
  {
   "cell_type": "code",
   "execution_count": 10,
   "id": "5cdb01cf-e8ae-44c3-8e6f-75b2dd1e292f",
   "metadata": {},
   "outputs": [
    {
     "name": "stdout",
     "output_type": "stream",
     "text": [
      "new: ['X', 'o', 'l', 'd'] ; old: ['g', 'o', 'l', 'd']\n"
     ]
    }
   ],
   "source": [
    "old = list('gold')\n",
    "new = old[:]\n",
    "new[0] = 'X'\n",
    "print('new:', new, '; old:', old)"
   ]
  },
  {
   "cell_type": "markdown",
   "id": "bb6d544c-edea-4f61-987c-27bede166bb0",
   "metadata": {},
   "source": [
    "`new = old[:]` however creates a new list object `new` containing all elements from the list `old`; `new` and `old` are different objects."
   ]
  }
 ],
 "metadata": {
  "kernelspec": {
   "display_name": "Python 3 (ipykernel)",
   "language": "python",
   "name": "python3"
  },
  "language_info": {
   "codemirror_mode": {
    "name": "ipython",
    "version": 3
   },
   "file_extension": ".py",
   "mimetype": "text/x-python",
   "name": "python",
   "nbconvert_exporter": "python",
   "pygments_lexer": "ipython3",
   "version": "3.9.6"
  }
 },
 "nbformat": 4,
 "nbformat_minor": 5
}
