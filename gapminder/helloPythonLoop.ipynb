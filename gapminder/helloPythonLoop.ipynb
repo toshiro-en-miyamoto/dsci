{
 "cells": [
  {
   "cell_type": "markdown",
   "id": "ccf0dc58-7dbb-45fc-bd2b-8f45289447fc",
   "metadata": {},
   "source": [
    "# For Loops\n",
    "\n",
    "- [Gap Minder, For Loops](http://swcarpentry.github.io/python-novice-gapminder/12-for-loops/index.html)"
   ]
  },
  {
   "cell_type": "code",
   "execution_count": 1,
   "id": "146169fa-6932-4348-a456-4f0b87639bd8",
   "metadata": {},
   "outputs": [
    {
     "name": "stdout",
     "output_type": "stream",
     "text": [
      "2 4 8\n",
      "3 9 27\n",
      "5 25 125\n"
     ]
    }
   ],
   "source": [
    "primes = [2, 3, 5]\n",
    "for p in primes:\n",
    "    squared = p ** 2\n",
    "    cubed = p ** 3\n",
    "    print(p, squared, cubed)"
   ]
  },
  {
   "cell_type": "markdown",
   "id": "146ace60-9c99-45a9-bef9-1622e6d1e2d0",
   "metadata": {},
   "source": [
    "A `for` loop is made up of a collection, a loop variable, and a body.\n",
    "\n",
    "- The collection, `primes`, is what the loop is being run on.\n",
    "- The loop variable, `p`, is what changes for each iteration of the loop - the current thing.\n",
    "- The body, `squared = ...`, `cubed = ...`, and `print(p, ...)`, specifies what to do for each value in the collection.\n",
    "\n",
    "The colon (`:`) at the end of the first line signals the start of a *block* of statements. Python uses indentation rather than `{}` or `begin/end` to show *nesting*. "
   ]
  },
  {
   "cell_type": "markdown",
   "id": "6d84145e-e513-4039-870a-c6186341feb1",
   "metadata": {},
   "source": [
    "```python\n",
    "for number in [2, 3, 5]:\n",
    "print(number)\n",
    "# error\n",
    "# IndentationError: expected an indented block\n",
    "```"
   ]
  },
  {
   "cell_type": "markdown",
   "id": "0eb1f50e-d0b8-4cdd-8176-d00715e40eca",
   "metadata": {},
   "source": [
    "```python\n",
    "firstName = \"Jon\"\n",
    "  lastName = \"Smith\"\n",
    "# error\n",
    "# IndentationError: unexpected indent\n",
    "```"
   ]
  }
 ],
 "metadata": {
  "kernelspec": {
   "display_name": "Python 3 (ipykernel)",
   "language": "python",
   "name": "python3"
  },
  "language_info": {
   "codemirror_mode": {
    "name": "ipython",
    "version": 3
   },
   "file_extension": ".py",
   "mimetype": "text/x-python",
   "name": "python",
   "nbconvert_exporter": "python",
   "pygments_lexer": "ipython3",
   "version": "3.9.6"
  }
 },
 "nbformat": 4,
 "nbformat_minor": 5
}
