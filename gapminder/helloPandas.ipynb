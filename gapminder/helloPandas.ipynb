{
 "cells": [
  {
   "cell_type": "markdown",
   "id": "6b7c8e0e-0e8c-4756-afc5-70a84b6e2468",
   "metadata": {},
   "source": [
    "# [Reading Tabular Data into DataFrames](http://swcarpentry.github.io/python-novice-gapminder/07-reading-tabular/index.html)"
   ]
  },
  {
   "cell_type": "code",
   "execution_count": 1,
   "id": "26c896bd-f6db-44a4-a3d3-38ffa8d2c39e",
   "metadata": {},
   "outputs": [
    {
     "name": "stdout",
     "output_type": "stream",
     "text": [
      "       country  gdpPercap_1952  gdpPercap_1957  gdpPercap_1962  \\\n",
      "0    Australia     10039.59564     10949.64959     12217.22686   \n",
      "1  New Zealand     10556.57566     12247.39532     13175.67800   \n",
      "\n",
      "   gdpPercap_1967  gdpPercap_1972  gdpPercap_1977  gdpPercap_1982  \\\n",
      "0     14526.12465     16788.62948     18334.19751     19477.00928   \n",
      "1     14463.91893     16046.03728     16233.71770     17632.41040   \n",
      "\n",
      "   gdpPercap_1987  gdpPercap_1992  gdpPercap_1997  gdpPercap_2002  \\\n",
      "0     21888.88903     23424.76683     26997.93657     30687.75473   \n",
      "1     19007.19129     18363.32494     21050.41377     23189.80135   \n",
      "\n",
      "   gdpPercap_2007  \n",
      "0     34435.36744  \n",
      "1     25185.00911  \n"
     ]
    }
   ],
   "source": [
    "import pandas as pd\n",
    "\n",
    "data = pd.read_csv('data/gapminder_gdp_oceania.csv')\n",
    "print(data)"
   ]
  },
  {
   "cell_type": "markdown",
   "id": "324788f2-9cce-4fc8-bdd2-afce9aa2de0a",
   "metadata": {},
   "source": [
    "Row headings are numbers (0 and 1 in the above). Want to index by country? Pass the name of the column `country` to `pandas.read_csv()` as its `index_col` parameter to do this."
   ]
  },
  {
   "cell_type": "code",
   "execution_count": 2,
   "id": "00119d8e-40e0-41e8-8cc9-29658cec0b67",
   "metadata": {},
   "outputs": [
    {
     "name": "stdout",
     "output_type": "stream",
     "text": [
      "             gdpPercap_1952  gdpPercap_1957  gdpPercap_1962  gdpPercap_1967  \\\n",
      "country                                                                       \n",
      "Australia       10039.59564     10949.64959     12217.22686     14526.12465   \n",
      "New Zealand     10556.57566     12247.39532     13175.67800     14463.91893   \n",
      "\n",
      "             gdpPercap_1972  gdpPercap_1977  gdpPercap_1982  gdpPercap_1987  \\\n",
      "country                                                                       \n",
      "Australia       16788.62948     18334.19751     19477.00928     21888.88903   \n",
      "New Zealand     16046.03728     16233.71770     17632.41040     19007.19129   \n",
      "\n",
      "             gdpPercap_1992  gdpPercap_1997  gdpPercap_2002  gdpPercap_2007  \n",
      "country                                                                      \n",
      "Australia       23424.76683     26997.93657     30687.75473     34435.36744  \n",
      "New Zealand     18363.32494     21050.41377     23189.80135     25185.00911  \n"
     ]
    }
   ],
   "source": [
    "data = pd.read_csv('data/gapminder_gdp_oceania.csv', index_col='country')\n",
    "print(data)"
   ]
  },
  {
   "cell_type": "markdown",
   "id": "0e1f8a77-23cd-4008-8798-a40834d3db3b",
   "metadata": {},
   "source": [
    "The `DataFrame.columns` member variable stores information about the columns."
   ]
  },
  {
   "cell_type": "code",
   "execution_count": 3,
   "id": "342abf55-da05-4017-ad94-5bb2c43202b1",
   "metadata": {},
   "outputs": [
    {
     "name": "stdout",
     "output_type": "stream",
     "text": [
      "Index(['gdpPercap_1952', 'gdpPercap_1957', 'gdpPercap_1962', 'gdpPercap_1967',\n",
      "       'gdpPercap_1972', 'gdpPercap_1977', 'gdpPercap_1982', 'gdpPercap_1987',\n",
      "       'gdpPercap_1992', 'gdpPercap_1997', 'gdpPercap_2002', 'gdpPercap_2007'],\n",
      "      dtype='object')\n"
     ]
    }
   ],
   "source": [
    "print(data.columns)"
   ]
  },
  {
   "cell_type": "markdown",
   "id": "5b9903ed-5b1e-4959-8f8b-ea1d8afeffe0",
   "metadata": {},
   "source": [
    "The `DataFrame.T` member variable is a transposed view of the dataframe. The `.T` doesn't copy the data, just changes the program's view of it."
   ]
  },
  {
   "cell_type": "code",
   "execution_count": 4,
   "id": "d3267dc9-a142-4d78-b423-0221c1ff16c4",
   "metadata": {},
   "outputs": [
    {
     "name": "stdout",
     "output_type": "stream",
     "text": [
      "country           Australia  New Zealand\n",
      "gdpPercap_1952  10039.59564  10556.57566\n",
      "gdpPercap_1957  10949.64959  12247.39532\n",
      "gdpPercap_1962  12217.22686  13175.67800\n",
      "gdpPercap_1967  14526.12465  14463.91893\n",
      "gdpPercap_1972  16788.62948  16046.03728\n",
      "gdpPercap_1977  18334.19751  16233.71770\n",
      "gdpPercap_1982  19477.00928  17632.41040\n",
      "gdpPercap_1987  21888.88903  19007.19129\n",
      "gdpPercap_1992  23424.76683  18363.32494\n",
      "gdpPercap_1997  26997.93657  21050.41377\n",
      "gdpPercap_2002  30687.75473  23189.80135\n",
      "gdpPercap_2007  34435.36744  25185.00911\n"
     ]
    }
   ],
   "source": [
    "print(data.T)"
   ]
  },
  {
   "cell_type": "markdown",
   "id": "c9ff3852-d626-4a85-b019-4bacdcdf1f65",
   "metadata": {},
   "source": [
    "Use `DataFrame.describe()` to get summary statics."
   ]
  },
  {
   "cell_type": "code",
   "execution_count": 5,
   "id": "36fcc3a3-d0b7-4cc9-9958-a1777bf60f43",
   "metadata": {},
   "outputs": [
    {
     "name": "stdout",
     "output_type": "stream",
     "text": [
      "country     Australia   New Zealand\n",
      "count       12.000000     12.000000\n",
      "mean     19980.595634  17262.622813\n",
      "std       7815.405220   4409.009167\n",
      "min      10039.595640  10556.575660\n",
      "25%      13948.900203  14141.858697\n",
      "50%      18905.603395  16933.064050\n",
      "75%      24318.059265  19517.996910\n",
      "max      34435.367440  25185.009110\n"
     ]
    }
   ],
   "source": [
    "print(data.T.describe())"
   ]
  },
  {
   "cell_type": "markdown",
   "id": "cb55c194-5f29-48d1-825a-7772e61e03b5",
   "metadata": {},
   "source": [
    "# [Pandas DataFrames](http://swcarpentry.github.io/python-novice-gapminder/08-data-frames/index.html)\n",
    "\n",
    "A `DataFrame` is a collection of `Series`; The DataFrame is the way Pandas represents a table, and Series is the data structure Pandas use to represent a column.\n",
    "\n",
    "Pandas is built on top of the `Numpy` library, which in practice means that most of the methods defined for Numpy Arrays apply to Pandas Series/DataFrames."
   ]
  },
  {
   "cell_type": "code",
   "execution_count": 6,
   "id": "aeb667fe-0da1-49ce-bce0-bf25346d4390",
   "metadata": {},
   "outputs": [
    {
     "name": "stdout",
     "output_type": "stream",
     "text": [
      "1601.056136\n"
     ]
    }
   ],
   "source": [
    "data = pd.read_csv('data/gapminder_gdp_europe.csv', index_col='country')\n",
    "print(data.loc[\"Albania\", \"gdpPercap_1952\"])"
   ]
  },
  {
   "cell_type": "markdown",
   "id": "1c60421f-236d-4cb0-8e25-5489b30ef697",
   "metadata": {},
   "source": [
    "Use `:` on its own to mean all columns or rows."
   ]
  },
  {
   "cell_type": "code",
   "execution_count": 7,
   "id": "c0a37a43-038b-4619-8178-243d353fbc70",
   "metadata": {},
   "outputs": [
    {
     "name": "stdout",
     "output_type": "stream",
     "text": [
      "gdpPercap_1952    1601.056136\n",
      "gdpPercap_1957    1942.284244\n",
      "gdpPercap_1962    2312.888958\n",
      "gdpPercap_1967    2760.196931\n",
      "gdpPercap_1972    3313.422188\n",
      "Name: Albania, dtype: float64\n"
     ]
    }
   ],
   "source": [
    "print(data.loc[\"Albania\",:].head(n=5))"
   ]
  },
  {
   "cell_type": "code",
   "execution_count": 8,
   "id": "9a27da73-f745-409f-b279-0c90af507275",
   "metadata": {},
   "outputs": [
    {
     "name": "stdout",
     "output_type": "stream",
     "text": [
      "country\n",
      "Slovenia           4215.041741\n",
      "Spain              3834.034742\n",
      "Sweden             8527.844662\n",
      "Switzerland       14734.232750\n",
      "Turkey             1969.100980\n",
      "United Kingdom     9979.508487\n",
      "Name: gdpPercap_1952, dtype: float64\n"
     ]
    }
   ],
   "source": [
    "print(data.loc[:,\"gdpPercap_1952\"].tail(n=6))"
   ]
  },
  {
   "cell_type": "markdown",
   "id": "e08ccc39-99e9-4a22-a201-6db161af1b36",
   "metadata": {},
   "source": [
    "Comparison is applied element by element. Returns a similar-shaped dataframe of `True` or `False`."
   ]
  },
  {
   "cell_type": "code",
   "execution_count": 9,
   "id": "002ba83a-4680-4b42-ad4a-1cc4f40073fe",
   "metadata": {},
   "outputs": [
    {
     "name": "stdout",
     "output_type": "stream",
     "text": [
      "type(mask):  <class 'pandas.core.frame.DataFrame'> \n",
      "\n",
      "             gdpPercap_1962  gdpPercap_1967  gdpPercap_1972\n",
      "country                                                    \n",
      "Italy                 False            True            True\n",
      "Montenegro            False           False           False\n",
      "Netherlands            True            True            True\n",
      "Norway                 True            True            True\n",
      "Poland                False           False           False\n"
     ]
    }
   ],
   "source": [
    "subset = data.loc['Italy':'Poland', 'gdpPercap_1962':'gdpPercap_1972']\n",
    "mask = subset > 10000\n",
    "print('type(mask): ', type(mask), '\\n')\n",
    "print(mask)"
   ]
  },
  {
   "cell_type": "markdown",
   "id": "aa0d07cd-1192-48b6-897e-b1ba6413b613",
   "metadata": {},
   "source": [
    "A dataframe full of Booleans is sometimes called a *mask* because of how it can be used. Get the value where the mask is `True`, and `NaN` (Not a Number) where it is `False`."
   ]
  },
  {
   "cell_type": "code",
   "execution_count": 10,
   "id": "c997f07f-c18a-4f46-adf3-6fdd52606cdd",
   "metadata": {},
   "outputs": [
    {
     "name": "stdout",
     "output_type": "stream",
     "text": [
      "             gdpPercap_1962  gdpPercap_1967  gdpPercap_1972\n",
      "country                                                    \n",
      "Italy                   NaN     10022.40131     12269.27378\n",
      "Montenegro              NaN             NaN             NaN\n",
      "Netherlands     12790.84956     15363.25136     18794.74567\n",
      "Norway          13450.40151     16361.87647     18965.05551\n",
      "Poland                  NaN             NaN             NaN\n"
     ]
    }
   ],
   "source": [
    "print(subset[mask])"
   ]
  },
  {
   "cell_type": "markdown",
   "id": "3d7c5996-ed90-4f87-9e54-604e2ceece93",
   "metadata": {},
   "source": [
    "## Group By\n",
    "\n",
    "We count how many ties a country has participated in the group of higher GDP."
   ]
  },
  {
   "cell_type": "code",
   "execution_count": 11,
   "id": "91a81d59-9a52-41ba-bf0a-60828ece70af",
   "metadata": {},
   "outputs": [
    {
     "data": {
      "text/plain": [
       "country\n",
       "Albania                   0.000000\n",
       "Austria                   1.000000\n",
       "Belgium                   1.000000\n",
       "Bosnia and Herzegovina    0.000000\n",
       "Bulgaria                  0.000000\n",
       "Croatia                   0.000000\n",
       "Czech Republic            0.500000\n",
       "Denmark                   1.000000\n",
       "Finland                   1.000000\n",
       "France                    1.000000\n",
       "Germany                   1.000000\n",
       "Greece                    0.333333\n",
       "Hungary                   0.000000\n",
       "Iceland                   1.000000\n",
       "Ireland                   0.333333\n",
       "Italy                     0.500000\n",
       "Montenegro                0.000000\n",
       "Netherlands               1.000000\n",
       "Norway                    1.000000\n",
       "Poland                    0.000000\n",
       "Portugal                  0.000000\n",
       "Romania                   0.000000\n",
       "Serbia                    0.000000\n",
       "Slovak Republic           0.000000\n",
       "Slovenia                  0.333333\n",
       "Spain                     0.333333\n",
       "Sweden                    1.000000\n",
       "Switzerland               1.000000\n",
       "Turkey                    0.000000\n",
       "United Kingdom            1.000000\n",
       "dtype: float64"
      ]
     },
     "execution_count": 11,
     "metadata": {},
     "output_type": "execute_result"
    }
   ],
   "source": [
    "mask_higher = data > data.mean()\n",
    "wealth_score = mask_higher.aggregate('sum', axis=1) / len(data.columns)\n",
    "wealth_score"
   ]
  },
  {
   "cell_type": "markdown",
   "id": "f96f9c88-a611-4f90-a4f6-4fef42bd5af4",
   "metadata": {},
   "source": [
    "Then for each group in the `wealth_score` table, we sum their financial contribution across the years surveyed."
   ]
  },
  {
   "cell_type": "code",
   "execution_count": 12,
   "id": "d9a65b08-1453-48f4-8ab6-d2b6aa96dd9c",
   "metadata": {},
   "outputs": [
    {
     "name": "stdout",
     "output_type": "stream",
     "text": [
      "          gdpPercap_1952  gdpPercap_1957  gdpPercap_1962  gdpPercap_1967  \\\n",
      "0.000000    36916.854200    46110.918793    56850.065437    71324.848786   \n",
      "0.333333    16790.046878    20942.456800    25744.935321    33567.667670   \n",
      "0.500000    11807.544405    14505.000150    18380.449470    21421.846200   \n",
      "1.000000   104317.277560   127332.008735   149989.154201   178000.350040   \n",
      "\n",
      "          gdpPercap_1972  gdpPercap_1977  gdpPercap_1982  gdpPercap_1987  \\\n",
      "0.000000    88569.346898   104459.358438   113553.768507   119649.599409   \n",
      "0.333333    45277.839976    53860.456750    59679.634020    64436.912960   \n",
      "0.500000    25377.727380    29056.145370    31914.712050    35517.678220   \n",
      "1.000000   215162.343140   241143.412730   263388.781960   296825.131210   \n",
      "\n",
      "          gdpPercap_1992  gdpPercap_1997  gdpPercap_2002  gdpPercap_2007  \n",
      "0.000000    92380.047256   103772.937598   118590.929863   149577.357928  \n",
      "0.333333    67918.093220    80876.051580   102086.795210   122803.729520  \n",
      "0.500000    36310.666080    40723.538700    45564.308390    51403.028210  \n",
      "1.000000   315238.235970   346930.926170   385109.939210   427850.333420  \n"
     ]
    }
   ],
   "source": [
    "print(data.groupby(wealth_score).sum())"
   ]
  },
  {
   "cell_type": "markdown",
   "id": "09aa9a21-b191-463a-aaae-c3e5fb1ee72a",
   "metadata": {},
   "source": [
    "## Exercises"
   ]
  },
  {
   "cell_type": "markdown",
   "id": "ee939af0-5b04-4b44-bf17-5281d3a22c7b",
   "metadata": {},
   "source": [
    "GDP per capita for all countries in 1982."
   ]
  },
  {
   "cell_type": "code",
   "execution_count": 13,
   "id": "140eac80-1e36-4f12-9b4d-dd3457285f85",
   "metadata": {},
   "outputs": [
    {
     "name": "stdout",
     "output_type": "stream",
     "text": [
      "country\n",
      "Albania                    3630.880722\n",
      "Austria                   21597.083620\n",
      "Belgium                   20979.845890\n",
      "Bosnia and Herzegovina     4126.613157\n",
      "Bulgaria                   8224.191647\n",
      "Croatia                   13221.821840\n",
      "Czech Republic            15377.228550\n",
      "Denmark                   21688.040480\n",
      "Finland                   18533.157610\n",
      "France                    20293.897460\n",
      "Germany                   22031.532740\n",
      "Greece                    15268.420890\n",
      "Hungary                   12545.990660\n",
      "Iceland                   23269.607500\n",
      "Ireland                   12618.321410\n",
      "Italy                     16537.483500\n",
      "Montenegro                11222.587620\n",
      "Netherlands               21399.460460\n",
      "Norway                    26298.635310\n",
      "Poland                     8451.531004\n",
      "Portugal                  11753.842910\n",
      "Romania                    9605.314053\n",
      "Serbia                    15181.092700\n",
      "Slovak Republic           11348.545850\n",
      "Slovenia                  17866.721750\n",
      "Spain                     13926.169970\n",
      "Sweden                    20667.381250\n",
      "Switzerland               28397.715120\n",
      "Turkey                     4241.356344\n",
      "United Kingdom            18232.424520\n",
      "Name: gdpPercap_1982, dtype: float64\n"
     ]
    }
   ],
   "source": [
    "print(data.loc[:,\"gdpPercap_1982\"])"
   ]
  },
  {
   "cell_type": "markdown",
   "id": "b8f41bab-850c-434b-bb09-a946d83ad00f",
   "metadata": {},
   "source": [
    "GDP per capita for Denmark for all years."
   ]
  },
  {
   "cell_type": "code",
   "execution_count": 14,
   "id": "a04667f1-78bf-4f43-8dda-ccfa6cbb0478",
   "metadata": {},
   "outputs": [
    {
     "name": "stdout",
     "output_type": "stream",
     "text": [
      "gdpPercap_1952     9692.385245\n",
      "gdpPercap_1957    11099.659350\n",
      "gdpPercap_1962    13583.313510\n",
      "gdpPercap_1967    15937.211230\n",
      "gdpPercap_1972    18866.207210\n",
      "gdpPercap_1977    20422.901500\n",
      "gdpPercap_1982    21688.040480\n",
      "gdpPercap_1987    25116.175810\n",
      "gdpPercap_1992    26406.739850\n",
      "gdpPercap_1997    29804.345670\n",
      "gdpPercap_2002    32166.500060\n",
      "gdpPercap_2007    35278.418740\n",
      "Name: Denmark, dtype: float64\n"
     ]
    }
   ],
   "source": [
    "print(data.loc[\"Denmark\",:])"
   ]
  },
  {
   "cell_type": "markdown",
   "id": "bd522d99-c331-4b16-b23e-c37c813bea2b",
   "metadata": {},
   "source": [
    "GDP per capita for all countries for years after 1985."
   ]
  },
  {
   "cell_type": "code",
   "execution_count": 15,
   "id": "4f9d0140-58f8-423c-8296-c16790e0bd73",
   "metadata": {},
   "outputs": [
    {
     "name": "stdout",
     "output_type": "stream",
     "text": [
      "                        gdpPercap_1987  gdpPercap_1992  gdpPercap_1997  \\\n",
      "country                                                                  \n",
      "Albania                    3738.932735     2497.437901     3193.054604   \n",
      "Austria                   23687.826070    27042.018680    29095.920660   \n",
      "Belgium                   22525.563080    25575.570690    27561.196630   \n",
      "Bosnia and Herzegovina     4314.114757     2546.781445     4766.355904   \n",
      "Bulgaria                   8239.854824     6302.623438     5970.388760   \n",
      "Croatia                   13822.583940     8447.794873     9875.604515   \n",
      "Czech Republic            16310.443400    14297.021220    16048.514240   \n",
      "Denmark                   25116.175810    26406.739850    29804.345670   \n",
      "Finland                   21141.012230    20647.164990    23723.950200   \n",
      "France                    22066.442140    24703.796150    25889.784870   \n",
      "Germany                   24639.185660    26505.303170    27788.884160   \n",
      "Greece                    16120.528390    17541.496340    18747.698140   \n",
      "Hungary                   12986.479980    10535.628550    11712.776800   \n",
      "Iceland                   26923.206280    25144.392010    28061.099660   \n",
      "Ireland                   13872.866520    17558.815550    24521.947130   \n",
      "Italy                     19207.234820    22013.644860    24675.024460   \n",
      "Montenegro                11732.510170     7003.339037     6465.613349   \n",
      "Netherlands               23651.323610    26790.949610    30246.130630   \n",
      "Norway                    31540.974800    33965.661150    41283.164330   \n",
      "Poland                     9082.351172     7738.881247    10159.583680   \n",
      "Portugal                  13039.308760    16207.266630    17641.031560   \n",
      "Romania                    9696.273295     6598.409903     7346.547557   \n",
      "Serbia                    15870.878510     9325.068238     7914.320304   \n",
      "Slovak Republic           12037.267580     9498.467723    12126.230650   \n",
      "Slovenia                  18678.534920    14214.716810    17161.107350   \n",
      "Spain                     15764.983130    18603.064520    20445.298960   \n",
      "Sweden                    23586.929270    23880.016830    25266.594990   \n",
      "Switzerland               30281.704590    31871.530300    32135.323010   \n",
      "Turkey                     5089.043686     5678.348271     6601.429915   \n",
      "United Kingdom            21664.787670    22705.092540    26074.531360   \n",
      "\n",
      "                        gdpPercap_2002  gdpPercap_2007  \n",
      "country                                                 \n",
      "Albania                    4604.211737     5937.029526  \n",
      "Austria                   32417.607690    36126.492700  \n",
      "Belgium                   30485.883750    33692.605080  \n",
      "Bosnia and Herzegovina     6018.975239     7446.298803  \n",
      "Bulgaria                   7696.777725    10680.792820  \n",
      "Croatia                   11628.388950    14619.222720  \n",
      "Czech Republic            17596.210220    22833.308510  \n",
      "Denmark                   32166.500060    35278.418740  \n",
      "Finland                   28204.590570    33207.084400  \n",
      "France                    28926.032340    30470.016700  \n",
      "Germany                   30035.801980    32170.374420  \n",
      "Greece                    22514.254800    27538.411880  \n",
      "Hungary                   14843.935560    18008.944440  \n",
      "Iceland                   31163.201960    36180.789190  \n",
      "Ireland                   34077.049390    40675.996350  \n",
      "Italy                     27968.098170    28569.719700  \n",
      "Montenegro                 6557.194282     9253.896111  \n",
      "Netherlands               33724.757780    36797.933320  \n",
      "Norway                    44683.975250    49357.190170  \n",
      "Poland                    12002.239080    15389.924680  \n",
      "Portugal                  19970.907870    20509.647770  \n",
      "Romania                    7885.360081    10808.475610  \n",
      "Serbia                     7236.075251     9786.534714  \n",
      "Slovak Republic           13638.778370    18678.314350  \n",
      "Slovenia                  20660.019360    25768.257590  \n",
      "Spain                     24835.471660    28821.063700  \n",
      "Sweden                    29341.630930    33859.748350  \n",
      "Switzerland               34480.957710    37506.419070  \n",
      "Turkey                     6508.085718     8458.276384  \n",
      "United Kingdom            29478.999190    33203.261280  \n"
     ]
    }
   ],
   "source": [
    "print(data.loc[:,\"gdpPercap_1985\":])"
   ]
  },
  {
   "cell_type": "markdown",
   "id": "0292b2a0-ef06-44f2-9caa-c79451865bcb",
   "metadata": {},
   "source": [
    "GDP per capita for each country in 2007 as a multiple of GDP per capita for that country in 1952. **YET TO BE FINISHED**"
   ]
  },
  {
   "cell_type": "code",
   "execution_count": 16,
   "id": "2f56026e-bd9b-4b2f-8fb9-ceba80127006",
   "metadata": {},
   "outputs": [
    {
     "name": "stdout",
     "output_type": "stream",
     "text": [
      "country\n",
      "Albania                    5937.029526\n",
      "Austria                   36126.492700\n",
      "Belgium                   33692.605080\n",
      "Bosnia and Herzegovina     7446.298803\n",
      "Bulgaria                  10680.792820\n",
      "Croatia                   14619.222720\n",
      "Czech Republic            22833.308510\n",
      "Denmark                   35278.418740\n",
      "Finland                   33207.084400\n",
      "France                    30470.016700\n",
      "Germany                   32170.374420\n",
      "Greece                    27538.411880\n",
      "Hungary                   18008.944440\n",
      "Iceland                   36180.789190\n",
      "Ireland                   40675.996350\n",
      "Italy                     28569.719700\n",
      "Montenegro                 9253.896111\n",
      "Netherlands               36797.933320\n",
      "Norway                    49357.190170\n",
      "Poland                    15389.924680\n",
      "Portugal                  20509.647770\n",
      "Romania                   10808.475610\n",
      "Serbia                     9786.534714\n",
      "Slovak Republic           18678.314350\n",
      "Slovenia                  25768.257590\n",
      "Spain                     28821.063700\n",
      "Sweden                    33859.748350\n",
      "Switzerland               37506.419070\n",
      "Turkey                     8458.276384\n",
      "United Kingdom            33203.261280\n",
      "Name: gdpPercap_2007, dtype: float64\n"
     ]
    }
   ],
   "source": [
    "print(data.loc[:,\"gdpPercap_2007\"])"
   ]
  }
 ],
 "metadata": {
  "kernelspec": {
   "display_name": "Python 3 (ipykernel)",
   "language": "python",
   "name": "python3"
  },
  "language_info": {
   "codemirror_mode": {
    "name": "ipython",
    "version": 3
   },
   "file_extension": ".py",
   "mimetype": "text/x-python",
   "name": "python",
   "nbconvert_exporter": "python",
   "pygments_lexer": "ipython3",
   "version": "3.9.6"
  }
 },
 "nbformat": 4,
 "nbformat_minor": 5
}
