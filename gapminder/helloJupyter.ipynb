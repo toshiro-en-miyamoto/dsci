{
 "cells": [
  {
   "cell_type": "markdown",
   "id": "9346ddb9-6225-447e-b3a7-00379494821e",
   "metadata": {},
   "source": [
    "- Notebooks can render *Markdown*.\n",
    "  - A simple plain-text format for writing lists, links, and other things that might go into a web page.\n",
    "  - Equivalently, a subset of HTML that looks like what you’d send in an old-fashioned email.\n",
    "- Turn the current cell into a Markdown cell by entering the Command mode (`Esc`/gray) and press the `M` key.\n",
    "- `In []:` will disappear to show it is no longer a code cell and you will be able to write in Markdown."
   ]
  },
  {
   "cell_type": "code",
   "execution_count": 1,
   "id": "7a222d09-cf43-44f7-b3ad-409de41e8503",
   "metadata": {},
   "outputs": [
    {
     "name": "stdout",
     "output_type": "stream",
     "text": [
      "54\n"
     ]
    }
   ],
   "source": [
    "x = 6 * 7 + 12\n",
    "print(x)"
   ]
  },
  {
   "cell_type": "markdown",
   "id": "8dbeb25f-70be-49e1-9d60-12c096d03302",
   "metadata": {},
   "source": [
    "$\\sum_{i=1}^{N} 2^{-i} \\approx 1$"
   ]
  }
 ],
 "metadata": {
  "kernelspec": {
   "display_name": "Python 3 (ipykernel)",
   "language": "python",
   "name": "python3"
  },
  "language_info": {
   "codemirror_mode": {
    "name": "ipython",
    "version": 3
   },
   "file_extension": ".py",
   "mimetype": "text/x-python",
   "name": "python",
   "nbconvert_exporter": "python",
   "pygments_lexer": "ipython3",
   "version": "3.9.6"
  }
 },
 "nbformat": 4,
 "nbformat_minor": 5
}
