{
 "cells": [
  {
   "cell_type": "markdown",
   "id": "3c68836e-81c8-4afb-9e7e-a49b238b141c",
   "metadata": {},
   "source": [
    "# Tidying Messy Datasets"
   ]
  },
  {
   "cell_type": "markdown",
   "id": "0c61bbf0-cd19-472c-89fa-20dfde4663b4",
   "metadata": {},
   "source": [
    "Reference: [Tidy Data](https://vita.had.co.nz/papers/tidy-data.pdf), by Hadley Wickham"
   ]
  },
  {
   "cell_type": "code",
   "execution_count": 1,
   "id": "8db1eb2c-bf7c-41f5-abe7-98cfcbba959a",
   "metadata": {},
   "outputs": [],
   "source": [
    "import pandas as pd"
   ]
  },
  {
   "cell_type": "code",
   "execution_count": 2,
   "id": "e83faa5b-ef8a-472c-8940-76adc212465e",
   "metadata": {},
   "outputs": [],
   "source": [
    "import matplotlib.pyplot as plt"
   ]
  },
  {
   "cell_type": "markdown",
   "id": "901741fe-59bc-48a0-8877-05e314577433",
   "metadata": {
    "tags": []
   },
   "source": [
    "## 1. Column headers are values, not variable names"
   ]
  },
  {
   "cell_type": "markdown",
   "id": "9569bd0e-b211-4fcd-b6f7-0cbcdf9b8975",
   "metadata": {},
   "source": [
    "A common type of messy dataset is tabular data designed for presentation, where **variables** form both the rows and columns, and column headers are **values**, not variable names."
   ]
  },
  {
   "cell_type": "markdown",
   "id": "6b0fac07-5c50-4c96-bb3e-f441eb533d9c",
   "metadata": {},
   "source": [
    "(For example, suppose that a particular study is interested in characteristics such as age, gender, marital status, and annual income for a sample of 100 individuals. These characteristics would be called the **variables** of the study, and data values for each of the variables would be associated with each individual. Thus, the data **values** of 28, male, single, and `$30,000` would be recorded for a 28-year-old single male with an annual income of `$30,000`. With 100 individuals and 4 variables, the data set would have `100 × 4 = 400` items. [[Statistics, Britannica Kids](https://www.britannica.com/science/statistics)])"
   ]
  },
  {
   "cell_type": "code",
   "execution_count": 3,
   "id": "3aec7b29-78ba-4da2-a1b8-7624b0614df9",
   "metadata": {},
   "outputs": [],
   "source": [
    "ir = pd.DataFrame(\n",
    "    {\n",
    "        'religion': ['Agnostic', 'Atheist', 'Buddhist',],\n",
    "        '$00-10k' : [ 27,  12,  27,],\n",
    "        '$10-20k' : [ 34,  27,  21,],\n",
    "        '$20-30k' : [ 60,  37,  30,],\n",
    "        '$30-40k' : [ 81,  52,  34,],\n",
    "    })"
   ]
  },
  {
   "cell_type": "markdown",
   "id": "cb3c1987-e6c6-427f-b158-154f82285db4",
   "metadata": {},
   "source": [
    "This dataset has three variables: `religion`, `income` and `frequency`."
   ]
  },
  {
   "cell_type": "code",
   "execution_count": 4,
   "id": "23ec0fc0-6db5-42a7-a462-ae32c4aaa403",
   "metadata": {},
   "outputs": [
    {
     "data": {
      "text/html": [
       "<div>\n",
       "<style scoped>\n",
       "    .dataframe tbody tr th:only-of-type {\n",
       "        vertical-align: middle;\n",
       "    }\n",
       "\n",
       "    .dataframe tbody tr th {\n",
       "        vertical-align: top;\n",
       "    }\n",
       "\n",
       "    .dataframe thead th {\n",
       "        text-align: right;\n",
       "    }\n",
       "</style>\n",
       "<table border=\"1\" class=\"dataframe\">\n",
       "  <thead>\n",
       "    <tr style=\"text-align: right;\">\n",
       "      <th></th>\n",
       "      <th>religion</th>\n",
       "      <th>$00-10k</th>\n",
       "      <th>$10-20k</th>\n",
       "      <th>$20-30k</th>\n",
       "      <th>$30-40k</th>\n",
       "    </tr>\n",
       "  </thead>\n",
       "  <tbody>\n",
       "    <tr>\n",
       "      <th>0</th>\n",
       "      <td>Agnostic</td>\n",
       "      <td>27</td>\n",
       "      <td>34</td>\n",
       "      <td>60</td>\n",
       "      <td>81</td>\n",
       "    </tr>\n",
       "    <tr>\n",
       "      <th>1</th>\n",
       "      <td>Atheist</td>\n",
       "      <td>12</td>\n",
       "      <td>27</td>\n",
       "      <td>37</td>\n",
       "      <td>52</td>\n",
       "    </tr>\n",
       "    <tr>\n",
       "      <th>2</th>\n",
       "      <td>Buddhist</td>\n",
       "      <td>27</td>\n",
       "      <td>21</td>\n",
       "      <td>30</td>\n",
       "      <td>34</td>\n",
       "    </tr>\n",
       "  </tbody>\n",
       "</table>\n",
       "</div>"
      ],
      "text/plain": [
       "   religion  $00-10k  $10-20k  $20-30k  $30-40k\n",
       "0  Agnostic       27       34       60       81\n",
       "1   Atheist       12       27       37       52\n",
       "2  Buddhist       27       21       30       34"
      ]
     },
     "execution_count": 4,
     "metadata": {},
     "output_type": "execute_result"
    }
   ],
   "source": [
    "ir"
   ]
  },
  {
   "cell_type": "markdown",
   "id": "f0a4634c-c3c9-4e49-a2c8-61f5c0f23487",
   "metadata": {},
   "source": [
    "(Notice that the following tabular representation of the dataset does not show the names of two variables, `income` and `frequency`. That is the drawback of *messy data*.)"
   ]
  },
  {
   "cell_type": "markdown",
   "id": "f415aea4-7940-45c0-958c-b4d45bff9efc",
   "metadata": {},
   "source": [
    "(For later use, the list of strings representing the income class is stored in a Python variable `income_class`."
   ]
  },
  {
   "cell_type": "code",
   "execution_count": 5,
   "id": "d5bdeabd-92c1-4bdc-a90d-a392943bca8e",
   "metadata": {},
   "outputs": [],
   "source": [
    "income_class = ir.columns.to_list()[1:]"
   ]
  },
  {
   "cell_type": "code",
   "execution_count": 6,
   "id": "32eff9d6-b31b-4772-b63a-31dc83a08199",
   "metadata": {},
   "outputs": [
    {
     "data": {
      "text/plain": [
       "['$00-10k', '$10-20k', '$20-30k', '$30-40k']"
      ]
     },
     "execution_count": 6,
     "metadata": {},
     "output_type": "execute_result"
    }
   ],
   "source": [
    "income_class"
   ]
  },
  {
   "cell_type": "markdown",
   "id": "59710b63-27ff-432a-91e3-6b776ecdfab5",
   "metadata": {},
   "source": [
    "### Tidying messy dataframes"
   ]
  },
  {
   "cell_type": "markdown",
   "id": "a52259a4-16d2-454a-841b-1ad9e9844264",
   "metadata": {},
   "source": [
    "To tidy it, we need to **melt**, or stack it. In other words, we need to turn columns into rows.\n",
    "\n",
    "Melting is parameterized by a list of columns that are already variables, or `id_var`s for short. The above dataset has one id_var, `religion`.\n",
    "\n",
    "The other columns are converted into two variables:\n",
    "- a new variable called `variable` that contains repeated column headings and\n",
    "- a new variable called `value` that contains the concatenated data values from the previously separate columns."
   ]
  },
  {
   "cell_type": "code",
   "execution_count": 7,
   "id": "e4c3476f-1b52-40b9-a9db-11b28c02c973",
   "metadata": {},
   "outputs": [
    {
     "data": {
      "text/html": [
       "<div>\n",
       "<style scoped>\n",
       "    .dataframe tbody tr th:only-of-type {\n",
       "        vertical-align: middle;\n",
       "    }\n",
       "\n",
       "    .dataframe tbody tr th {\n",
       "        vertical-align: top;\n",
       "    }\n",
       "\n",
       "    .dataframe thead th {\n",
       "        text-align: right;\n",
       "    }\n",
       "</style>\n",
       "<table border=\"1\" class=\"dataframe\">\n",
       "  <thead>\n",
       "    <tr style=\"text-align: right;\">\n",
       "      <th></th>\n",
       "      <th>religion</th>\n",
       "      <th>variable</th>\n",
       "      <th>value</th>\n",
       "    </tr>\n",
       "  </thead>\n",
       "  <tbody>\n",
       "    <tr>\n",
       "      <th>0</th>\n",
       "      <td>Agnostic</td>\n",
       "      <td>$00-10k</td>\n",
       "      <td>27</td>\n",
       "    </tr>\n",
       "    <tr>\n",
       "      <th>1</th>\n",
       "      <td>Atheist</td>\n",
       "      <td>$00-10k</td>\n",
       "      <td>12</td>\n",
       "    </tr>\n",
       "    <tr>\n",
       "      <th>2</th>\n",
       "      <td>Buddhist</td>\n",
       "      <td>$00-10k</td>\n",
       "      <td>27</td>\n",
       "    </tr>\n",
       "    <tr>\n",
       "      <th>3</th>\n",
       "      <td>Agnostic</td>\n",
       "      <td>$10-20k</td>\n",
       "      <td>34</td>\n",
       "    </tr>\n",
       "    <tr>\n",
       "      <th>4</th>\n",
       "      <td>Atheist</td>\n",
       "      <td>$10-20k</td>\n",
       "      <td>27</td>\n",
       "    </tr>\n",
       "  </tbody>\n",
       "</table>\n",
       "</div>"
      ],
      "text/plain": [
       "   religion variable  value\n",
       "0  Agnostic  $00-10k     27\n",
       "1   Atheist  $00-10k     12\n",
       "2  Buddhist  $00-10k     27\n",
       "3  Agnostic  $10-20k     34\n",
       "4   Atheist  $10-20k     27"
      ]
     },
     "execution_count": 7,
     "metadata": {},
     "output_type": "execute_result"
    }
   ],
   "source": [
    "ir.melt(\n",
    "    id_vars=['religion'], \n",
    "    value_vars=income_class,\n",
    "        # ['$00-10k', '$10-20k', '$20-30k', '$30-40k']\n",
    ").head()"
   ]
  },
  {
   "cell_type": "markdown",
   "id": "698dc2a5-34d8-454a-afe7-f7b5c30369e6",
   "metadata": {},
   "source": [
    "To better reflect their roles in this dataset, the variable column has been renamed to `income`, and the value column to `freq`."
   ]
  },
  {
   "cell_type": "code",
   "execution_count": 8,
   "id": "902b13a1-da44-4434-85c7-248b8385232d",
   "metadata": {},
   "outputs": [],
   "source": [
    "tidy_ir = ir.melt(\n",
    "    id_vars=['religion'], \n",
    "    value_vars=income_class,\n",
    "    var_name='income',\n",
    "    value_name='freq',\n",
    ")"
   ]
  },
  {
   "cell_type": "code",
   "execution_count": 9,
   "id": "47db77cd-cf0a-4271-9d4e-c3d52b01c1ea",
   "metadata": {},
   "outputs": [
    {
     "data": {
      "text/html": [
       "<div>\n",
       "<style scoped>\n",
       "    .dataframe tbody tr th:only-of-type {\n",
       "        vertical-align: middle;\n",
       "    }\n",
       "\n",
       "    .dataframe tbody tr th {\n",
       "        vertical-align: top;\n",
       "    }\n",
       "\n",
       "    .dataframe thead th {\n",
       "        text-align: right;\n",
       "    }\n",
       "</style>\n",
       "<table border=\"1\" class=\"dataframe\">\n",
       "  <thead>\n",
       "    <tr style=\"text-align: right;\">\n",
       "      <th></th>\n",
       "      <th>religion</th>\n",
       "      <th>income</th>\n",
       "      <th>freq</th>\n",
       "    </tr>\n",
       "  </thead>\n",
       "  <tbody>\n",
       "    <tr>\n",
       "      <th>0</th>\n",
       "      <td>Agnostic</td>\n",
       "      <td>$00-10k</td>\n",
       "      <td>27</td>\n",
       "    </tr>\n",
       "    <tr>\n",
       "      <th>1</th>\n",
       "      <td>Atheist</td>\n",
       "      <td>$00-10k</td>\n",
       "      <td>12</td>\n",
       "    </tr>\n",
       "    <tr>\n",
       "      <th>2</th>\n",
       "      <td>Buddhist</td>\n",
       "      <td>$00-10k</td>\n",
       "      <td>27</td>\n",
       "    </tr>\n",
       "    <tr>\n",
       "      <th>3</th>\n",
       "      <td>Agnostic</td>\n",
       "      <td>$10-20k</td>\n",
       "      <td>34</td>\n",
       "    </tr>\n",
       "    <tr>\n",
       "      <th>4</th>\n",
       "      <td>Atheist</td>\n",
       "      <td>$10-20k</td>\n",
       "      <td>27</td>\n",
       "    </tr>\n",
       "    <tr>\n",
       "      <th>5</th>\n",
       "      <td>Buddhist</td>\n",
       "      <td>$10-20k</td>\n",
       "      <td>21</td>\n",
       "    </tr>\n",
       "    <tr>\n",
       "      <th>6</th>\n",
       "      <td>Agnostic</td>\n",
       "      <td>$20-30k</td>\n",
       "      <td>60</td>\n",
       "    </tr>\n",
       "    <tr>\n",
       "      <th>7</th>\n",
       "      <td>Atheist</td>\n",
       "      <td>$20-30k</td>\n",
       "      <td>37</td>\n",
       "    </tr>\n",
       "    <tr>\n",
       "      <th>8</th>\n",
       "      <td>Buddhist</td>\n",
       "      <td>$20-30k</td>\n",
       "      <td>30</td>\n",
       "    </tr>\n",
       "    <tr>\n",
       "      <th>9</th>\n",
       "      <td>Agnostic</td>\n",
       "      <td>$30-40k</td>\n",
       "      <td>81</td>\n",
       "    </tr>\n",
       "    <tr>\n",
       "      <th>10</th>\n",
       "      <td>Atheist</td>\n",
       "      <td>$30-40k</td>\n",
       "      <td>52</td>\n",
       "    </tr>\n",
       "    <tr>\n",
       "      <th>11</th>\n",
       "      <td>Buddhist</td>\n",
       "      <td>$30-40k</td>\n",
       "      <td>34</td>\n",
       "    </tr>\n",
       "  </tbody>\n",
       "</table>\n",
       "</div>"
      ],
      "text/plain": [
       "    religion   income  freq\n",
       "0   Agnostic  $00-10k    27\n",
       "1    Atheist  $00-10k    12\n",
       "2   Buddhist  $00-10k    27\n",
       "3   Agnostic  $10-20k    34\n",
       "4    Atheist  $10-20k    27\n",
       "5   Buddhist  $10-20k    21\n",
       "6   Agnostic  $20-30k    60\n",
       "7    Atheist  $20-30k    37\n",
       "8   Buddhist  $20-30k    30\n",
       "9   Agnostic  $30-40k    81\n",
       "10   Atheist  $30-40k    52\n",
       "11  Buddhist  $30-40k    34"
      ]
     },
     "execution_count": 9,
     "metadata": {},
     "output_type": "execute_result"
    }
   ],
   "source": [
    "tidy_ir"
   ]
  },
  {
   "cell_type": "markdown",
   "id": "20e81657-a0d6-4808-9ebd-36bb384de5f3",
   "metadata": {},
   "source": [
    "This form is tidy because each column represents a variable and each row represents an observation, in this case a demographic unit corresponding to a combination of religion and income."
   ]
  },
  {
   "cell_type": "markdown",
   "id": "56ca056c-1319-4cbe-a156-acdf6da66734",
   "metadata": {},
   "source": [
    "### Presenting tidy dataframes"
   ]
  },
  {
   "cell_type": "code",
   "execution_count": 10,
   "id": "b7f9f96c-5836-413a-bda5-86b3ee7b1e09",
   "metadata": {},
   "outputs": [],
   "source": [
    "import seaborn as sns"
   ]
  },
  {
   "cell_type": "code",
   "execution_count": 11,
   "id": "ac4264f8-15b7-426b-996f-452cc933f78e",
   "metadata": {},
   "outputs": [],
   "source": [
    "sns.set_theme(style='darkgrid')"
   ]
  },
  {
   "cell_type": "markdown",
   "id": "26530510-3a99-49d0-b753-8d1451611315",
   "metadata": {},
   "source": [
    "Now that you have the tidy data, you have two options for presentation: grouped by `religion` or by `income`."
   ]
  },
  {
   "cell_type": "code",
   "execution_count": 12,
   "id": "678b4c75-8c6d-4482-a596-b07a34f68784",
   "metadata": {},
   "outputs": [
    {
     "data": {
      "text/plain": [
       "<seaborn.axisgrid.FacetGrid at 0xffff5a6a2eb0>"
      ]
     },
     "execution_count": 12,
     "metadata": {},
     "output_type": "execute_result"
    },
    {
     "data": {
      "image/png": "[encoded data removed]",
      "text/plain": [
       "<Figure size 444.975x360 with 1 Axes>"
      ]
     },
     "metadata": {},
     "output_type": "display_data"
    }
   ],
   "source": [
    "sns.catplot(\n",
    "    data=tidy_ir, kind='bar', y='freq', x='religion', hue='income')"
   ]
  },
  {
   "cell_type": "code",
   "execution_count": 13,
   "id": "358201f7-04ba-4743-a0a1-62223b78104d",
   "metadata": {},
   "outputs": [
    {
     "data": {
      "text/plain": [
       "<seaborn.axisgrid.FacetGrid at 0xffff5a4a9940>"
      ]
     },
     "execution_count": 13,
     "metadata": {},
     "output_type": "execute_result"
    },
    {
     "data": {
      "image/png": "[encoded data removed]",
      "text/plain": [
       "<Figure size 448.225x360 with 1 Axes>"
      ]
     },
     "metadata": {},
     "output_type": "display_data"
    }
   ],
   "source": [
    "sns.catplot(\n",
    "    data=tidy_ir, kind='bar', y='freq', x='income', hue='religion')"
   ]
  },
  {
   "cell_type": "markdown",
   "id": "99ee81f6-4e13-4e60-978f-57e917a5e015",
   "metadata": {},
   "source": [
    "To reshape the dataframe for presentation, we use the `DataFrame.pivot()` method."
   ]
  },
  {
   "cell_type": "code",
   "execution_count": 14,
   "id": "089f91ce-8215-46f2-ac80-eb6d2758cf7b",
   "metadata": {},
   "outputs": [
    {
     "data": {
      "text/html": [
       "<div>\n",
       "<style scoped>\n",
       "    .dataframe tbody tr th:only-of-type {\n",
       "        vertical-align: middle;\n",
       "    }\n",
       "\n",
       "    .dataframe tbody tr th {\n",
       "        vertical-align: top;\n",
       "    }\n",
       "\n",
       "    .dataframe thead th {\n",
       "        text-align: right;\n",
       "    }\n",
       "</style>\n",
       "<table border=\"1\" class=\"dataframe\">\n",
       "  <thead>\n",
       "    <tr style=\"text-align: right;\">\n",
       "      <th>income</th>\n",
       "      <th>$00-10k</th>\n",
       "      <th>$10-20k</th>\n",
       "      <th>$20-30k</th>\n",
       "      <th>$30-40k</th>\n",
       "    </tr>\n",
       "    <tr>\n",
       "      <th>religion</th>\n",
       "      <th></th>\n",
       "      <th></th>\n",
       "      <th></th>\n",
       "      <th></th>\n",
       "    </tr>\n",
       "  </thead>\n",
       "  <tbody>\n",
       "    <tr>\n",
       "      <th>Agnostic</th>\n",
       "      <td>27</td>\n",
       "      <td>34</td>\n",
       "      <td>60</td>\n",
       "      <td>81</td>\n",
       "    </tr>\n",
       "    <tr>\n",
       "      <th>Atheist</th>\n",
       "      <td>12</td>\n",
       "      <td>27</td>\n",
       "      <td>37</td>\n",
       "      <td>52</td>\n",
       "    </tr>\n",
       "    <tr>\n",
       "      <th>Buddhist</th>\n",
       "      <td>27</td>\n",
       "      <td>21</td>\n",
       "      <td>30</td>\n",
       "      <td>34</td>\n",
       "    </tr>\n",
       "  </tbody>\n",
       "</table>\n",
       "</div>"
      ],
      "text/plain": [
       "income    $00-10k  $10-20k  $20-30k  $30-40k\n",
       "religion                                    \n",
       "Agnostic       27       34       60       81\n",
       "Atheist        12       27       37       52\n",
       "Buddhist       27       21       30       34"
      ]
     },
     "execution_count": 14,
     "metadata": {},
     "output_type": "execute_result"
    }
   ],
   "source": [
    "tidy_ir.pivot(index='religion', columns='income', values='freq')"
   ]
  },
  {
   "cell_type": "code",
   "execution_count": 15,
   "id": "5f7d9a40-bc3e-48fe-8c6f-e26e32b8e927",
   "metadata": {},
   "outputs": [
    {
     "data": {
      "text/html": [
       "<div>\n",
       "<style scoped>\n",
       "    .dataframe tbody tr th:only-of-type {\n",
       "        vertical-align: middle;\n",
       "    }\n",
       "\n",
       "    .dataframe tbody tr th {\n",
       "        vertical-align: top;\n",
       "    }\n",
       "\n",
       "    .dataframe thead th {\n",
       "        text-align: right;\n",
       "    }\n",
       "</style>\n",
       "<table border=\"1\" class=\"dataframe\">\n",
       "  <thead>\n",
       "    <tr style=\"text-align: right;\">\n",
       "      <th>religion</th>\n",
       "      <th>Agnostic</th>\n",
       "      <th>Atheist</th>\n",
       "      <th>Buddhist</th>\n",
       "    </tr>\n",
       "    <tr>\n",
       "      <th>income</th>\n",
       "      <th></th>\n",
       "      <th></th>\n",
       "      <th></th>\n",
       "    </tr>\n",
       "  </thead>\n",
       "  <tbody>\n",
       "    <tr>\n",
       "      <th>$00-10k</th>\n",
       "      <td>27</td>\n",
       "      <td>12</td>\n",
       "      <td>27</td>\n",
       "    </tr>\n",
       "    <tr>\n",
       "      <th>$10-20k</th>\n",
       "      <td>34</td>\n",
       "      <td>27</td>\n",
       "      <td>21</td>\n",
       "    </tr>\n",
       "    <tr>\n",
       "      <th>$20-30k</th>\n",
       "      <td>60</td>\n",
       "      <td>37</td>\n",
       "      <td>30</td>\n",
       "    </tr>\n",
       "    <tr>\n",
       "      <th>$30-40k</th>\n",
       "      <td>81</td>\n",
       "      <td>52</td>\n",
       "      <td>34</td>\n",
       "    </tr>\n",
       "  </tbody>\n",
       "</table>\n",
       "</div>"
      ],
      "text/plain": [
       "religion  Agnostic  Atheist  Buddhist\n",
       "income                               \n",
       "$00-10k         27       12        27\n",
       "$10-20k         34       27        21\n",
       "$20-30k         60       37        30\n",
       "$30-40k         81       52        34"
      ]
     },
     "execution_count": 15,
     "metadata": {},
     "output_type": "execute_result"
    }
   ],
   "source": [
    "tidy_ir.pivot(index='income', columns='religion', values='freq')"
   ]
  }
 ],
 "metadata": {
  "kernelspec": {
   "display_name": "Python 3 (ipykernel)",
   "language": "python",
   "name": "python3"
  },
  "language_info": {
   "codemirror_mode": {
    "name": "ipython",
    "version": 3
   },
   "file_extension": ".py",
   "mimetype": "text/x-python",
   "name": "python",
   "nbconvert_exporter": "python",
   "pygments_lexer": "ipython3",
   "version": "3.9.6"
  }
 },
 "nbformat": 4,
 "nbformat_minor": 5
}
