{
 "cells": [
  {
   "cell_type": "markdown",
   "id": "a70dea94-689d-4bb8-a94d-b018d3e662de",
   "metadata": {},
   "source": [
    "# Python Bracket Operators"
   ]
  },
  {
   "cell_type": "markdown",
   "id": "64071112-1ea0-4947-b0b2-8ea2aa52f1ca",
   "metadata": {},
   "source": [
    "- [`list` comprehensions](https://python-reference.readthedocs.io/en/latest/docs/comprehensions/list_comprehension.html)\n",
    "- [`list` literals](https://python-reference.readthedocs.io/en/latest/docs/list/literals.html)\n",
    "- [`[]` indexing](https://python-reference.readthedocs.io/en/latest/docs/brackets/indexing.html)\n",
    "- [`[]` slicing](https://python-reference.readthedocs.io/en/latest/docs/brackets/slicing.html)\n",
    "- [`[]` key lookup](https://python-reference.readthedocs.io/en/latest/docs/brackets/key_lookup.html)\n",
    "- [`[]` ellipsis](https://python-reference.readthedocs.io/en/latest/docs/brackets/ellipsis.html)"
   ]
  },
  {
   "cell_type": "markdown",
   "id": "bf0455ca-bf10-4c60-9010-31da2acb95f3",
   "metadata": {},
   "source": [
    "## `list` comprehensions"
   ]
  },
  {
   "cell_type": "markdown",
   "id": "25785660-e867-41e6-b680-6bd17f7e85c0",
   "metadata": {},
   "source": [
    "Returns a list based on existing iterables.\n",
    "\n",
    "```\n",
    "[expr(var) for var in input [predicate][, ...]]\n",
    "```\n",
    "\n",
    "<dl>\n",
    "    <dt>expr</dt>\n",
    "    <dd>Optional. An output expression producing members of the new set from members of the input set that satisfy the predicate expression.</dd>\n",
    "    <dt>var</dt>\n",
    "    <dd>Required. Variable representing members of an input set.</dd>\n",
    "    <dt>input</dt>\n",
    "    <dd>Required. Represents the input set.</dd>\n",
    "    <dt>predicate</dt>\n",
    "    <dd>Optional. Expression acting as a filter on members of the input set.</dd>\n",
    "    <dt>[, ...]</dt>\n",
    "    <dd>Optional. Another nested comprehension.</dd>\n",
    "<dl>"
   ]
  },
  {
   "cell_type": "code",
   "execution_count": 1,
   "id": "9e9f3664-2a63-4d9a-9e9b-b11a3b692cd0",
   "metadata": {},
   "outputs": [
    {
     "data": {
      "text/plain": [
       "[16, 25, 36]"
      ]
     },
     "execution_count": 1,
     "metadata": {},
     "output_type": "execute_result"
    }
   ],
   "source": [
    "[n**2 for n in range(7) if n > 3]"
   ]
  },
  {
   "cell_type": "code",
   "execution_count": 2,
   "id": "185af0bc-bfb2-43a7-b53b-2cfb517daf1a",
   "metadata": {},
   "outputs": [
    {
     "data": {
      "text/plain": [
       "[[1, 3], [1, 4], [2, 3], [2, 4]]"
      ]
     },
     "execution_count": 2,
     "metadata": {},
     "output_type": "execute_result"
    }
   ],
   "source": [
    "[[m, n] for m in (1, 2) for n in (3, 4)]"
   ]
  },
  {
   "cell_type": "markdown",
   "id": "cb964538-15f4-444f-9ee6-3ffd729e8ed1",
   "metadata": {},
   "source": [
    "## `list` literals"
   ]
  },
  {
   "cell_type": "markdown",
   "id": "301f2962-8fe5-459a-8b1e-a60e1206d4d9",
   "metadata": {},
   "source": [
    "`List`s can be initialized separating enclosing comma separated values in sequence brackets `[]`."
   ]
  },
  {
   "cell_type": "code",
   "execution_count": 3,
   "id": "7d28c916-ece5-45ca-bd08-1f210c0e7db7",
   "metadata": {},
   "outputs": [],
   "source": [
    "l = [1, 2]"
   ]
  },
  {
   "cell_type": "code",
   "execution_count": 4,
   "id": "f7c862bc-8228-4591-8f59-f4002e4875cb",
   "metadata": {},
   "outputs": [
    {
     "data": {
      "text/plain": [
       "[1, 2]"
      ]
     },
     "execution_count": 4,
     "metadata": {},
     "output_type": "execute_result"
    }
   ],
   "source": [
    "l"
   ]
  },
  {
   "cell_type": "code",
   "execution_count": 5,
   "id": "b6353635-672b-418a-bf41-d4de487995f9",
   "metadata": {},
   "outputs": [],
   "source": [
    "a = 'AA'"
   ]
  },
  {
   "cell_type": "code",
   "execution_count": 6,
   "id": "5db1beb0-1c43-4f24-8133-15af2e789e9a",
   "metadata": {},
   "outputs": [],
   "source": [
    "b = 'BB'"
   ]
  },
  {
   "cell_type": "code",
   "execution_count": 7,
   "id": "9dbec72b-ef41-44f4-b5a9-7a9169a5a92e",
   "metadata": {},
   "outputs": [],
   "source": [
    "l = [a, b]"
   ]
  },
  {
   "cell_type": "code",
   "execution_count": 8,
   "id": "528d0329-f78a-4003-afec-8eefb8ab0867",
   "metadata": {},
   "outputs": [
    {
     "data": {
      "text/plain": [
       "['AA', 'BB']"
      ]
     },
     "execution_count": 8,
     "metadata": {},
     "output_type": "execute_result"
    }
   ],
   "source": [
    "l"
   ]
  },
  {
   "cell_type": "markdown",
   "id": "09aad862-430d-46b3-8c63-073eaa75da37",
   "metadata": {},
   "source": [
    "## `[]` indexing"
   ]
  },
  {
   "cell_type": "markdown",
   "id": "39f4ab5d-f29d-421c-9709-4cf53c8f16d7",
   "metadata": {},
   "source": [
    "Gives access to a sequence's element.\n",
    "\n",
    "```\n",
    "sequence [index]\n",
    "```\n",
    "\n",
    "<dl>\n",
    "    <dt>index></dt>\n",
    "    <dd>Index of the item you want to access. Must be an integer.</dd>\n",
    "</dl>\n",
    "\n",
    "The built-in fundamental sequence types are:\n",
    "- strings &mdash; `str` and `unicode`\n",
    "- arrays &mdash; `list` and `tuple`\n",
    "\n",
    "Since all sequences are ordered and indexed arrays of objects, each object stored in a sequence has it’s associated index number - positive one, zero indexed and starting from left, and the negative one starting at -1 from the right."
   ]
  },
  {
   "cell_type": "code",
   "execution_count": 9,
   "id": "710c49a5-11cf-48c7-8a13-8fb0f31acc84",
   "metadata": {},
   "outputs": [],
   "source": [
    "s = 'ABCDEFG'"
   ]
  },
  {
   "cell_type": "code",
   "execution_count": 10,
   "id": "8329f520-86e4-4ed1-93d0-82a11cdb44da",
   "metadata": {},
   "outputs": [
    {
     "data": {
      "text/plain": [
       "'A'"
      ]
     },
     "execution_count": 10,
     "metadata": {},
     "output_type": "execute_result"
    }
   ],
   "source": [
    "s[0]"
   ]
  },
  {
   "cell_type": "code",
   "execution_count": 11,
   "id": "ced804ee-566e-4c26-9e53-e332b63798c8",
   "metadata": {},
   "outputs": [
    {
     "data": {
      "text/plain": [
       "'G'"
      ]
     },
     "execution_count": 11,
     "metadata": {},
     "output_type": "execute_result"
    }
   ],
   "source": [
    "s[-1]"
   ]
  },
  {
   "cell_type": "markdown",
   "id": "84c860d0-2c95-43c5-8f55-ddf3acb98dc4",
   "metadata": {},
   "source": [
    "Index lookups can be chained to access nested containers."
   ]
  },
  {
   "cell_type": "code",
   "execution_count": 12,
   "id": "dfc5f82f-4029-42c9-84b8-7ab12d0f5fde",
   "metadata": {},
   "outputs": [],
   "source": [
    "a2d = ((0, 1), (2, 3))"
   ]
  },
  {
   "cell_type": "code",
   "execution_count": 13,
   "id": "ef08e736-fa72-4fef-bcb7-f644f59f72b8",
   "metadata": {},
   "outputs": [
    {
     "data": {
      "text/plain": [
       "3"
      ]
     },
     "execution_count": 13,
     "metadata": {},
     "output_type": "execute_result"
    }
   ],
   "source": [
    "a2d[1][1]"
   ]
  },
  {
   "cell_type": "markdown",
   "id": "60dd9491-df39-4fb0-af93-af6be143b806",
   "metadata": {},
   "source": [
    "Since `list`s are mutable, indexes can be used for item assignment or deletion."
   ]
  },
  {
   "cell_type": "code",
   "execution_count": 14,
   "id": "b4b97b5b-cbf6-4067-a412-b6ffc5ae0ca1",
   "metadata": {},
   "outputs": [],
   "source": [
    "l = [2, 3, 5, 7]"
   ]
  },
  {
   "cell_type": "code",
   "execution_count": 15,
   "id": "9602f890-a80f-42fe-937d-9e13536c1cf3",
   "metadata": {},
   "outputs": [],
   "source": [
    "l[0] = 'ABCD'"
   ]
  },
  {
   "cell_type": "code",
   "execution_count": 16,
   "id": "c22d3205-259d-4bc1-ab15-667d68749091",
   "metadata": {},
   "outputs": [
    {
     "data": {
      "text/plain": [
       "['ABCD', 3, 5, 7]"
      ]
     },
     "execution_count": 16,
     "metadata": {},
     "output_type": "execute_result"
    }
   ],
   "source": [
    "l"
   ]
  },
  {
   "cell_type": "code",
   "execution_count": 17,
   "id": "a2c8dde3-488c-47d6-8926-2b95cb284c6b",
   "metadata": {},
   "outputs": [],
   "source": [
    "del l[2]"
   ]
  },
  {
   "cell_type": "code",
   "execution_count": 18,
   "id": "1ed8a7be-a05a-4d9b-9568-b80cc0ffe2ea",
   "metadata": {},
   "outputs": [
    {
     "data": {
      "text/plain": [
       "['ABCD', 3, 7]"
      ]
     },
     "execution_count": 18,
     "metadata": {},
     "output_type": "execute_result"
    }
   ],
   "source": [
    "l"
   ]
  },
  {
   "cell_type": "markdown",
   "id": "d29d40f8-9f9d-41f2-bf13-f90747b3e2b0",
   "metadata": {},
   "source": [
    "## `[]` slicing"
   ]
  },
  {
   "cell_type": "markdown",
   "id": "0f7e2656-1a7c-431e-9044-932506d9db27",
   "metadata": {},
   "source": [
    "Gives access to a specified *range* of sequence's elements.\n",
    "\n",
    "```\n",
    "sequence [start: stop [:step]]\n",
    "```\n",
    "\n",
    "<dl>\n",
    "    <dt>start</dt>\n",
    "    <dd>Optional. Starting index of the slice. Defaults to 0.</dd>\n",
    "    <dt>stop</dt>\n",
    "    <dd>Optional. The last index of the slice or the number of items to get. Defaults to len(sequence).</dd>\n",
    "    <dt>step</dt>\n",
    "    <dd>Optional. Extended slice syntax. Step value of the slice. Defaults to 1.</dd>\n",
    "</dl>"
   ]
  },
  {
   "cell_type": "code",
   "execution_count": 19,
   "id": "b65858ff-7fce-45ed-93f6-c079e943cb26",
   "metadata": {},
   "outputs": [
    {
     "data": {
      "text/plain": [
       "'CDE'"
      ]
     },
     "execution_count": 19,
     "metadata": {},
     "output_type": "execute_result"
    }
   ],
   "source": [
    "'ABCDEFG'[2:5]"
   ]
  },
  {
   "cell_type": "code",
   "execution_count": 20,
   "id": "932d9a65-82e9-4ba3-ba2a-f1f695a3f7d5",
   "metadata": {},
   "outputs": [
    {
     "data": {
      "text/plain": [
       "'ABCDE'"
      ]
     },
     "execution_count": 20,
     "metadata": {},
     "output_type": "execute_result"
    }
   ],
   "source": [
    "'ABCDEFG'[:5]"
   ]
  },
  {
   "cell_type": "code",
   "execution_count": 21,
   "id": "2934edc2-5581-4693-803d-f7bba9baa118",
   "metadata": {},
   "outputs": [
    {
     "data": {
      "text/plain": [
       "'CDEFG'"
      ]
     },
     "execution_count": 21,
     "metadata": {},
     "output_type": "execute_result"
    }
   ],
   "source": [
    "'ABCDEFG'[2:]"
   ]
  },
  {
   "cell_type": "code",
   "execution_count": 22,
   "id": "061aab24-aa34-46ff-a056-fcd26455bb34",
   "metadata": {},
   "outputs": [
    {
     "data": {
      "text/plain": [
       "'ACEG'"
      ]
     },
     "execution_count": 22,
     "metadata": {},
     "output_type": "execute_result"
    }
   ],
   "source": [
    "'ABCDEFG'[::2]"
   ]
  },
  {
   "cell_type": "markdown",
   "id": "c445477a-3966-468f-acb5-b8db7997c044",
   "metadata": {},
   "source": [
    "Slices can be used to replace multiple items."
   ]
  },
  {
   "cell_type": "code",
   "execution_count": 23,
   "id": "bc65d95b-7b2d-4665-b18e-738992b506c1",
   "metadata": {},
   "outputs": [],
   "source": [
    "l = ['a', 'b', 'c', 'd']"
   ]
  },
  {
   "cell_type": "code",
   "execution_count": 24,
   "id": "fdce2dbb-0d07-4cfa-9e84-14900c3894fc",
   "metadata": {},
   "outputs": [],
   "source": [
    "l[:2] = ('e', 'f')"
   ]
  },
  {
   "cell_type": "code",
   "execution_count": 25,
   "id": "4987ac40-e41d-4102-bfbe-f3d96b4af4f8",
   "metadata": {},
   "outputs": [
    {
     "data": {
      "text/plain": [
       "['e', 'f', 'c', 'd']"
      ]
     },
     "execution_count": 25,
     "metadata": {},
     "output_type": "execute_result"
    }
   ],
   "source": [
    "l"
   ]
  },
  {
   "cell_type": "code",
   "execution_count": 26,
   "id": "a9a1924a-c67a-4079-94a4-f444ffb7d84c",
   "metadata": {},
   "outputs": [],
   "source": [
    "l[1:3] = ('g', 'h', 'i', 'j')"
   ]
  },
  {
   "cell_type": "code",
   "execution_count": 27,
   "id": "84251293-79fc-4b41-aae1-c21b5ab79b15",
   "metadata": {},
   "outputs": [
    {
     "data": {
      "text/plain": [
       "['e', 'g', 'h', 'i', 'j', 'd']"
      ]
     },
     "execution_count": 27,
     "metadata": {},
     "output_type": "execute_result"
    }
   ],
   "source": [
    "l"
   ]
  },
  {
   "cell_type": "markdown",
   "id": "4c257c60-2cff-4622-9cd0-4a2f210e5ee1",
   "metadata": {},
   "source": [
    "Multiple items can be deleted."
   ]
  },
  {
   "cell_type": "code",
   "execution_count": 28,
   "id": "3c486bcd-0112-4266-90f5-ca60591cec2b",
   "metadata": {},
   "outputs": [],
   "source": [
    "del l[2:5]"
   ]
  },
  {
   "cell_type": "code",
   "execution_count": 29,
   "id": "3abd5939-59d6-46e1-876e-8eb7bd593724",
   "metadata": {},
   "outputs": [
    {
     "data": {
      "text/plain": [
       "['e', 'g', 'd']"
      ]
     },
     "execution_count": 29,
     "metadata": {},
     "output_type": "execute_result"
    }
   ],
   "source": [
    "l"
   ]
  },
  {
   "cell_type": "markdown",
   "id": "4a29abe4-b3d8-4633-ac30-e61bcd8eb48e",
   "metadata": {},
   "source": [
    "## `[]` key lookup"
   ]
  },
  {
   "cell_type": "markdown",
   "id": "56dff212-aead-4272-b2b8-4a0e11db6631",
   "metadata": {},
   "source": [
    "The `[]` key lookup operator returns the value associated with the given key."
   ]
  },
  {
   "cell_type": "code",
   "execution_count": 30,
   "id": "a55b6687-0749-47c1-ad20-f7781b7be8b0",
   "metadata": {},
   "outputs": [
    {
     "data": {
      "text/plain": [
       "2"
      ]
     },
     "execution_count": 30,
     "metadata": {},
     "output_type": "execute_result"
    }
   ],
   "source": [
    "{'a': 1, 'b': 2, 'c': 3, 'd': 4}['b']"
   ]
  },
  {
   "cell_type": "markdown",
   "id": "02da381d-77a6-4619-931e-f6d40f8f0ce5",
   "metadata": {},
   "source": [
    "## `[]` ellipsis"
   ]
  },
  {
   "cell_type": "markdown",
   "id": "e706df9c-601d-4a66-9f27-4fd642b9acfc",
   "metadata": {},
   "source": [
    "Ellipsis is used for slicing multidimensional numpy arrays.\n",
    "The ellipsis syntax may be used to indicate selecting in full any remaining unspecified dimensions."
   ]
  },
  {
   "cell_type": "code",
   "execution_count": 31,
   "id": "1df7e46b-81d2-43af-ba04-0b693992a58c",
   "metadata": {},
   "outputs": [],
   "source": [
    "import numpy as np"
   ]
  },
  {
   "cell_type": "code",
   "execution_count": 32,
   "id": "eb5b5210-f9ae-4581-aec1-515c7ee1f3b1",
   "metadata": {},
   "outputs": [],
   "source": [
    "n = np.arange(16).reshape(2, 2, 2, 2)"
   ]
  },
  {
   "cell_type": "code",
   "execution_count": 33,
   "id": "ead4eae4-a9b3-4756-b11f-23bef633632f",
   "metadata": {},
   "outputs": [
    {
     "data": {
      "text/plain": [
       "array([[[[ 0,  1],\n",
       "         [ 2,  3]],\n",
       "\n",
       "        [[ 4,  5],\n",
       "         [ 6,  7]]],\n",
       "\n",
       "\n",
       "       [[[ 8,  9],\n",
       "         [10, 11]],\n",
       "\n",
       "        [[12, 13],\n",
       "         [14, 15]]]])"
      ]
     },
     "execution_count": 33,
     "metadata": {},
     "output_type": "execute_result"
    }
   ],
   "source": [
    "n"
   ]
  },
  {
   "cell_type": "code",
   "execution_count": 34,
   "id": "12c9f6ae-404a-488b-87fe-1b76fb927e7c",
   "metadata": {},
   "outputs": [
    {
     "data": {
      "text/plain": [
       "array([[ 9, 11],\n",
       "       [13, 15]])"
      ]
     },
     "execution_count": 34,
     "metadata": {},
     "output_type": "execute_result"
    }
   ],
   "source": [
    "n[1, ..., 1]"
   ]
  },
  {
   "cell_type": "code",
   "execution_count": 35,
   "id": "11caa179-78f4-42e9-a057-e2ad8dde456a",
   "metadata": {},
   "outputs": [
    {
     "data": {
      "text/plain": [
       "array([[ 9, 11],\n",
       "       [13, 15]])"
      ]
     },
     "execution_count": 35,
     "metadata": {},
     "output_type": "execute_result"
    }
   ],
   "source": [
    "n[1,:, :,1]"
   ]
  }
 ],
 "metadata": {
  "kernelspec": {
   "display_name": "Python 3 (ipykernel)",
   "language": "python",
   "name": "python3"
  },
  "language_info": {
   "codemirror_mode": {
    "name": "ipython",
    "version": 3
   },
   "file_extension": ".py",
   "mimetype": "text/x-python",
   "name": "python",
   "nbconvert_exporter": "python",
   "pygments_lexer": "ipython3",
   "version": "3.9.6"
  }
 },
 "nbformat": 4,
 "nbformat_minor": 5
}
