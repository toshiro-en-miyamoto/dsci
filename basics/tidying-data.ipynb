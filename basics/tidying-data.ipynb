{
 "cells": [
  {
   "cell_type": "markdown",
   "id": "3c68836e-81c8-4afb-9e7e-a49b238b141c",
   "metadata": {},
   "source": [
    "# Tidying Messy Datasets"
   ]
  },
  {
   "cell_type": "markdown",
   "id": "0c61bbf0-cd19-472c-89fa-20dfde4663b4",
   "metadata": {},
   "source": [
    "Reference: [Tidy Data](https://vita.had.co.nz/papers/tidy-data.pdf), by Hadley Wickham"
   ]
  },
  {
   "cell_type": "code",
   "execution_count": 1,
   "id": "eb064d62-b94b-4b82-bed5-f1894ad82ed5",
   "metadata": {},
   "outputs": [],
   "source": [
    "import numpy as np"
   ]
  },
  {
   "cell_type": "code",
   "execution_count": 2,
   "id": "8db1eb2c-bf7c-41f5-abe7-98cfcbba959a",
   "metadata": {},
   "outputs": [],
   "source": [
    "import pandas as pd"
   ]
  },
  {
   "cell_type": "code",
   "execution_count": 3,
   "id": "e83faa5b-ef8a-472c-8940-76adc212465e",
   "metadata": {},
   "outputs": [],
   "source": [
    "import matplotlib.pyplot as plt"
   ]
  },
  {
   "cell_type": "markdown",
   "id": "5e82340e-5716-4e5f-a285-cc1959109e65",
   "metadata": {},
   "source": [
    "# 2. Defining tidy data"
   ]
  },
  {
   "cell_type": "markdown",
   "id": "7220e298-76a4-4d96-a08b-05971f6bb582",
   "metadata": {},
   "source": [
    "## 2.1. Data structure"
   ]
  },
  {
   "cell_type": "markdown",
   "id": "a034dbef-3944-4fbb-9c99-c8deca9e3f0f",
   "metadata": {},
   "source": [
    "Most statistical datasets are rectangular tables made up of **row**s and **column**s. The columns are almost always labelled and the rows are sometimes labelled. Table 1 provides some data about an imaginary experiment in a format commonly seen in the wild. The table has two columns and three rows, and both rows and columns are labelled."
   ]
  },
  {
   "cell_type": "code",
   "execution_count": 4,
   "id": "db53e9ff-575d-4ff8-8c36-e7848ce178ee",
   "metadata": {},
   "outputs": [],
   "source": [
    "table1 = pd.DataFrame(\n",
    "    np.array([\n",
    "        [ None,  2],\n",
    "        [   16, 11],\n",
    "        [    3,  1],\n",
    "    ]),\n",
    "    columns=['treatment a', 'treatment b',],\n",
    "    index=['John Smith', 'Jane Doe', 'Mary Johnson'],\n",
    ")"
   ]
  },
  {
   "cell_type": "code",
   "execution_count": 5,
   "id": "3ff9b2fb-ea2a-43bd-b9a0-1f9d1221cda8",
   "metadata": {},
   "outputs": [
    {
     "data": {
      "text/html": [
       "<div>\n",
       "<style scoped>\n",
       "    .dataframe tbody tr th:only-of-type {\n",
       "        vertical-align: middle;\n",
       "    }\n",
       "\n",
       "    .dataframe tbody tr th {\n",
       "        vertical-align: top;\n",
       "    }\n",
       "\n",
       "    .dataframe thead th {\n",
       "        text-align: right;\n",
       "    }\n",
       "</style>\n",
       "<table border=\"1\" class=\"dataframe\">\n",
       "  <thead>\n",
       "    <tr style=\"text-align: right;\">\n",
       "      <th></th>\n",
       "      <th>treatment a</th>\n",
       "      <th>treatment b</th>\n",
       "    </tr>\n",
       "  </thead>\n",
       "  <tbody>\n",
       "    <tr>\n",
       "      <th>John Smith</th>\n",
       "      <td>None</td>\n",
       "      <td>2</td>\n",
       "    </tr>\n",
       "    <tr>\n",
       "      <th>Jane Doe</th>\n",
       "      <td>16</td>\n",
       "      <td>11</td>\n",
       "    </tr>\n",
       "    <tr>\n",
       "      <th>Mary Johnson</th>\n",
       "      <td>3</td>\n",
       "      <td>1</td>\n",
       "    </tr>\n",
       "  </tbody>\n",
       "</table>\n",
       "</div>"
      ],
      "text/plain": [
       "             treatment a treatment b\n",
       "John Smith          None           2\n",
       "Jane Doe              16          11\n",
       "Mary Johnson           3           1"
      ]
     },
     "execution_count": 5,
     "metadata": {},
     "output_type": "execute_result"
    }
   ],
   "source": [
    "table1"
   ]
  },
  {
   "cell_type": "markdown",
   "id": "38e0ec16-f0fe-4cf7-8cb7-0d2221d61d8c",
   "metadata": {},
   "source": [
    "There are many ways to structure the same underlying data. Table 2 shows the same data as Table 1, but the rows and columns have been transposed. The data is the same, but the layout is different. Our vocabulary of rows and columns is simply not rich enough to describe why the two tables represent the same data. In addition to appearance, we need a way to describe the underlying semantics, or meaning, of the values displayed in table."
   ]
  },
  {
   "cell_type": "code",
   "execution_count": 6,
   "id": "eaea3ea1-f09a-4d7e-90aa-c9ef1e0c5d02",
   "metadata": {},
   "outputs": [],
   "source": [
    "table2 = table1.T"
   ]
  },
  {
   "cell_type": "code",
   "execution_count": 7,
   "id": "f670a84e-6b9a-470c-afdd-22d817e0c85a",
   "metadata": {},
   "outputs": [
    {
     "data": {
      "text/html": [
       "<div>\n",
       "<style scoped>\n",
       "    .dataframe tbody tr th:only-of-type {\n",
       "        vertical-align: middle;\n",
       "    }\n",
       "\n",
       "    .dataframe tbody tr th {\n",
       "        vertical-align: top;\n",
       "    }\n",
       "\n",
       "    .dataframe thead th {\n",
       "        text-align: right;\n",
       "    }\n",
       "</style>\n",
       "<table border=\"1\" class=\"dataframe\">\n",
       "  <thead>\n",
       "    <tr style=\"text-align: right;\">\n",
       "      <th></th>\n",
       "      <th>John Smith</th>\n",
       "      <th>Jane Doe</th>\n",
       "      <th>Mary Johnson</th>\n",
       "    </tr>\n",
       "  </thead>\n",
       "  <tbody>\n",
       "    <tr>\n",
       "      <th>treatment a</th>\n",
       "      <td>None</td>\n",
       "      <td>16</td>\n",
       "      <td>3</td>\n",
       "    </tr>\n",
       "    <tr>\n",
       "      <th>treatment b</th>\n",
       "      <td>2</td>\n",
       "      <td>11</td>\n",
       "      <td>1</td>\n",
       "    </tr>\n",
       "  </tbody>\n",
       "</table>\n",
       "</div>"
      ],
      "text/plain": [
       "            John Smith Jane Doe Mary Johnson\n",
       "treatment a       None       16            3\n",
       "treatment b          2       11            1"
      ]
     },
     "execution_count": 7,
     "metadata": {},
     "output_type": "execute_result"
    }
   ],
   "source": [
    "table2"
   ]
  },
  {
   "cell_type": "markdown",
   "id": "8bc3c2da-d991-4fde-8334-e5139833417e",
   "metadata": {},
   "source": [
    "## 3.2. Data semantics"
   ]
  },
  {
   "cell_type": "markdown",
   "id": "ac4b9bcb-b5c3-4527-a13a-da8aeac67c43",
   "metadata": {},
   "source": [
    "A dataset is a collection of **values**, usually either numbers (if quantitative) or strings (if qualitative). Values are organised in two ways. Every value belongs to a **variable** and an **observation**. A variable contains all values that measure the same underlying attribute (like height, temperature, duration) across units. An observation contains all values measured on the same unit (like a person, or a day, or a race) across attributes."
   ]
  },
  {
   "cell_type": "markdown",
   "id": "c84d45c8-97c3-4dd5-ab35-4ec7ed612d8b",
   "metadata": {},
   "source": [
    "(The following steps show how the `table1` is reorganized to make the values, variables and observations more clear.)"
   ]
  },
  {
   "cell_type": "code",
   "execution_count": 8,
   "id": "298aa12f-5c8b-4127-afaf-31378c1018f8",
   "metadata": {},
   "outputs": [],
   "source": [
    "table_temp = table1.reset_index()"
   ]
  },
  {
   "cell_type": "code",
   "execution_count": 9,
   "id": "8f96cc34-ded8-42d7-b088-e4e2a6b88524",
   "metadata": {},
   "outputs": [
    {
     "data": {
      "text/html": [
       "<div>\n",
       "<style scoped>\n",
       "    .dataframe tbody tr th:only-of-type {\n",
       "        vertical-align: middle;\n",
       "    }\n",
       "\n",
       "    .dataframe tbody tr th {\n",
       "        vertical-align: top;\n",
       "    }\n",
       "\n",
       "    .dataframe thead th {\n",
       "        text-align: right;\n",
       "    }\n",
       "</style>\n",
       "<table border=\"1\" class=\"dataframe\">\n",
       "  <thead>\n",
       "    <tr style=\"text-align: right;\">\n",
       "      <th></th>\n",
       "      <th>index</th>\n",
       "      <th>treatment a</th>\n",
       "      <th>treatment b</th>\n",
       "    </tr>\n",
       "  </thead>\n",
       "  <tbody>\n",
       "    <tr>\n",
       "      <th>0</th>\n",
       "      <td>John Smith</td>\n",
       "      <td>None</td>\n",
       "      <td>2</td>\n",
       "    </tr>\n",
       "    <tr>\n",
       "      <th>1</th>\n",
       "      <td>Jane Doe</td>\n",
       "      <td>16</td>\n",
       "      <td>11</td>\n",
       "    </tr>\n",
       "    <tr>\n",
       "      <th>2</th>\n",
       "      <td>Mary Johnson</td>\n",
       "      <td>3</td>\n",
       "      <td>1</td>\n",
       "    </tr>\n",
       "  </tbody>\n",
       "</table>\n",
       "</div>"
      ],
      "text/plain": [
       "          index treatment a treatment b\n",
       "0    John Smith        None           2\n",
       "1      Jane Doe          16          11\n",
       "2  Mary Johnson           3           1"
      ]
     },
     "execution_count": 9,
     "metadata": {},
     "output_type": "execute_result"
    }
   ],
   "source": [
    "table_temp"
   ]
  },
  {
   "cell_type": "code",
   "execution_count": 10,
   "id": "b48bd5cd-d85b-4909-ac80-c9ce4787531c",
   "metadata": {},
   "outputs": [],
   "source": [
    "table_temp.columns=pd.Index(['person', 'a', 'b'])"
   ]
  },
  {
   "cell_type": "code",
   "execution_count": 11,
   "id": "4f5c504d-2f7a-4a18-93ff-79197ecd0074",
   "metadata": {},
   "outputs": [
    {
     "data": {
      "text/html": [
       "<div>\n",
       "<style scoped>\n",
       "    .dataframe tbody tr th:only-of-type {\n",
       "        vertical-align: middle;\n",
       "    }\n",
       "\n",
       "    .dataframe tbody tr th {\n",
       "        vertical-align: top;\n",
       "    }\n",
       "\n",
       "    .dataframe thead th {\n",
       "        text-align: right;\n",
       "    }\n",
       "</style>\n",
       "<table border=\"1\" class=\"dataframe\">\n",
       "  <thead>\n",
       "    <tr style=\"text-align: right;\">\n",
       "      <th></th>\n",
       "      <th>person</th>\n",
       "      <th>a</th>\n",
       "      <th>b</th>\n",
       "    </tr>\n",
       "  </thead>\n",
       "  <tbody>\n",
       "    <tr>\n",
       "      <th>0</th>\n",
       "      <td>John Smith</td>\n",
       "      <td>None</td>\n",
       "      <td>2</td>\n",
       "    </tr>\n",
       "    <tr>\n",
       "      <th>1</th>\n",
       "      <td>Jane Doe</td>\n",
       "      <td>16</td>\n",
       "      <td>11</td>\n",
       "    </tr>\n",
       "    <tr>\n",
       "      <th>2</th>\n",
       "      <td>Mary Johnson</td>\n",
       "      <td>3</td>\n",
       "      <td>1</td>\n",
       "    </tr>\n",
       "  </tbody>\n",
       "</table>\n",
       "</div>"
      ],
      "text/plain": [
       "         person     a   b\n",
       "0    John Smith  None   2\n",
       "1      Jane Doe    16  11\n",
       "2  Mary Johnson     3   1"
      ]
     },
     "execution_count": 11,
     "metadata": {},
     "output_type": "execute_result"
    }
   ],
   "source": [
    "table_temp"
   ]
  },
  {
   "cell_type": "code",
   "execution_count": 12,
   "id": "5d1f1e1d-a561-4cfe-9b96-64bc897c8aaf",
   "metadata": {},
   "outputs": [],
   "source": [
    "table3 = table_temp.melt(id_vars='person',\n",
    "                         var_name='treatment', \n",
    "                         value_name='result')"
   ]
  },
  {
   "cell_type": "code",
   "execution_count": 13,
   "id": "3245f5e2-5c65-42d7-95fc-f1cb99bccaba",
   "metadata": {},
   "outputs": [
    {
     "data": {
      "text/html": [
       "<div>\n",
       "<style scoped>\n",
       "    .dataframe tbody tr th:only-of-type {\n",
       "        vertical-align: middle;\n",
       "    }\n",
       "\n",
       "    .dataframe tbody tr th {\n",
       "        vertical-align: top;\n",
       "    }\n",
       "\n",
       "    .dataframe thead th {\n",
       "        text-align: right;\n",
       "    }\n",
       "</style>\n",
       "<table border=\"1\" class=\"dataframe\">\n",
       "  <thead>\n",
       "    <tr style=\"text-align: right;\">\n",
       "      <th></th>\n",
       "      <th>person</th>\n",
       "      <th>treatment</th>\n",
       "      <th>result</th>\n",
       "    </tr>\n",
       "  </thead>\n",
       "  <tbody>\n",
       "    <tr>\n",
       "      <th>0</th>\n",
       "      <td>John Smith</td>\n",
       "      <td>a</td>\n",
       "      <td>None</td>\n",
       "    </tr>\n",
       "    <tr>\n",
       "      <th>1</th>\n",
       "      <td>Jane Doe</td>\n",
       "      <td>a</td>\n",
       "      <td>16</td>\n",
       "    </tr>\n",
       "    <tr>\n",
       "      <th>2</th>\n",
       "      <td>Mary Johnson</td>\n",
       "      <td>a</td>\n",
       "      <td>3</td>\n",
       "    </tr>\n",
       "    <tr>\n",
       "      <th>3</th>\n",
       "      <td>John Smith</td>\n",
       "      <td>b</td>\n",
       "      <td>2</td>\n",
       "    </tr>\n",
       "    <tr>\n",
       "      <th>4</th>\n",
       "      <td>Jane Doe</td>\n",
       "      <td>b</td>\n",
       "      <td>11</td>\n",
       "    </tr>\n",
       "    <tr>\n",
       "      <th>5</th>\n",
       "      <td>Mary Johnson</td>\n",
       "      <td>b</td>\n",
       "      <td>1</td>\n",
       "    </tr>\n",
       "  </tbody>\n",
       "</table>\n",
       "</div>"
      ],
      "text/plain": [
       "         person treatment result\n",
       "0    John Smith         a   None\n",
       "1      Jane Doe         a     16\n",
       "2  Mary Johnson         a      3\n",
       "3    John Smith         b      2\n",
       "4      Jane Doe         b     11\n",
       "5  Mary Johnson         b      1"
      ]
     },
     "execution_count": 13,
     "metadata": {},
     "output_type": "execute_result"
    }
   ],
   "source": [
    "table3"
   ]
  },
  {
   "cell_type": "markdown",
   "id": "5a441288-6b85-4ad8-b3cc-0486c0cfb716",
   "metadata": {},
   "source": [
    "Table 3 reorganises Table 1 to make the values, variables and observations more clear. The dataset contains 18 values representing three variables and six observations. The variables\n",
    "are:\n",
    "1. `person`, with three possible values (John, Mary, and Jane).\n",
    "2. `treatment`, with two possible values (a and b).\n",
    "3. `result`, with five or six values depending on how you think of the missing value (`None`, 16, 3, 2, 11, 1)."
   ]
  },
  {
   "cell_type": "markdown",
   "id": "24f81cc2-2c66-4086-86a4-a4d9b11f2c6a",
   "metadata": {},
   "source": [
    "# 3. Tidying messy datasets"
   ]
  },
  {
   "cell_type": "markdown",
   "id": "901741fe-59bc-48a0-8877-05e314577433",
   "metadata": {
    "tags": []
   },
   "source": [
    "## 3.1. Column headers are values, not variable names"
   ]
  },
  {
   "cell_type": "markdown",
   "id": "9569bd0e-b211-4fcd-b6f7-0cbcdf9b8975",
   "metadata": {},
   "source": [
    "A common type of messy dataset is tabular data designed for presentation, where **variables** form both the rows and columns, and column headers are **values**, not variable names."
   ]
  },
  {
   "cell_type": "markdown",
   "id": "6b0fac07-5c50-4c96-bb3e-f441eb533d9c",
   "metadata": {},
   "source": [
    "(For example, suppose that a particular study is interested in characteristics such as age, gender, marital status, and annual income for a sample of 100 individuals. These characteristics would be called the **variables** of the study, and data values for each of the variables would be associated with each individual. Thus, the data **values** of 28, male, single, and `$30,000` would be recorded for a 28-year-old single male with an annual income of `$30,000`. With 100 individuals and 4 variables, the data set would have `100 × 4 = 400` items. [[Statistics, Britannica Kids](https://www.britannica.com/science/statistics)])"
   ]
  },
  {
   "cell_type": "code",
   "execution_count": 14,
   "id": "3aec7b29-78ba-4da2-a1b8-7624b0614df9",
   "metadata": {},
   "outputs": [],
   "source": [
    "ir = pd.DataFrame(\n",
    "    {\n",
    "        'religion': ['Agnostic', 'Atheist', 'Buddhist',],\n",
    "        '00-10k' : [ 27,  12,  27,],\n",
    "        '10-20k' : [ 34,  27,  21,],\n",
    "        '20-30k' : [ 60,  37,  30,],\n",
    "        '30-40k' : [ 81,  52,  34,],\n",
    "    })"
   ]
  },
  {
   "cell_type": "markdown",
   "id": "cb3c1987-e6c6-427f-b158-154f82285db4",
   "metadata": {},
   "source": [
    "This dataset has three variables: `religion`, `income` and `frequency`."
   ]
  },
  {
   "cell_type": "code",
   "execution_count": 15,
   "id": "23ec0fc0-6db5-42a7-a462-ae32c4aaa403",
   "metadata": {},
   "outputs": [
    {
     "data": {
      "text/html": [
       "<div>\n",
       "<style scoped>\n",
       "    .dataframe tbody tr th:only-of-type {\n",
       "        vertical-align: middle;\n",
       "    }\n",
       "\n",
       "    .dataframe tbody tr th {\n",
       "        vertical-align: top;\n",
       "    }\n",
       "\n",
       "    .dataframe thead th {\n",
       "        text-align: right;\n",
       "    }\n",
       "</style>\n",
       "<table border=\"1\" class=\"dataframe\">\n",
       "  <thead>\n",
       "    <tr style=\"text-align: right;\">\n",
       "      <th></th>\n",
       "      <th>religion</th>\n",
       "      <th>USD 00-10k</th>\n",
       "      <th>USD 10-20k</th>\n",
       "      <th>USD 20-30k</th>\n",
       "      <th>USD 30-40k</th>\n",
       "    </tr>\n",
       "  </thead>\n",
       "  <tbody>\n",
       "    <tr>\n",
       "      <th>0</th>\n",
       "      <td>Agnostic</td>\n",
       "      <td>27</td>\n",
       "      <td>34</td>\n",
       "      <td>60</td>\n",
       "      <td>81</td>\n",
       "    </tr>\n",
       "    <tr>\n",
       "      <th>1</th>\n",
       "      <td>Atheist</td>\n",
       "      <td>12</td>\n",
       "      <td>27</td>\n",
       "      <td>37</td>\n",
       "      <td>52</td>\n",
       "    </tr>\n",
       "    <tr>\n",
       "      <th>2</th>\n",
       "      <td>Buddhist</td>\n",
       "      <td>27</td>\n",
       "      <td>21</td>\n",
       "      <td>30</td>\n",
       "      <td>34</td>\n",
       "    </tr>\n",
       "  </tbody>\n",
       "</table>\n",
       "</div>"
      ],
      "text/plain": [
       "   religion  USD 00-10k  USD 10-20k  USD 20-30k  USD 30-40k\n",
       "0  Agnostic          27          34          60          81\n",
       "1   Atheist          12          27          37          52\n",
       "2  Buddhist          27          21          30          34"
      ]
     },
     "execution_count": 15,
     "metadata": {},
     "output_type": "execute_result"
    }
   ],
   "source": [
    "ir"
   ]
  },
  {
   "cell_type": "markdown",
   "id": "f0a4634c-c3c9-4e49-a2c8-61f5c0f23487",
   "metadata": {},
   "source": [
    "(Notice that the following tabular representation of the dataset does not show the names of two variables, `income` and `frequency`. That is the drawback of *messy data*.)"
   ]
  },
  {
   "cell_type": "markdown",
   "id": "f415aea4-7940-45c0-958c-b4d45bff9efc",
   "metadata": {},
   "source": [
    "(For later use, the list of strings representing the income class is stored in a Python variable `income_class`."
   ]
  },
  {
   "cell_type": "code",
   "execution_count": 16,
   "id": "d5bdeabd-92c1-4bdc-a90d-a392943bca8e",
   "metadata": {},
   "outputs": [],
   "source": [
    "income_class = ir.columns.to_list()[1:]"
   ]
  },
  {
   "cell_type": "code",
   "execution_count": 17,
   "id": "32eff9d6-b31b-4772-b63a-31dc83a08199",
   "metadata": {},
   "outputs": [
    {
     "data": {
      "text/plain": [
       "['USD 00-10k', 'USD 10-20k', 'USD 20-30k', 'USD 30-40k']"
      ]
     },
     "execution_count": 17,
     "metadata": {},
     "output_type": "execute_result"
    }
   ],
   "source": [
    "income_class"
   ]
  },
  {
   "cell_type": "markdown",
   "id": "59710b63-27ff-432a-91e3-6b776ecdfab5",
   "metadata": {},
   "source": [
    "### Tidying messy dataframes"
   ]
  },
  {
   "cell_type": "markdown",
   "id": "a52259a4-16d2-454a-841b-1ad9e9844264",
   "metadata": {},
   "source": [
    "To tidy it, we need to **melt**, or stack it. In other words, we need to turn columns into rows.\n",
    "\n",
    "Melting is parameterized by a list of columns that are already variables, or **identifier variable**s. The above dataset has one identifier variable, `religion`.\n",
    "\n",
    "The other columns are converted into two variables:\n",
    "- a new variable called `variable` that contains repeated column headings and\n",
    "- a new variable called `value` that contains the concatenated data values from the previously separate columns."
   ]
  },
  {
   "cell_type": "code",
   "execution_count": 18,
   "id": "e4c3476f-1b52-40b9-a9db-11b28c02c973",
   "metadata": {},
   "outputs": [
    {
     "data": {
      "text/html": [
       "<div>\n",
       "<style scoped>\n",
       "    .dataframe tbody tr th:only-of-type {\n",
       "        vertical-align: middle;\n",
       "    }\n",
       "\n",
       "    .dataframe tbody tr th {\n",
       "        vertical-align: top;\n",
       "    }\n",
       "\n",
       "    .dataframe thead th {\n",
       "        text-align: right;\n",
       "    }\n",
       "</style>\n",
       "<table border=\"1\" class=\"dataframe\">\n",
       "  <thead>\n",
       "    <tr style=\"text-align: right;\">\n",
       "      <th></th>\n",
       "      <th>religion</th>\n",
       "      <th>variable</th>\n",
       "      <th>value</th>\n",
       "    </tr>\n",
       "  </thead>\n",
       "  <tbody>\n",
       "    <tr>\n",
       "      <th>0</th>\n",
       "      <td>Agnostic</td>\n",
       "      <td>USD 00-10k</td>\n",
       "      <td>27</td>\n",
       "    </tr>\n",
       "    <tr>\n",
       "      <th>1</th>\n",
       "      <td>Atheist</td>\n",
       "      <td>USD 00-10k</td>\n",
       "      <td>12</td>\n",
       "    </tr>\n",
       "    <tr>\n",
       "      <th>2</th>\n",
       "      <td>Buddhist</td>\n",
       "      <td>USD 00-10k</td>\n",
       "      <td>27</td>\n",
       "    </tr>\n",
       "    <tr>\n",
       "      <th>3</th>\n",
       "      <td>Agnostic</td>\n",
       "      <td>USD 10-20k</td>\n",
       "      <td>34</td>\n",
       "    </tr>\n",
       "    <tr>\n",
       "      <th>4</th>\n",
       "      <td>Atheist</td>\n",
       "      <td>USD 10-20k</td>\n",
       "      <td>27</td>\n",
       "    </tr>\n",
       "  </tbody>\n",
       "</table>\n",
       "</div>"
      ],
      "text/plain": [
       "   religion    variable  value\n",
       "0  Agnostic  USD 00-10k     27\n",
       "1   Atheist  USD 00-10k     12\n",
       "2  Buddhist  USD 00-10k     27\n",
       "3  Agnostic  USD 10-20k     34\n",
       "4   Atheist  USD 10-20k     27"
      ]
     },
     "execution_count": 18,
     "metadata": {},
     "output_type": "execute_result"
    }
   ],
   "source": [
    "ir.melt(\n",
    "    id_vars=['religion'], \n",
    "    value_vars=income_class,\n",
    "        # ['$00-10k', '$10-20k', '$20-30k', '$30-40k']\n",
    ").head()"
   ]
  },
  {
   "cell_type": "markdown",
   "id": "698dc2a5-34d8-454a-afe7-f7b5c30369e6",
   "metadata": {},
   "source": [
    "To better reflect their roles in this dataset, the variable column has been renamed to `income`, and the value column to `freq`."
   ]
  },
  {
   "cell_type": "code",
   "execution_count": 19,
   "id": "902b13a1-da44-4434-85c7-248b8385232d",
   "metadata": {},
   "outputs": [],
   "source": [
    "tidy_ir = ir.melt(\n",
    "    id_vars=['religion'], \n",
    "    value_vars=income_class,\n",
    "    var_name='income',\n",
    "    value_name='freq',\n",
    ")"
   ]
  },
  {
   "cell_type": "code",
   "execution_count": 20,
   "id": "47db77cd-cf0a-4271-9d4e-c3d52b01c1ea",
   "metadata": {},
   "outputs": [
    {
     "data": {
      "text/html": [
       "<div>\n",
       "<style scoped>\n",
       "    .dataframe tbody tr th:only-of-type {\n",
       "        vertical-align: middle;\n",
       "    }\n",
       "\n",
       "    .dataframe tbody tr th {\n",
       "        vertical-align: top;\n",
       "    }\n",
       "\n",
       "    .dataframe thead th {\n",
       "        text-align: right;\n",
       "    }\n",
       "</style>\n",
       "<table border=\"1\" class=\"dataframe\">\n",
       "  <thead>\n",
       "    <tr style=\"text-align: right;\">\n",
       "      <th></th>\n",
       "      <th>religion</th>\n",
       "      <th>income</th>\n",
       "      <th>freq</th>\n",
       "    </tr>\n",
       "  </thead>\n",
       "  <tbody>\n",
       "    <tr>\n",
       "      <th>0</th>\n",
       "      <td>Agnostic</td>\n",
       "      <td>USD 00-10k</td>\n",
       "      <td>27</td>\n",
       "    </tr>\n",
       "    <tr>\n",
       "      <th>1</th>\n",
       "      <td>Atheist</td>\n",
       "      <td>USD 00-10k</td>\n",
       "      <td>12</td>\n",
       "    </tr>\n",
       "    <tr>\n",
       "      <th>2</th>\n",
       "      <td>Buddhist</td>\n",
       "      <td>USD 00-10k</td>\n",
       "      <td>27</td>\n",
       "    </tr>\n",
       "    <tr>\n",
       "      <th>3</th>\n",
       "      <td>Agnostic</td>\n",
       "      <td>USD 10-20k</td>\n",
       "      <td>34</td>\n",
       "    </tr>\n",
       "    <tr>\n",
       "      <th>4</th>\n",
       "      <td>Atheist</td>\n",
       "      <td>USD 10-20k</td>\n",
       "      <td>27</td>\n",
       "    </tr>\n",
       "    <tr>\n",
       "      <th>5</th>\n",
       "      <td>Buddhist</td>\n",
       "      <td>USD 10-20k</td>\n",
       "      <td>21</td>\n",
       "    </tr>\n",
       "    <tr>\n",
       "      <th>6</th>\n",
       "      <td>Agnostic</td>\n",
       "      <td>USD 20-30k</td>\n",
       "      <td>60</td>\n",
       "    </tr>\n",
       "    <tr>\n",
       "      <th>7</th>\n",
       "      <td>Atheist</td>\n",
       "      <td>USD 20-30k</td>\n",
       "      <td>37</td>\n",
       "    </tr>\n",
       "    <tr>\n",
       "      <th>8</th>\n",
       "      <td>Buddhist</td>\n",
       "      <td>USD 20-30k</td>\n",
       "      <td>30</td>\n",
       "    </tr>\n",
       "    <tr>\n",
       "      <th>9</th>\n",
       "      <td>Agnostic</td>\n",
       "      <td>USD 30-40k</td>\n",
       "      <td>81</td>\n",
       "    </tr>\n",
       "    <tr>\n",
       "      <th>10</th>\n",
       "      <td>Atheist</td>\n",
       "      <td>USD 30-40k</td>\n",
       "      <td>52</td>\n",
       "    </tr>\n",
       "    <tr>\n",
       "      <th>11</th>\n",
       "      <td>Buddhist</td>\n",
       "      <td>USD 30-40k</td>\n",
       "      <td>34</td>\n",
       "    </tr>\n",
       "  </tbody>\n",
       "</table>\n",
       "</div>"
      ],
      "text/plain": [
       "    religion      income  freq\n",
       "0   Agnostic  USD 00-10k    27\n",
       "1    Atheist  USD 00-10k    12\n",
       "2   Buddhist  USD 00-10k    27\n",
       "3   Agnostic  USD 10-20k    34\n",
       "4    Atheist  USD 10-20k    27\n",
       "5   Buddhist  USD 10-20k    21\n",
       "6   Agnostic  USD 20-30k    60\n",
       "7    Atheist  USD 20-30k    37\n",
       "8   Buddhist  USD 20-30k    30\n",
       "9   Agnostic  USD 30-40k    81\n",
       "10   Atheist  USD 30-40k    52\n",
       "11  Buddhist  USD 30-40k    34"
      ]
     },
     "execution_count": 20,
     "metadata": {},
     "output_type": "execute_result"
    }
   ],
   "source": [
    "tidy_ir"
   ]
  },
  {
   "cell_type": "markdown",
   "id": "20e81657-a0d6-4808-9ebd-36bb384de5f3",
   "metadata": {},
   "source": [
    "This form is tidy because each column represents a variable and each row represents an observation, in this case a demographic unit corresponding to a combination of religion and income."
   ]
  },
  {
   "cell_type": "markdown",
   "id": "56ca056c-1319-4cbe-a156-acdf6da66734",
   "metadata": {},
   "source": [
    "### Presenting tidy dataframes"
   ]
  },
  {
   "cell_type": "code",
   "execution_count": 21,
   "id": "b7f9f96c-5836-413a-bda5-86b3ee7b1e09",
   "metadata": {},
   "outputs": [],
   "source": [
    "import seaborn as sns"
   ]
  },
  {
   "cell_type": "code",
   "execution_count": 22,
   "id": "ac4264f8-15b7-426b-996f-452cc933f78e",
   "metadata": {},
   "outputs": [],
   "source": [
    "sns.set_theme(style='darkgrid')"
   ]
  },
  {
   "cell_type": "markdown",
   "id": "26530510-3a99-49d0-b753-8d1451611315",
   "metadata": {},
   "source": [
    "Now that you have the tidy data, you have two options for presentation: grouped by `religion` or by `income`."
   ]
  },
  {
   "cell_type": "code",
   "execution_count": 23,
   "id": "678b4c75-8c6d-4482-a596-b07a34f68784",
   "metadata": {},
   "outputs": [
    {
     "data": {
      "text/plain": [
       "<seaborn.axisgrid.FacetGrid at 0xffff42b21580>"
      ]
     },
     "execution_count": 23,
     "metadata": {},
     "output_type": "execute_result"
    },
    {
     "data": {
      "image/png": "[encoded data removed]",
      "text/plain": [
       "<Figure size 465.1x360 with 1 Axes>"
      ]
     },
     "metadata": {},
     "output_type": "display_data"
    }
   ],
   "source": [
    "sns.catplot(\n",
    "    data=tidy_ir, kind='bar', y='freq', x='religion', hue='income')"
   ]
  },
  {
   "cell_type": "code",
   "execution_count": 24,
   "id": "358201f7-04ba-4743-a0a1-62223b78104d",
   "metadata": {},
   "outputs": [
    {
     "data": {
      "text/plain": [
       "<seaborn.axisgrid.FacetGrid at 0xffff40a1dc70>"
      ]
     },
     "execution_count": 24,
     "metadata": {},
     "output_type": "execute_result"
    },
    {
     "data": {
      "image/png": "[encoded data removed]",
      "text/plain": [
       "<Figure size 448.225x360 with 1 Axes>"
      ]
     },
     "metadata": {},
     "output_type": "display_data"
    }
   ],
   "source": [
    "sns.catplot(\n",
    "    data=tidy_ir, kind='bar', y='freq', x='income', hue='religion')"
   ]
  },
  {
   "cell_type": "markdown",
   "id": "99ee81f6-4e13-4e60-978f-57e917a5e015",
   "metadata": {},
   "source": [
    "To reshape the dataframe for presentation, we use the `DataFrame.pivot()` method."
   ]
  },
  {
   "cell_type": "code",
   "execution_count": 25,
   "id": "089f91ce-8215-46f2-ac80-eb6d2758cf7b",
   "metadata": {},
   "outputs": [
    {
     "data": {
      "text/html": [
       "<div>\n",
       "<style scoped>\n",
       "    .dataframe tbody tr th:only-of-type {\n",
       "        vertical-align: middle;\n",
       "    }\n",
       "\n",
       "    .dataframe tbody tr th {\n",
       "        vertical-align: top;\n",
       "    }\n",
       "\n",
       "    .dataframe thead th {\n",
       "        text-align: right;\n",
       "    }\n",
       "</style>\n",
       "<table border=\"1\" class=\"dataframe\">\n",
       "  <thead>\n",
       "    <tr style=\"text-align: right;\">\n",
       "      <th>income</th>\n",
       "      <th>USD 00-10k</th>\n",
       "      <th>USD 10-20k</th>\n",
       "      <th>USD 20-30k</th>\n",
       "      <th>USD 30-40k</th>\n",
       "    </tr>\n",
       "    <tr>\n",
       "      <th>religion</th>\n",
       "      <th></th>\n",
       "      <th></th>\n",
       "      <th></th>\n",
       "      <th></th>\n",
       "    </tr>\n",
       "  </thead>\n",
       "  <tbody>\n",
       "    <tr>\n",
       "      <th>Agnostic</th>\n",
       "      <td>27</td>\n",
       "      <td>34</td>\n",
       "      <td>60</td>\n",
       "      <td>81</td>\n",
       "    </tr>\n",
       "    <tr>\n",
       "      <th>Atheist</th>\n",
       "      <td>12</td>\n",
       "      <td>27</td>\n",
       "      <td>37</td>\n",
       "      <td>52</td>\n",
       "    </tr>\n",
       "    <tr>\n",
       "      <th>Buddhist</th>\n",
       "      <td>27</td>\n",
       "      <td>21</td>\n",
       "      <td>30</td>\n",
       "      <td>34</td>\n",
       "    </tr>\n",
       "  </tbody>\n",
       "</table>\n",
       "</div>"
      ],
      "text/plain": [
       "income    USD 00-10k  USD 10-20k  USD 20-30k  USD 30-40k\n",
       "religion                                                \n",
       "Agnostic          27          34          60          81\n",
       "Atheist           12          27          37          52\n",
       "Buddhist          27          21          30          34"
      ]
     },
     "execution_count": 25,
     "metadata": {},
     "output_type": "execute_result"
    }
   ],
   "source": [
    "tidy_ir.pivot(index='religion', columns='income', values='freq')"
   ]
  },
  {
   "cell_type": "code",
   "execution_count": 26,
   "id": "5f7d9a40-bc3e-48fe-8c6f-e26e32b8e927",
   "metadata": {},
   "outputs": [
    {
     "data": {
      "text/html": [
       "<style type=\"text/css\">\n",
       "</style>\n",
       "<table id=\"T_36673_\">\n",
       "  <thead>\n",
       "    <tr>\n",
       "      <th class=\"index_name level0\" >religion</th>\n",
       "      <th class=\"col_heading level0 col0\" >Agnostic</th>\n",
       "      <th class=\"col_heading level0 col1\" >Atheist</th>\n",
       "      <th class=\"col_heading level0 col2\" >Buddhist</th>\n",
       "    </tr>\n",
       "    <tr>\n",
       "      <th class=\"index_name level0\" >income</th>\n",
       "      <th class=\"blank col0\" >&nbsp;</th>\n",
       "      <th class=\"blank col1\" >&nbsp;</th>\n",
       "      <th class=\"blank col2\" >&nbsp;</th>\n",
       "    </tr>\n",
       "  </thead>\n",
       "  <tbody>\n",
       "    <tr>\n",
       "      <th id=\"T_36673_level0_row0\" class=\"row_heading level0 row0\" >USD 00-10k</th>\n",
       "      <td id=\"T_36673_row0_col0\" class=\"data row0 col0\" >27</td>\n",
       "      <td id=\"T_36673_row0_col1\" class=\"data row0 col1\" >12</td>\n",
       "      <td id=\"T_36673_row0_col2\" class=\"data row0 col2\" >27</td>\n",
       "    </tr>\n",
       "    <tr>\n",
       "      <th id=\"T_36673_level0_row1\" class=\"row_heading level0 row1\" >USD 10-20k</th>\n",
       "      <td id=\"T_36673_row1_col0\" class=\"data row1 col0\" >34</td>\n",
       "      <td id=\"T_36673_row1_col1\" class=\"data row1 col1\" >27</td>\n",
       "      <td id=\"T_36673_row1_col2\" class=\"data row1 col2\" >21</td>\n",
       "    </tr>\n",
       "    <tr>\n",
       "      <th id=\"T_36673_level0_row2\" class=\"row_heading level0 row2\" >USD 20-30k</th>\n",
       "      <td id=\"T_36673_row2_col0\" class=\"data row2 col0\" >60</td>\n",
       "      <td id=\"T_36673_row2_col1\" class=\"data row2 col1\" >37</td>\n",
       "      <td id=\"T_36673_row2_col2\" class=\"data row2 col2\" >30</td>\n",
       "    </tr>\n",
       "    <tr>\n",
       "      <th id=\"T_36673_level0_row3\" class=\"row_heading level0 row3\" >USD 30-40k</th>\n",
       "      <td id=\"T_36673_row3_col0\" class=\"data row3 col0\" >81</td>\n",
       "      <td id=\"T_36673_row3_col1\" class=\"data row3 col1\" >52</td>\n",
       "      <td id=\"T_36673_row3_col2\" class=\"data row3 col2\" >34</td>\n",
       "    </tr>\n",
       "  </tbody>\n",
       "</table>\n"
      ],
      "text/plain": [
       "<pandas.io.formats.style.Styler at 0xffff40a50eb0>"
      ]
     },
     "execution_count": 26,
     "metadata": {},
     "output_type": "execute_result"
    }
   ],
   "source": [
    "tidy_ir.pivot(index='income', columns='religion', values='freq').style"
   ]
  }
 ],
 "metadata": {
  "kernelspec": {
   "display_name": "Python 3 (ipykernel)",
   "language": "python",
   "name": "python3"
  },
  "language_info": {
   "codemirror_mode": {
    "name": "ipython",
    "version": 3
   },
   "file_extension": ".py",
   "mimetype": "text/x-python",
   "name": "python",
   "nbconvert_exporter": "python",
   "pygments_lexer": "ipython3",
   "version": "3.9.6"
  }
 },
 "nbformat": 4,
 "nbformat_minor": 5
}
