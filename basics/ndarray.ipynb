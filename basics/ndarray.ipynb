{
 "cells": [
  {
   "cell_type": "markdown",
   "id": "0bf3e3bf-50ed-49ea-8ebd-4c85e3e33ee6",
   "metadata": {},
   "source": [
    "# `ndarray`"
   ]
  },
  {
   "cell_type": "markdown",
   "id": "92e9d4cd-cc32-4c17-a25a-75747816d794",
   "metadata": {},
   "source": [
    "Reference: [NumPy: the absolute basics for beginners](https://numpy.org/doc/stable/user/absolute_beginners.html)"
   ]
  },
  {
   "cell_type": "code",
   "execution_count": 1,
   "id": "ac82929e-3f53-49ec-b130-fdba4487edf9",
   "metadata": {},
   "outputs": [],
   "source": [
    "import numpy as np"
   ]
  },
  {
   "cell_type": "markdown",
   "id": "543717af-05a4-407c-9351-3aac011207c7",
   "metadata": {},
   "source": [
    "While a Python list can contain different data types within a single list, all of the elements in a **NumPy array** should be homogeneous. NumPy arrays are faster and more compact than Python lists. An array consumes less memory and is convenient to use. NumPy uses much less memory to store data and it provides a mechanism of specifying the data types.\n",
    "\n",
    "You might occasionally hear an array referred to as a `ndarray`, which is shorthand for **N-dimensional array**. An N-dimensional array is simply an array with any number of dimensions. You might also hear **1-D**, or one-dimensional array, **2-D**, or two-dimensional array, and so on."
   ]
  },
  {
   "cell_type": "markdown",
   "id": "62bfd5ed-a586-4e8b-8093-3d5aacc87372",
   "metadata": {},
   "source": [
    "A **vector** is an array with a single dimension, hence there’s no difference between row and column vectors."
   ]
  },
  {
   "cell_type": "code",
   "execution_count": 2,
   "id": "79d114b5-0c0d-4c10-8acc-a7dd4ed50a78",
   "metadata": {},
   "outputs": [],
   "source": [
    "a = np.array([1, 2, 3, 4])"
   ]
  },
  {
   "cell_type": "code",
   "execution_count": 3,
   "id": "cb82eb10-475d-4757-908f-1e57d731e54d",
   "metadata": {},
   "outputs": [
    {
     "data": {
      "text/plain": [
       "array([1, 2, 3, 4])"
      ]
     },
     "execution_count": 3,
     "metadata": {},
     "output_type": "execute_result"
    }
   ],
   "source": [
    "a"
   ]
  },
  {
   "cell_type": "code",
   "execution_count": 4,
   "id": "ad1fee00-130a-41fc-807a-050c98b3bc40",
   "metadata": {},
   "outputs": [
    {
     "data": {
      "text/plain": [
       "1"
      ]
     },
     "execution_count": 4,
     "metadata": {},
     "output_type": "execute_result"
    }
   ],
   "source": [
    "a.ndim"
   ]
  },
  {
   "cell_type": "code",
   "execution_count": 5,
   "id": "bf76e7cb-bc4c-4253-a0d2-b5c087704a47",
   "metadata": {},
   "outputs": [
    {
     "data": {
      "text/plain": [
       "(4,)"
      ]
     },
     "execution_count": 5,
     "metadata": {},
     "output_type": "execute_result"
    }
   ],
   "source": [
    "a.shape"
   ]
  },
  {
   "cell_type": "markdown",
   "id": "ad8849b1-b9ac-432d-b5bb-a9c25b1bd55f",
   "metadata": {},
   "source": [
    "A **matrix** refers to an array with two dimensions. For 3-D or higher dimensional arrays, the term **tensor** is also commonly used."
   ]
  },
  {
   "cell_type": "markdown",
   "id": "41fee319-9670-416b-9f1d-c7fa8c37ec2f",
   "metadata": {},
   "source": [
    "## Axes"
   ]
  },
  {
   "cell_type": "markdown",
   "id": "6e4a5121-0580-4347-8f80-0c154d450358",
   "metadata": {},
   "source": [
    "In NumPy, dimensions are called **axes**. This means that if you have a 2D array that looks like this:"
   ]
  },
  {
   "cell_type": "code",
   "execution_count": 6,
   "id": "f6ecfe37-0a3f-445e-857c-121be0f65a01",
   "metadata": {},
   "outputs": [],
   "source": [
    "a = np.array([[1, 2, 3], [4, 5, 6]])"
   ]
  },
  {
   "cell_type": "code",
   "execution_count": 7,
   "id": "c2eda33f-6eac-452a-ad97-4d10ff166304",
   "metadata": {},
   "outputs": [
    {
     "data": {
      "text/plain": [
       "array([[1, 2, 3],\n",
       "       [4, 5, 6]])"
      ]
     },
     "execution_count": 7,
     "metadata": {},
     "output_type": "execute_result"
    }
   ],
   "source": [
    "a"
   ]
  },
  {
   "cell_type": "markdown",
   "id": "b4e7ad75-94fc-4106-872b-6db27899258d",
   "metadata": {},
   "source": [
    "Your array has 2 axes."
   ]
  },
  {
   "cell_type": "code",
   "execution_count": 8,
   "id": "100a2abb-5e0a-46fc-b195-714b907b2e7a",
   "metadata": {},
   "outputs": [
    {
     "data": {
      "text/plain": [
       "2"
      ]
     },
     "execution_count": 8,
     "metadata": {},
     "output_type": "execute_result"
    }
   ],
   "source": [
    "a.ndim"
   ]
  },
  {
   "cell_type": "markdown",
   "id": "0868cb8b-7030-4d3b-8431-81991f2555d4",
   "metadata": {},
   "source": [
    "The first axis has a length of 2 and the second axis has a length of 3."
   ]
  },
  {
   "cell_type": "code",
   "execution_count": 9,
   "id": "bcf6001d-b9d4-42cf-a77e-64530c5584e5",
   "metadata": {},
   "outputs": [
    {
     "data": {
      "text/plain": [
       "(2, 3)"
      ]
     },
     "execution_count": 9,
     "metadata": {},
     "output_type": "execute_result"
    }
   ],
   "source": [
    "a.shape"
   ]
  },
  {
   "cell_type": "markdown",
   "id": "69b53fee-0b0e-495c-a5d0-c18c31882365",
   "metadata": {},
   "source": [
    "The `numpmy.concatenate()` function joins a sequence of arrays along an existing axis. With `axis=0`, the arrays are joined along the first axis."
   ]
  },
  {
   "cell_type": "code",
   "execution_count": 10,
   "id": "b6062200-29be-47ea-884b-fe3dc8644879",
   "metadata": {},
   "outputs": [],
   "source": [
    "b = np.array([[7, 8, 9]])"
   ]
  },
  {
   "cell_type": "code",
   "execution_count": 11,
   "id": "7681a509-8832-483d-b351-acd81c0298c1",
   "metadata": {},
   "outputs": [
    {
     "data": {
      "text/plain": [
       "(1, 3)"
      ]
     },
     "execution_count": 11,
     "metadata": {},
     "output_type": "execute_result"
    }
   ],
   "source": [
    "b.shape"
   ]
  },
  {
   "cell_type": "code",
   "execution_count": 12,
   "id": "9b1e563b-2cd9-4129-ae46-2fdbfa0c2896",
   "metadata": {},
   "outputs": [],
   "source": [
    "c = np.concatenate((a, b), axis=0)"
   ]
  },
  {
   "cell_type": "code",
   "execution_count": 13,
   "id": "69c3a913-44a6-416e-a8cf-b3c0fbc197e0",
   "metadata": {},
   "outputs": [
    {
     "data": {
      "text/plain": [
       "array([[1, 2, 3],\n",
       "       [4, 5, 6],\n",
       "       [7, 8, 9]])"
      ]
     },
     "execution_count": 13,
     "metadata": {},
     "output_type": "execute_result"
    }
   ],
   "source": [
    "c"
   ]
  },
  {
   "cell_type": "code",
   "execution_count": 14,
   "id": "927d7fe3-9359-446e-b81d-f4e58ca085db",
   "metadata": {},
   "outputs": [
    {
     "data": {
      "text/plain": [
       "(3, 3)"
      ]
     },
     "execution_count": 14,
     "metadata": {},
     "output_type": "execute_result"
    }
   ],
   "source": [
    "c.shape"
   ]
  },
  {
   "cell_type": "markdown",
   "id": "f495d7a4-aa82-4e6c-b160-1e595eb0e4ad",
   "metadata": {},
   "source": [
    "When concatenating two arrays with `axis=1`, the arrays must have the same length of the first axis."
   ]
  },
  {
   "cell_type": "code",
   "execution_count": 15,
   "id": "e968e38c-6313-48c9-beb4-5388af01fda6",
   "metadata": {},
   "outputs": [],
   "source": [
    "d = np.array([[10], [11], [12]])"
   ]
  },
  {
   "cell_type": "code",
   "execution_count": 16,
   "id": "a2c9a0dc-8aec-4055-8241-b1b7841d8f09",
   "metadata": {},
   "outputs": [
    {
     "data": {
      "text/plain": [
       "array([[10],\n",
       "       [11],\n",
       "       [12]])"
      ]
     },
     "execution_count": 16,
     "metadata": {},
     "output_type": "execute_result"
    }
   ],
   "source": [
    "d"
   ]
  },
  {
   "cell_type": "code",
   "execution_count": 17,
   "id": "4154d522-1db3-492d-8235-4351026e60cc",
   "metadata": {},
   "outputs": [
    {
     "data": {
      "text/plain": [
       "(3, 1)"
      ]
     },
     "execution_count": 17,
     "metadata": {},
     "output_type": "execute_result"
    }
   ],
   "source": [
    "d.shape"
   ]
  },
  {
   "cell_type": "code",
   "execution_count": 18,
   "id": "2a2603b7-9baf-4db6-bf24-30ce76e87bd1",
   "metadata": {},
   "outputs": [],
   "source": [
    "e = np.concatenate((d, c), axis=1)"
   ]
  },
  {
   "cell_type": "code",
   "execution_count": 19,
   "id": "45ac860e-0732-4024-a9be-6b3b8b6b7c73",
   "metadata": {},
   "outputs": [
    {
     "data": {
      "text/plain": [
       "array([[10,  1,  2,  3],\n",
       "       [11,  4,  5,  6],\n",
       "       [12,  7,  8,  9]])"
      ]
     },
     "execution_count": 19,
     "metadata": {},
     "output_type": "execute_result"
    }
   ],
   "source": [
    "e"
   ]
  },
  {
   "cell_type": "code",
   "execution_count": 20,
   "id": "cdaed38b-545f-493c-b6d7-a2c0e83ed22c",
   "metadata": {},
   "outputs": [
    {
     "data": {
      "text/plain": [
       "(3, 4)"
      ]
     },
     "execution_count": 20,
     "metadata": {},
     "output_type": "execute_result"
    }
   ],
   "source": [
    "e.shape"
   ]
  },
  {
   "cell_type": "markdown",
   "id": "04fcc8dc-a9e9-4eec-8313-a506faaf857c",
   "metadata": {},
   "source": [
    "## Accessing data along axes"
   ]
  },
  {
   "cell_type": "code",
   "execution_count": 21,
   "id": "e86db940-f2a7-4be1-a99a-e8b857a1896d",
   "metadata": {},
   "outputs": [],
   "source": [
    "rng = np.random.default_rng(0)"
   ]
  },
  {
   "cell_type": "code",
   "execution_count": 22,
   "id": "0682da79-eaaf-40f1-9149-37efd429ed9f",
   "metadata": {},
   "outputs": [],
   "source": [
    "a3d = rng.random((2, 4, 3))"
   ]
  },
  {
   "cell_type": "code",
   "execution_count": 23,
   "id": "e0e45186-3db7-4d54-a530-18ce0dd89325",
   "metadata": {},
   "outputs": [
    {
     "data": {
      "text/plain": [
       "array([[[0.63696169, 0.26978671, 0.04097352],\n",
       "        [0.01652764, 0.81327024, 0.91275558],\n",
       "        [0.60663578, 0.72949656, 0.54362499],\n",
       "        [0.93507242, 0.81585355, 0.0027385 ]],\n",
       "\n",
       "       [[0.85740428, 0.03358558, 0.72965545],\n",
       "        [0.17565562, 0.86317892, 0.54146122],\n",
       "        [0.29971189, 0.42268722, 0.02831967],\n",
       "        [0.12428328, 0.67062441, 0.64718951]]])"
      ]
     },
     "execution_count": 23,
     "metadata": {},
     "output_type": "execute_result"
    }
   ],
   "source": [
    "a3d"
   ]
  },
  {
   "cell_type": "markdown",
   "id": "714f44ea-70da-4f0c-b20c-0a23d25ded4e",
   "metadata": {},
   "source": [
    "Accessing a single value:"
   ]
  },
  {
   "cell_type": "code",
   "execution_count": 24,
   "id": "fc884450-73c3-4b6b-b898-c98bc6b792da",
   "metadata": {},
   "outputs": [
    {
     "data": {
      "text/plain": [
       "0.5414612202490917"
      ]
     },
     "execution_count": 24,
     "metadata": {},
     "output_type": "execute_result"
    }
   ],
   "source": [
    "a3d[1, 1, 2]"
   ]
  },
  {
   "cell_type": "markdown",
   "id": "9b1b0def-0286-4f70-8401-4eda131f48d3",
   "metadata": {},
   "source": [
    "Getting all values along `axis=2` gives you a **vector**:"
   ]
  },
  {
   "cell_type": "code",
   "execution_count": 25,
   "id": "6b695535-bc93-4163-87a2-e3c7adadb22f",
   "metadata": {},
   "outputs": [
    {
     "data": {
      "text/plain": [
       "array([0.17565562, 0.86317892, 0.54146122])"
      ]
     },
     "execution_count": 25,
     "metadata": {},
     "output_type": "execute_result"
    }
   ],
   "source": [
    "a3d[1, 1, :]"
   ]
  },
  {
   "cell_type": "markdown",
   "id": "7493d41f-2132-4e0d-96a6-6f429c70b307",
   "metadata": {},
   "source": [
    "Also along `axis=1`:"
   ]
  },
  {
   "cell_type": "code",
   "execution_count": 26,
   "id": "d974116d-d9bb-40d4-bffc-48bfe49a9d1e",
   "metadata": {},
   "outputs": [
    {
     "data": {
      "text/plain": [
       "array([0.72965545, 0.54146122, 0.02831967, 0.64718951])"
      ]
     },
     "execution_count": 26,
     "metadata": {},
     "output_type": "execute_result"
    }
   ],
   "source": [
    "a3d[1, :, 2]"
   ]
  },
  {
   "cell_type": "markdown",
   "id": "082f3f0d-48bc-4d25-9454-e64da20da90b",
   "metadata": {},
   "source": [
    "And along `axis=0`:"
   ]
  },
  {
   "cell_type": "code",
   "execution_count": 27,
   "id": "587ce01f-9bca-4c5d-8bfb-46e15ec7cb36",
   "metadata": {},
   "outputs": [
    {
     "data": {
      "text/plain": [
       "array([0.91275558, 0.54146122])"
      ]
     },
     "execution_count": 27,
     "metadata": {},
     "output_type": "execute_result"
    }
   ],
   "source": [
    "a3d[:, 1, 2]"
   ]
  },
  {
   "cell_type": "markdown",
   "id": "9436873b-9643-40d9-a959-ecc1e7e66c92",
   "metadata": {},
   "source": [
    "Accessing along two axes, for instance `axis=0` and `axis=2`, yields a **matrix**:"
   ]
  },
  {
   "cell_type": "code",
   "execution_count": 28,
   "id": "d88946fd-66bb-4f9d-8362-f9aa833f266d",
   "metadata": {},
   "outputs": [
    {
     "data": {
      "text/plain": [
       "array([[0.01652764, 0.81327024, 0.91275558],\n",
       "       [0.17565562, 0.86317892, 0.54146122]])"
      ]
     },
     "execution_count": 28,
     "metadata": {},
     "output_type": "execute_result"
    }
   ],
   "source": [
    "a3d[:, 1, :]"
   ]
  },
  {
   "cell_type": "markdown",
   "id": "d90df228-52db-440a-b469-9feee8f8210b",
   "metadata": {},
   "source": [
    "Also along `axis=0` and `axis=1`:"
   ]
  },
  {
   "cell_type": "code",
   "execution_count": 29,
   "id": "7ae33143-f95c-4275-b022-986443d21dc0",
   "metadata": {},
   "outputs": [
    {
     "data": {
      "text/plain": [
       "array([[0.04097352, 0.91275558, 0.54362499, 0.0027385 ],\n",
       "       [0.72965545, 0.54146122, 0.02831967, 0.64718951]])"
      ]
     },
     "execution_count": 29,
     "metadata": {},
     "output_type": "execute_result"
    }
   ],
   "source": [
    "a3d[:, :, 2]"
   ]
  },
  {
   "cell_type": "markdown",
   "id": "03a6ddee-a2e8-4ef9-88f5-59c561a85c0d",
   "metadata": {},
   "source": [
    "And along `axis=1` and `axis=2`:"
   ]
  },
  {
   "cell_type": "code",
   "execution_count": 30,
   "id": "bb88bd97-870c-47c6-8afb-3c7dc1dedf10",
   "metadata": {},
   "outputs": [
    {
     "data": {
      "text/plain": [
       "array([[0.85740428, 0.03358558, 0.72965545],\n",
       "       [0.17565562, 0.86317892, 0.54146122],\n",
       "       [0.29971189, 0.42268722, 0.02831967],\n",
       "       [0.12428328, 0.67062441, 0.64718951]])"
      ]
     },
     "execution_count": 30,
     "metadata": {},
     "output_type": "execute_result"
    }
   ],
   "source": [
    "a3d[1, :, :]"
   ]
  }
 ],
 "metadata": {
  "kernelspec": {
   "display_name": "Python 3 (ipykernel)",
   "language": "python",
   "name": "python3"
  },
  "language_info": {
   "codemirror_mode": {
    "name": "ipython",
    "version": 3
   },
   "file_extension": ".py",
   "mimetype": "text/x-python",
   "name": "python",
   "nbconvert_exporter": "python",
   "pygments_lexer": "ipython3",
   "version": "3.9.6"
  }
 },
 "nbformat": 4,
 "nbformat_minor": 5
}
