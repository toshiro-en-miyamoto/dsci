{
 "cells": [
  {
   "cell_type": "markdown",
   "id": "18bdf6f6-b7a2-4981-b8c6-8f8fa7e63be4",
   "metadata": {},
   "source": [
    "# Index"
   ]
  },
  {
   "cell_type": "code",
   "execution_count": 1,
   "id": "fe2a1fd2-23d8-417a-abc9-35b50db8a740",
   "metadata": {},
   "outputs": [],
   "source": [
    "import numpy as np"
   ]
  },
  {
   "cell_type": "code",
   "execution_count": 2,
   "id": "0c4331b7-3695-4493-8acb-9c9392a54f59",
   "metadata": {},
   "outputs": [],
   "source": [
    "import pandas as pd"
   ]
  },
  {
   "cell_type": "markdown",
   "id": "9630f66b-19c6-43cb-a7eb-bfd410a78de2",
   "metadata": {
    "tags": []
   },
   "source": [
    "## Various types of `pandas.Index`"
   ]
  },
  {
   "cell_type": "markdown",
   "id": "defb3a65-0bdf-4b77-8947-3c74e1e4a5a3",
   "metadata": {
    "tags": []
   },
   "source": [
    "The pandas `Index` class and its subclasses can be view as implementing an ordered multiset. Duplicates are allowed."
   ]
  },
  {
   "cell_type": "code",
   "execution_count": 3,
   "id": "64f4fed9-6ba9-4387-a407-403449e8f30e",
   "metadata": {},
   "outputs": [],
   "source": [
    "index_str = pd.Index(['alfa', 'bravo', 'charlie', 'delta'])"
   ]
  },
  {
   "cell_type": "code",
   "execution_count": 4,
   "id": "3a4346fb-0746-4c65-bec6-fff01611d20e",
   "metadata": {},
   "outputs": [
    {
     "data": {
      "text/plain": [
       "Index(['alfa', 'bravo', 'charlie', 'delta'], dtype='object')"
      ]
     },
     "execution_count": 4,
     "metadata": {},
     "output_type": "execute_result"
    }
   ],
   "source": [
    "index_str"
   ]
  },
  {
   "cell_type": "code",
   "execution_count": 5,
   "id": "c141e32e-129d-4c5a-a705-3efa5ef9812d",
   "metadata": {},
   "outputs": [],
   "source": [
    "index_int = pd.Index([5, 4, 1, 2], dtype=np.uint64)"
   ]
  },
  {
   "cell_type": "code",
   "execution_count": 6,
   "id": "47c598f8-f27f-4ca1-af22-0e969e1c0635",
   "metadata": {},
   "outputs": [
    {
     "data": {
      "text/plain": [
       "UInt64Index([5, 4, 1, 2], dtype='uint64')"
      ]
     },
     "execution_count": 6,
     "metadata": {},
     "output_type": "execute_result"
    }
   ],
   "source": [
    "index_int"
   ]
  },
  {
   "cell_type": "code",
   "execution_count": 7,
   "id": "ddb0d56e-8142-4038-9743-76b811a9b3bd",
   "metadata": {},
   "outputs": [],
   "source": [
    "index_date = pd.date_range('2020-01-01', '2020-01-04')"
   ]
  },
  {
   "cell_type": "code",
   "execution_count": 8,
   "id": "f554792e-895f-4c62-a6a9-d180042bfb4d",
   "metadata": {},
   "outputs": [
    {
     "data": {
      "text/plain": [
       "DatetimeIndex(['2020-01-01', '2020-01-02', '2020-01-03', '2020-01-04'], dtype='datetime64[ns]', freq='D')"
      ]
     },
     "execution_count": 8,
     "metadata": {},
     "output_type": "execute_result"
    }
   ],
   "source": [
    "index_date"
   ]
  },
  {
   "cell_type": "code",
   "execution_count": 9,
   "id": "aefafe8d-8536-4dda-b06f-ac9e15ec92ba",
   "metadata": {},
   "outputs": [],
   "source": [
    "index_quater = pd.period_range('2020-03', freq='3M', periods=4)"
   ]
  },
  {
   "cell_type": "code",
   "execution_count": 10,
   "id": "20bf0cea-d111-4a55-a8f6-88e378e7d56c",
   "metadata": {},
   "outputs": [
    {
     "data": {
      "text/plain": [
       "PeriodIndex(['2020-03', '2020-06', '2020-09', '2020-12'], dtype='period[3M]')"
      ]
     },
     "execution_count": 10,
     "metadata": {},
     "output_type": "execute_result"
    }
   ],
   "source": [
    "index_quater"
   ]
  },
  {
   "cell_type": "markdown",
   "id": "3e2e21b1-0e29-4a4e-9235-e6b25b1ad928",
   "metadata": {},
   "source": [
    "## `Series` and `Index`"
   ]
  },
  {
   "cell_type": "code",
   "execution_count": 11,
   "id": "388ad2cb-f435-495f-a4c5-60f02105d141",
   "metadata": {},
   "outputs": [],
   "source": [
    "rng = np.random.default_rng()"
   ]
  },
  {
   "cell_type": "markdown",
   "id": "08070cfd-207a-4931-8083-8d6a9e182577",
   "metadata": {},
   "source": [
    "`Series` objects are assigned `RangeIndex` by default."
   ]
  },
  {
   "cell_type": "code",
   "execution_count": 12,
   "id": "944887cd-4eee-482f-b7d8-12512dab55ae",
   "metadata": {},
   "outputs": [],
   "source": [
    "s = pd.Series(rng.random(4))"
   ]
  },
  {
   "cell_type": "code",
   "execution_count": 13,
   "id": "89c06ead-9f04-47f4-9f55-9d837b19c973",
   "metadata": {},
   "outputs": [
    {
     "data": {
      "text/plain": [
       "0    0.612977\n",
       "1    0.022185\n",
       "2    0.036508\n",
       "3    0.441480\n",
       "dtype: float64"
      ]
     },
     "execution_count": 13,
     "metadata": {},
     "output_type": "execute_result"
    }
   ],
   "source": [
    "s"
   ]
  },
  {
   "cell_type": "code",
   "execution_count": 14,
   "id": "d80c5fd4-f34b-4978-a056-142d0630ec55",
   "metadata": {},
   "outputs": [
    {
     "data": {
      "text/plain": [
       "RangeIndex(start=0, stop=4, step=1)"
      ]
     },
     "execution_count": 14,
     "metadata": {},
     "output_type": "execute_result"
    }
   ],
   "source": [
    "s.index"
   ]
  },
  {
   "cell_type": "markdown",
   "id": "44a2995f-3200-401e-bb83-77675e8c1c2a",
   "metadata": {},
   "source": [
    "You can assign your own index."
   ]
  },
  {
   "cell_type": "code",
   "execution_count": 15,
   "id": "228ec983-428a-4414-9599-bc9c8c8e163d",
   "metadata": {},
   "outputs": [],
   "source": [
    "index_str = pd.Index(['alfa', 'bravo', 'charlie', 'delta'])"
   ]
  },
  {
   "cell_type": "code",
   "execution_count": 16,
   "id": "0f7814e6-e24c-48f0-8a3b-c98f958a66b0",
   "metadata": {},
   "outputs": [
    {
     "data": {
      "text/plain": [
       "Index(['alfa', 'bravo', 'charlie', 'delta'], dtype='object')"
      ]
     },
     "execution_count": 16,
     "metadata": {},
     "output_type": "execute_result"
    }
   ],
   "source": [
    "index_str"
   ]
  },
  {
   "cell_type": "code",
   "execution_count": 17,
   "id": "6a3e79c3-2853-4280-bdd5-42f13bc32d1c",
   "metadata": {},
   "outputs": [],
   "source": [
    "s = pd.Series(rng.random(4), index=index_str)"
   ]
  },
  {
   "cell_type": "code",
   "execution_count": 18,
   "id": "8352d447-2140-4fcc-b101-749c3a72e512",
   "metadata": {},
   "outputs": [
    {
     "data": {
      "text/plain": [
       "alfa       0.020006\n",
       "bravo      0.234993\n",
       "charlie    0.616254\n",
       "delta      0.751752\n",
       "dtype: float64"
      ]
     },
     "execution_count": 18,
     "metadata": {},
     "output_type": "execute_result"
    }
   ],
   "source": [
    "s"
   ]
  },
  {
   "cell_type": "code",
   "execution_count": 19,
   "id": "1682200f-56e3-487e-a1a9-c30a8a7f6858",
   "metadata": {},
   "outputs": [
    {
     "data": {
      "text/plain": [
       "Index(['alfa', 'bravo', 'charlie', 'delta'], dtype='object')"
      ]
     },
     "execution_count": 19,
     "metadata": {},
     "output_type": "execute_result"
    }
   ],
   "source": [
    "s.index"
   ]
  },
  {
   "cell_type": "markdown",
   "id": "240e4dd6-e07f-4a2e-868f-8e523add0db7",
   "metadata": {},
   "source": [
    "### Organizing data in a `Series` object by the index"
   ]
  },
  {
   "cell_type": "code",
   "execution_count": 20,
   "id": "b3bb79bc-1037-4805-9075-f75e87d22339",
   "metadata": {},
   "outputs": [
    {
     "data": {
      "text/plain": [
       "delta      0.751752\n",
       "charlie    0.616254\n",
       "bravo      0.234993\n",
       "alfa       0.020006\n",
       "dtype: float64"
      ]
     },
     "execution_count": 20,
     "metadata": {},
     "output_type": "execute_result"
    }
   ],
   "source": [
    "s.sort_index(ascending=False)"
   ]
  },
  {
   "cell_type": "markdown",
   "id": "fc975618-69c9-47e3-ad52-5730b5d853e9",
   "metadata": {},
   "source": [
    "That is contrast to `sort_values()` which sorts data by values."
   ]
  },
  {
   "cell_type": "code",
   "execution_count": 21,
   "id": "33cfdb86-d2f7-46ae-a9bd-cb1dff9a9f0c",
   "metadata": {},
   "outputs": [
    {
     "data": {
      "text/plain": [
       "delta      0.751752\n",
       "charlie    0.616254\n",
       "bravo      0.234993\n",
       "alfa       0.020006\n",
       "dtype: float64"
      ]
     },
     "execution_count": 21,
     "metadata": {},
     "output_type": "execute_result"
    }
   ],
   "source": [
    "s.sort_values(ascending=False)"
   ]
  },
  {
   "cell_type": "markdown",
   "id": "bfcb854d-2261-4b51-b6da-f89a144bb5b4",
   "metadata": {},
   "source": [
    "You can change the order of values with a new index."
   ]
  },
  {
   "cell_type": "code",
   "execution_count": 22,
   "id": "9f4e7e02-538d-490e-8583-c2c88995a3f9",
   "metadata": {},
   "outputs": [],
   "source": [
    "new_index = pd.Index(['bravo', 'alfa', 'delta', 'charlie'])"
   ]
  },
  {
   "cell_type": "code",
   "execution_count": 23,
   "id": "5f870e33-f515-46a2-a3ce-b96fe6dac4a3",
   "metadata": {},
   "outputs": [
    {
     "data": {
      "text/plain": [
       "Index(['bravo', 'alfa', 'delta', 'charlie'], dtype='object')"
      ]
     },
     "execution_count": 23,
     "metadata": {},
     "output_type": "execute_result"
    }
   ],
   "source": [
    "new_index"
   ]
  },
  {
   "cell_type": "code",
   "execution_count": 24,
   "id": "e1a77b53-df60-41c9-93f9-2a10201c4240",
   "metadata": {},
   "outputs": [
    {
     "data": {
      "text/plain": [
       "bravo      0.234993\n",
       "alfa       0.020006\n",
       "delta      0.751752\n",
       "charlie    0.616254\n",
       "dtype: float64"
      ]
     },
     "execution_count": 24,
     "metadata": {},
     "output_type": "execute_result"
    }
   ],
   "source": [
    "s.reindex(new_index)"
   ]
  },
  {
   "cell_type": "markdown",
   "id": "fb8c94c3-ddda-4c22-8a1e-5ceafa5ff3db",
   "metadata": {},
   "source": [
    "## `Series` and `MultiIndex`"
   ]
  },
  {
   "cell_type": "markdown",
   "id": "e890d114-0418-4d4e-834d-cd3c5eb9fcd4",
   "metadata": {},
   "source": [
    "Hierarchical / multi-level indexing enables you to store and manipulate data with an arbitrary number of dimensions in lower dimensional data structures like `Series` (1d) and `DataFrame` (2d)."
   ]
  },
  {
   "cell_type": "markdown",
   "id": "84b2b668-05e0-4056-94e2-20fb16c693df",
   "metadata": {},
   "source": [
    "The `padas.MultiIndex` object is the hierarchical analogue of the standard `pandas.Index` object which typically stores the axis labels in pandas objects. You can think of `MultiIndex` as an array of tuples where each tuple is unique."
   ]
  },
  {
   "cell_type": "code",
   "execution_count": 25,
   "id": "b3ef9222-2a83-4afe-a24c-d7efa407a5f2",
   "metadata": {},
   "outputs": [],
   "source": [
    "tuples = [(i,j) for i in ['alfa','bravo'] for j in [101, 102, 103]]"
   ]
  },
  {
   "cell_type": "code",
   "execution_count": 26,
   "id": "f2e93b2c-39fb-48b0-8d70-7d41dd47f5c7",
   "metadata": {},
   "outputs": [
    {
     "data": {
      "text/plain": [
       "[('alfa', 101),\n",
       " ('alfa', 102),\n",
       " ('alfa', 103),\n",
       " ('bravo', 101),\n",
       " ('bravo', 102),\n",
       " ('bravo', 103)]"
      ]
     },
     "execution_count": 26,
     "metadata": {},
     "output_type": "execute_result"
    }
   ],
   "source": [
    "tuples"
   ]
  },
  {
   "cell_type": "code",
   "execution_count": 27,
   "id": "fcd3a593-9175-4de4-9762-8c8dc754964f",
   "metadata": {},
   "outputs": [],
   "source": [
    "multi_index = pd.MultiIndex.from_tuples(tuples)"
   ]
  },
  {
   "cell_type": "code",
   "execution_count": 28,
   "id": "21033331-f529-48bd-a1cb-cfb289246869",
   "metadata": {},
   "outputs": [
    {
     "data": {
      "text/plain": [
       "MultiIndex([( 'alfa', 101),\n",
       "            ( 'alfa', 102),\n",
       "            ( 'alfa', 103),\n",
       "            ('bravo', 101),\n",
       "            ('bravo', 102),\n",
       "            ('bravo', 103)],\n",
       "           )"
      ]
     },
     "execution_count": 28,
     "metadata": {},
     "output_type": "execute_result"
    }
   ],
   "source": [
    "multi_index"
   ]
  },
  {
   "cell_type": "code",
   "execution_count": 29,
   "id": "af05c695-f32c-43b6-98f8-cfff6eb244d7",
   "metadata": {},
   "outputs": [],
   "source": [
    "s = pd.Series(\n",
    "    data=[\n",
    "        'Alfa/101',  'Alfa/102',  'Alfa/103',\n",
    "        'Bravo/101', 'Bravo/102', 'Bravo/103',\n",
    "    ],\n",
    "    index = multi_index\n",
    ")"
   ]
  },
  {
   "cell_type": "code",
   "execution_count": 30,
   "id": "c0be97ae-ee1a-4ba2-9040-5df268009303",
   "metadata": {},
   "outputs": [
    {
     "data": {
      "text/plain": [
       "alfa   101     Alfa/101\n",
       "       102     Alfa/102\n",
       "       103     Alfa/103\n",
       "bravo  101    Bravo/101\n",
       "       102    Bravo/102\n",
       "       103    Bravo/103\n",
       "dtype: object"
      ]
     },
     "execution_count": 30,
     "metadata": {},
     "output_type": "execute_result"
    }
   ],
   "source": [
    "s"
   ]
  },
  {
   "cell_type": "markdown",
   "id": "5bff6154-71ac-4abe-821c-e58370cbd0e5",
   "metadata": {},
   "source": [
    "It’s worth keeping in mind that there’s nothing preventing you from using tuples as atomic labels. The reason that the MultiIndex matters is that it can allow you to do grouping, selection, and reshaping operations."
   ]
  },
  {
   "cell_type": "code",
   "execution_count": 31,
   "id": "2f639b67-2b83-4c12-a98d-07d59ef2699c",
   "metadata": {},
   "outputs": [
    {
     "data": {
      "text/plain": [
       "(alfa, 101)      Alfa/101\n",
       "(alfa, 102)      Alfa/102\n",
       "(alfa, 103)      Alfa/103\n",
       "(bravo, 101)    Bravo/101\n",
       "(bravo, 102)    Bravo/102\n",
       "(bravo, 103)    Bravo/103\n",
       "dtype: object"
      ]
     },
     "execution_count": 31,
     "metadata": {},
     "output_type": "execute_result"
    }
   ],
   "source": [
    "pd.Series(\n",
    "    data=[\n",
    "        'Alfa/101',  'Alfa/102',  'Alfa/103',\n",
    "        'Bravo/101', 'Bravo/102', 'Bravo/103',\n",
    "    ],\n",
    "    index = tuples\n",
    ")"
   ]
  },
  {
   "cell_type": "markdown",
   "id": "a69a531e-673d-46a0-a44c-dac6744e2c5d",
   "metadata": {
    "tags": []
   },
   "source": [
    "### Accessing data in a `Series` object with the multi-level index"
   ]
  },
  {
   "cell_type": "code",
   "execution_count": 32,
   "id": "508e6fa5-3757-4966-858e-6e4ff7d84a6c",
   "metadata": {},
   "outputs": [
    {
     "data": {
      "text/plain": [
       "'Alfa/102'"
      ]
     },
     "execution_count": 32,
     "metadata": {},
     "output_type": "execute_result"
    }
   ],
   "source": [
    "s.loc[('alfa', 102)]"
   ]
  },
  {
   "cell_type": "code",
   "execution_count": 33,
   "id": "b34912c0-4596-4134-9865-84a82e408cfd",
   "metadata": {},
   "outputs": [
    {
     "data": {
      "text/plain": [
       "alfa  101    Alfa/101\n",
       "      102    Alfa/102\n",
       "      103    Alfa/103\n",
       "dtype: object"
      ]
     },
     "execution_count": 33,
     "metadata": {},
     "output_type": "execute_result"
    }
   ],
   "source": [
    "s.loc[('alfa',slice(None))]"
   ]
  },
  {
   "cell_type": "code",
   "execution_count": 34,
   "id": "4550754f-5f5e-459b-828d-e5652c03e5d0",
   "metadata": {},
   "outputs": [
    {
     "data": {
      "text/plain": [
       "bravo  101    Bravo/101\n",
       "       103    Bravo/103\n",
       "dtype: object"
      ]
     },
     "execution_count": 34,
     "metadata": {},
     "output_type": "execute_result"
    }
   ],
   "source": [
    "s.loc[('bravo', [101, 103])]"
   ]
  },
  {
   "cell_type": "code",
   "execution_count": 35,
   "id": "5e63d28f-e281-4400-a516-d3c26939a7a7",
   "metadata": {},
   "outputs": [
    {
     "data": {
      "text/plain": [
       "bravo  101    Bravo/101\n",
       "       102    Bravo/102\n",
       "dtype: object"
      ]
     },
     "execution_count": 35,
     "metadata": {},
     "output_type": "execute_result"
    }
   ],
   "source": [
    "s.loc[('bravo', slice(101, 102))]"
   ]
  },
  {
   "cell_type": "markdown",
   "id": "8a2f7aad-222f-4904-bffd-167c9cf95908",
   "metadata": {
    "tags": []
   },
   "source": [
    "### Knowing values in the multi-level index"
   ]
  },
  {
   "cell_type": "code",
   "execution_count": 36,
   "id": "b45a185d-4cf1-4850-8236-e58babd7d05f",
   "metadata": {},
   "outputs": [
    {
     "data": {
      "text/plain": [
       "MultiIndex([( 'alfa', 101),\n",
       "            ( 'alfa', 102),\n",
       "            ( 'alfa', 103),\n",
       "            ('bravo', 101),\n",
       "            ('bravo', 102),\n",
       "            ('bravo', 103)],\n",
       "           )"
      ]
     },
     "execution_count": 36,
     "metadata": {},
     "output_type": "execute_result"
    }
   ],
   "source": [
    "multi_index"
   ]
  },
  {
   "cell_type": "code",
   "execution_count": 37,
   "id": "1be0069f-5602-41d5-87dd-2df9b11cce99",
   "metadata": {},
   "outputs": [
    {
     "data": {
      "text/plain": [
       "array([('alfa', 101), ('alfa', 102), ('alfa', 103), ('bravo', 101),\n",
       "       ('bravo', 102), ('bravo', 103)], dtype=object)"
      ]
     },
     "execution_count": 37,
     "metadata": {},
     "output_type": "execute_result"
    }
   ],
   "source": [
    "multi_index.values"
   ]
  },
  {
   "cell_type": "code",
   "execution_count": 38,
   "id": "44067ce2-175e-4dfb-9f5d-cf59c79717de",
   "metadata": {},
   "outputs": [
    {
     "data": {
      "text/plain": [
       "array([('alfa', 101), ('alfa', 102), ('alfa', 103), ('bravo', 101),\n",
       "       ('bravo', 102), ('bravo', 103)], dtype=object)"
      ]
     },
     "execution_count": 38,
     "metadata": {},
     "output_type": "execute_result"
    }
   ],
   "source": [
    "multi_index.to_numpy()"
   ]
  },
  {
   "cell_type": "code",
   "execution_count": 39,
   "id": "40d62891-8dfd-481c-bba0-757aeea1431a",
   "metadata": {},
   "outputs": [
    {
     "data": {
      "text/plain": [
       "[('alfa', 101),\n",
       " ('alfa', 102),\n",
       " ('alfa', 103),\n",
       " ('bravo', 101),\n",
       " ('bravo', 102),\n",
       " ('bravo', 103)]"
      ]
     },
     "execution_count": 39,
     "metadata": {},
     "output_type": "execute_result"
    }
   ],
   "source": [
    "multi_index.to_list()"
   ]
  },
  {
   "cell_type": "code",
   "execution_count": 40,
   "id": "6d418fc4-e06a-4aca-b586-dbe0545ed2a4",
   "metadata": {},
   "outputs": [
    {
     "data": {
      "text/plain": [
       "FrozenList([['alfa', 'bravo'], [101, 102, 103]])"
      ]
     },
     "execution_count": 40,
     "metadata": {},
     "output_type": "execute_result"
    }
   ],
   "source": [
    "multi_index.levels"
   ]
  },
  {
   "cell_type": "code",
   "execution_count": 41,
   "id": "16a0dbab-1e8e-4b20-ae09-56905b306013",
   "metadata": {},
   "outputs": [
    {
     "data": {
      "text/plain": [
       "Index(['alfa', 'alfa', 'alfa', 'bravo', 'bravo', 'bravo'], dtype='object')"
      ]
     },
     "execution_count": 41,
     "metadata": {},
     "output_type": "execute_result"
    }
   ],
   "source": [
    "s.index.get_level_values(0)"
   ]
  },
  {
   "cell_type": "code",
   "execution_count": 42,
   "id": "8e8d023d-1738-48c4-9864-a5b19d6cf18e",
   "metadata": {},
   "outputs": [
    {
     "data": {
      "text/plain": [
       "Int64Index([101, 102, 103, 101, 102, 103], dtype='int64')"
      ]
     },
     "execution_count": 42,
     "metadata": {},
     "output_type": "execute_result"
    }
   ],
   "source": [
    "s.index.get_level_values(1)"
   ]
  },
  {
   "cell_type": "markdown",
   "id": "5af99a81-f4f6-421b-9750-da12a8aa6594",
   "metadata": {
    "tags": []
   },
   "source": [
    "### Organizing values in a multi-level index"
   ]
  },
  {
   "cell_type": "code",
   "execution_count": 43,
   "id": "c63d8904-29ce-48c3-9dda-efa3d13f860e",
   "metadata": {},
   "outputs": [
    {
     "data": {
      "text/plain": [
       "MultiIndex([( 'alfa', 101),\n",
       "            ( 'alfa', 102),\n",
       "            ( 'alfa', 103),\n",
       "            ('bravo', 101),\n",
       "            ('bravo', 102),\n",
       "            ('bravo', 103)],\n",
       "           )"
      ]
     },
     "execution_count": 43,
     "metadata": {},
     "output_type": "execute_result"
    }
   ],
   "source": [
    "multi_index"
   ]
  },
  {
   "cell_type": "code",
   "execution_count": 44,
   "id": "d3d1bc97-820e-4ada-b42b-3cb812a9b573",
   "metadata": {},
   "outputs": [
    {
     "data": {
      "text/plain": [
       "(MultiIndex([('bravo', 103),\n",
       "             ('bravo', 102),\n",
       "             ('bravo', 101),\n",
       "             ( 'alfa', 103),\n",
       "             ( 'alfa', 102),\n",
       "             ( 'alfa', 101)],\n",
       "            ),\n",
       " array([5, 4, 3, 2, 1, 0]))"
      ]
     },
     "execution_count": 44,
     "metadata": {},
     "output_type": "execute_result"
    }
   ],
   "source": [
    "multi_index.sortlevel(level=0, ascending=False, sort_remaining=True)"
   ]
  },
  {
   "cell_type": "code",
   "execution_count": 45,
   "id": "7ea45040-db63-4d89-9a1b-c5331f7cfe06",
   "metadata": {},
   "outputs": [
    {
     "data": {
      "text/plain": [
       "(MultiIndex([('bravo', 103),\n",
       "             ('bravo', 102),\n",
       "             ('bravo', 101),\n",
       "             ( 'alfa', 103),\n",
       "             ( 'alfa', 102),\n",
       "             ( 'alfa', 101)],\n",
       "            ),\n",
       " array([5, 4, 3, 2, 1, 0]))"
      ]
     },
     "execution_count": 45,
     "metadata": {},
     "output_type": "execute_result"
    }
   ],
   "source": [
    "multi_index.sortlevel(level=0, ascending=False, sort_remaining=False)"
   ]
  },
  {
   "cell_type": "code",
   "execution_count": 46,
   "id": "7384af93-cb1c-4a0d-b1cc-39f0d02f111b",
   "metadata": {},
   "outputs": [
    {
     "data": {
      "text/plain": [
       "(MultiIndex([('bravo', 103),\n",
       "             ( 'alfa', 103),\n",
       "             ('bravo', 102),\n",
       "             ( 'alfa', 102),\n",
       "             ('bravo', 101),\n",
       "             ( 'alfa', 101)],\n",
       "            ),\n",
       " array([5, 2, 4, 1, 3, 0]))"
      ]
     },
     "execution_count": 46,
     "metadata": {},
     "output_type": "execute_result"
    }
   ],
   "source": [
    "multi_index.sortlevel(level=1, ascending=False, sort_remaining=True)"
   ]
  },
  {
   "cell_type": "code",
   "execution_count": 47,
   "id": "d86e7db9-6d9e-4269-842e-343a3e14b138",
   "metadata": {},
   "outputs": [
    {
     "data": {
      "text/plain": [
       "(MultiIndex([('bravo', 103),\n",
       "             ( 'alfa', 103),\n",
       "             ('bravo', 102),\n",
       "             ( 'alfa', 102),\n",
       "             ('bravo', 101),\n",
       "             ( 'alfa', 101)],\n",
       "            ),\n",
       " array([5, 2, 4, 1, 3, 0]))"
      ]
     },
     "execution_count": 47,
     "metadata": {},
     "output_type": "execute_result"
    }
   ],
   "source": [
    "multi_index.sortlevel(level=1, ascending=False, sort_remaining=False)"
   ]
  },
  {
   "cell_type": "markdown",
   "id": "5ce261b8-de1b-4bae-a5a2-40fba4ae4019",
   "metadata": {},
   "source": [
    "### Organizing data in a `Series` object by the multi-level index"
   ]
  },
  {
   "cell_type": "code",
   "execution_count": 48,
   "id": "308763e8-a21c-4449-81bc-34b35cee669f",
   "metadata": {},
   "outputs": [
    {
     "data": {
      "text/plain": [
       "alfa   101     Alfa/101\n",
       "       102     Alfa/102\n",
       "       103     Alfa/103\n",
       "bravo  101    Bravo/101\n",
       "       102    Bravo/102\n",
       "       103    Bravo/103\n",
       "dtype: object"
      ]
     },
     "execution_count": 48,
     "metadata": {},
     "output_type": "execute_result"
    }
   ],
   "source": [
    "s"
   ]
  },
  {
   "cell_type": "code",
   "execution_count": 49,
   "id": "0daf4546-3f0f-45c5-8308-2a2f9831c382",
   "metadata": {},
   "outputs": [
    {
     "data": {
      "text/plain": [
       "bravo  103    Bravo/103\n",
       "       102    Bravo/102\n",
       "       101    Bravo/101\n",
       "alfa   103     Alfa/103\n",
       "       102     Alfa/102\n",
       "       101     Alfa/101\n",
       "dtype: object"
      ]
     },
     "execution_count": 49,
     "metadata": {},
     "output_type": "execute_result"
    }
   ],
   "source": [
    "s.sort_index(ascending=False)"
   ]
  },
  {
   "cell_type": "code",
   "execution_count": 50,
   "id": "d5240b71-6699-402a-843f-b7bc4f2f210b",
   "metadata": {},
   "outputs": [
    {
     "data": {
      "text/plain": [
       "bravo  103    Bravo/103\n",
       "       102    Bravo/102\n",
       "       101    Bravo/101\n",
       "alfa   103     Alfa/103\n",
       "       102     Alfa/102\n",
       "       101     Alfa/101\n",
       "dtype: object"
      ]
     },
     "execution_count": 50,
     "metadata": {},
     "output_type": "execute_result"
    }
   ],
   "source": [
    "s.sort_index(level=0, ascending=False)"
   ]
  },
  {
   "cell_type": "code",
   "execution_count": 51,
   "id": "badd8483-f9b3-490c-a33d-e106cb9dfe5f",
   "metadata": {},
   "outputs": [
    {
     "data": {
      "text/plain": [
       "bravo  103    Bravo/103\n",
       "       102    Bravo/102\n",
       "       101    Bravo/101\n",
       "alfa   103     Alfa/103\n",
       "       102     Alfa/102\n",
       "       101     Alfa/101\n",
       "dtype: object"
      ]
     },
     "execution_count": 51,
     "metadata": {},
     "output_type": "execute_result"
    }
   ],
   "source": [
    "s.sort_index(level=0, ascending=False, sort_remaining=False)"
   ]
  },
  {
   "cell_type": "code",
   "execution_count": 52,
   "id": "cc41e772-8283-4cc8-a29d-1b00414b310a",
   "metadata": {},
   "outputs": [
    {
     "data": {
      "text/plain": [
       "bravo  103    Bravo/103\n",
       "alfa   103     Alfa/103\n",
       "bravo  102    Bravo/102\n",
       "alfa   102     Alfa/102\n",
       "bravo  101    Bravo/101\n",
       "alfa   101     Alfa/101\n",
       "dtype: object"
      ]
     },
     "execution_count": 52,
     "metadata": {},
     "output_type": "execute_result"
    }
   ],
   "source": [
    "s.sort_index(level=1, ascending=False)"
   ]
  },
  {
   "cell_type": "code",
   "execution_count": 53,
   "id": "e24e1b68-0f50-48dd-a250-b986621c7789",
   "metadata": {},
   "outputs": [
    {
     "data": {
      "text/plain": [
       "bravo  103    Bravo/103\n",
       "alfa   103     Alfa/103\n",
       "bravo  102    Bravo/102\n",
       "alfa   102     Alfa/102\n",
       "bravo  101    Bravo/101\n",
       "alfa   101     Alfa/101\n",
       "dtype: object"
      ]
     },
     "execution_count": 53,
     "metadata": {},
     "output_type": "execute_result"
    }
   ],
   "source": [
    "s.sort_index(level=1, ascending=False, sort_remaining=False)"
   ]
  },
  {
   "cell_type": "markdown",
   "id": "344ce824-dd12-48ae-ac25-9df0b1c5a0f1",
   "metadata": {},
   "source": [
    "### Reorganizing data in a `Series` object with multi-level indeces"
   ]
  },
  {
   "cell_type": "code",
   "execution_count": 54,
   "id": "9c53929a-c0c4-405a-884b-a265e34fa3fb",
   "metadata": {},
   "outputs": [
    {
     "data": {
      "text/plain": [
       "alfa   101     Alfa/101\n",
       "       102     Alfa/102\n",
       "       103     Alfa/103\n",
       "bravo  101    Bravo/101\n",
       "       102    Bravo/102\n",
       "       103    Bravo/103\n",
       "dtype: object"
      ]
     },
     "execution_count": 54,
     "metadata": {},
     "output_type": "execute_result"
    }
   ],
   "source": [
    "s"
   ]
  },
  {
   "cell_type": "markdown",
   "id": "d9027ba3-f11d-4836-b684-9223abb225b3",
   "metadata": {},
   "source": [
    "You can reorganize data by reordering a level."
   ]
  },
  {
   "cell_type": "code",
   "execution_count": 55,
   "id": "5ce20a9d-bd7d-44b9-94da-b82698694e76",
   "metadata": {},
   "outputs": [
    {
     "data": {
      "text/plain": [
       "alfa   102     Alfa/102\n",
       "       103     Alfa/103\n",
       "       101     Alfa/101\n",
       "bravo  102    Bravo/102\n",
       "       103    Bravo/103\n",
       "       101    Bravo/101\n",
       "dtype: object"
      ]
     },
     "execution_count": 55,
     "metadata": {},
     "output_type": "execute_result"
    }
   ],
   "source": [
    "s.reindex(index = [102, 103, 101], level = 1)"
   ]
  },
  {
   "cell_type": "markdown",
   "id": "043082d5-80f9-4d5b-9683-e76575986e92",
   "metadata": {},
   "source": [
    "Or by reordering every levels."
   ]
  },
  {
   "cell_type": "code",
   "execution_count": 56,
   "id": "7b1b8303-efb1-40ed-abd5-9661373d2261",
   "metadata": {},
   "outputs": [
    {
     "data": {
      "text/plain": [
       "MultiIndex([( 'alfa', 101),\n",
       "            ( 'alfa', 102),\n",
       "            ( 'alfa', 103),\n",
       "            ('bravo', 101),\n",
       "            ('bravo', 102),\n",
       "            ('bravo', 103)],\n",
       "           )"
      ]
     },
     "execution_count": 56,
     "metadata": {},
     "output_type": "execute_result"
    }
   ],
   "source": [
    "multi_index"
   ]
  },
  {
   "cell_type": "code",
   "execution_count": 57,
   "id": "3f3d1850-ed5e-48d5-8ef9-62dbd2d39af4",
   "metadata": {},
   "outputs": [
    {
     "data": {
      "text/plain": [
       "array(['alfa', 'bravo'], dtype=object)"
      ]
     },
     "execution_count": 57,
     "metadata": {},
     "output_type": "execute_result"
    }
   ],
   "source": [
    "multi_index.levels[0].to_numpy()"
   ]
  },
  {
   "cell_type": "code",
   "execution_count": 58,
   "id": "49dc85ae-63e2-4706-9f6d-6ae02ca6fca6",
   "metadata": {},
   "outputs": [
    {
     "data": {
      "text/plain": [
       "array([101, 102, 103])"
      ]
     },
     "execution_count": 58,
     "metadata": {},
     "output_type": "execute_result"
    }
   ],
   "source": [
    "multi_index.levels[1].to_numpy()"
   ]
  },
  {
   "cell_type": "code",
   "execution_count": 59,
   "id": "eb13026e-2023-4e7e-8ace-a4315c2c7274",
   "metadata": {},
   "outputs": [],
   "source": [
    "new_multi_index = pd.MultiIndex.from_product([\n",
    "    multi_index.levels[0].to_numpy(),\n",
    "    [102, 103, 101]\n",
    "])"
   ]
  },
  {
   "cell_type": "code",
   "execution_count": 60,
   "id": "38ff44aa-2ae1-4979-ade5-9bedf79bc81a",
   "metadata": {},
   "outputs": [
    {
     "data": {
      "text/plain": [
       "MultiIndex([( 'alfa', 102),\n",
       "            ( 'alfa', 103),\n",
       "            ( 'alfa', 101),\n",
       "            ('bravo', 102),\n",
       "            ('bravo', 103),\n",
       "            ('bravo', 101)],\n",
       "           )"
      ]
     },
     "execution_count": 60,
     "metadata": {},
     "output_type": "execute_result"
    }
   ],
   "source": [
    "new_multi_index"
   ]
  },
  {
   "cell_type": "code",
   "execution_count": 61,
   "id": "7f2fd454-e09f-4547-a3f6-51c34bc67652",
   "metadata": {},
   "outputs": [
    {
     "data": {
      "text/plain": [
       "alfa   102     Alfa/102\n",
       "       103     Alfa/103\n",
       "       101     Alfa/101\n",
       "bravo  102    Bravo/102\n",
       "       103    Bravo/103\n",
       "       101    Bravo/101\n",
       "dtype: object"
      ]
     },
     "execution_count": 61,
     "metadata": {},
     "output_type": "execute_result"
    }
   ],
   "source": [
    "s.reindex(new_multi_index)"
   ]
  },
  {
   "cell_type": "code",
   "execution_count": null,
   "id": "59df8b53-b27d-4003-833f-ba777df8f9c3",
   "metadata": {},
   "outputs": [],
   "source": []
  }
 ],
 "metadata": {
  "kernelspec": {
   "display_name": "Python 3 (ipykernel)",
   "language": "python",
   "name": "python3"
  },
  "language_info": {
   "codemirror_mode": {
    "name": "ipython",
    "version": 3
   },
   "file_extension": ".py",
   "mimetype": "text/x-python",
   "name": "python",
   "nbconvert_exporter": "python",
   "pygments_lexer": "ipython3",
   "version": "3.9.6"
  }
 },
 "nbformat": 4,
 "nbformat_minor": 5
}
